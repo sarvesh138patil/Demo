{
 "cells": [
  {
   "cell_type": "code",
   "execution_count": null,
   "id": "c9a2a848-244c-40b8-8881-8d77482c1176",
   "metadata": {},
   "outputs": [],
   "source": [
    "1. What advantages do Excel spreadsheets have over CSV spreadsheets?\n",
    "\n",
    "-->\n",
    "    CSV is a format for saving tabular information into a delimited text file with extension .csv, \n",
    "    whereas Excel is a spreadsheet that keeps files into its own proprietary format viz xls or xlsx.\n",
    "    \n",
    "    CSV is a plain text format with a series of values separated by commas, \n",
    "    whereas Excel is a binary file that holds information about all the worksheets in a workbook.\n",
    "\n",
    "    CSV file can’t perform operations on data, \n",
    "    while Excel can perform operations on the data.\n",
    "    \n",
    "    CSV files are faster and also consume less memory, \n",
    "    whereas Excel consumes more memory while importing data.\n",
    "\n",
    "    CSV files can be opened with any text editor in windows, \n",
    "    while Excel files can’t be opened with text editors."
   ]
  },
  {
   "cell_type": "code",
   "execution_count": null,
   "id": "5ada9b1b-6292-4bf2-8c43-5c62396621f8",
   "metadata": {},
   "outputs": [],
   "source": [
    "2.What do you pass to csv.reader() and csv.writer() to create reader and writer objects?\n",
    "\n",
    "-->\n",
    "    You pass a File object, obtained from a call to open()."
   ]
  },
  {
   "cell_type": "code",
   "execution_count": null,
   "id": "cbd8ef4b-7998-487d-b618-d8a610ec8207",
   "metadata": {},
   "outputs": [],
   "source": [
    "3. What modes do File objects for reader and writer objects need to be opened in?\n",
    "\n",
    "-->\n",
    "    File objects need to be opened in read-binary ('rb') for Reader objects and write-binary ('wb') for Writer objects."
   ]
  },
  {
   "cell_type": "code",
   "execution_count": null,
   "id": "fc7ee80e-5071-4703-9c23-7a8583cd1cca",
   "metadata": {},
   "outputs": [],
   "source": [
    "4. What method takes a list argument and writes it to a CSV file?\n",
    "\n",
    "-->\n",
    "    The writerow() method"
   ]
  },
  {
   "cell_type": "code",
   "execution_count": null,
   "id": "07d3c7ba-57d9-42c1-b82b-2146acc14586",
   "metadata": {},
   "outputs": [],
   "source": [
    "5. What do the keyword arguments delimiter and line terminator do?\n",
    "\n",
    "-->\n",
    "    The delimiter argument changes the string used to separate cells in a row. \n",
    "    The lineterminator argument changes the string used to separate rows."
   ]
  },
  {
   "cell_type": "code",
   "execution_count": null,
   "id": "00b6c6de-992a-49aa-aa7c-0db3bfe23379",
   "metadata": {},
   "outputs": [],
   "source": [
    "6. What function takes a string of JSON data and returns a Python data structure?\n",
    "\n",
    "-->\n",
    "    json.loads()"
   ]
  },
  {
   "cell_type": "code",
   "execution_count": null,
   "id": "905527b8-daea-4372-bb12-c8a44e6a9509",
   "metadata": {},
   "outputs": [],
   "source": [
    "7. What function takes a Python data structure and returns a string of JSON data?\n",
    "\n",
    "-->\n",
    "    json.dumps()"
   ]
  }
 ],
 "metadata": {
  "kernelspec": {
   "display_name": "Python 3 (ipykernel)",
   "language": "python",
   "name": "python3"
  },
  "language_info": {
   "codemirror_mode": {
    "name": "ipython",
    "version": 3
   },
   "file_extension": ".py",
   "mimetype": "text/x-python",
   "name": "python",
   "nbconvert_exporter": "python",
   "pygments_lexer": "ipython3",
   "version": "3.10.6"
  }
 },
 "nbformat": 4,
 "nbformat_minor": 5
}
