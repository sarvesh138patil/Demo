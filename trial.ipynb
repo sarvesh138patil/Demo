{
 "cells": [
  {
   "cell_type": "code",
   "execution_count": 1,
   "metadata": {},
   "outputs": [
    {
     "name": "stdout",
     "output_type": "stream",
     "text": [
      "Hi, from jupyter notebook\n"
     ]
    }
   ],
   "source": [
    "print(\"Hi, from jupyter notebook\")"
   ]
  }
 ],
 "metadata": {
  "kernelspec": {
   "display_name": "env1",
   "language": "python",
   "name": "python3"
  },
  "language_info": {
   "codemirror_mode": {
    "name": "ipython",
    "version": 3
   },
   "file_extension": ".py",
   "mimetype": "text/x-python",
   "name": "python",
   "nbconvert_exporter": "python",
   "pygments_lexer": "ipython3",
   "version": "3.8.15"
  },
  "orig_nbformat": 4,
  "vscode": {
   "interpreter": {
    "hash": "aa8a15a09935a2cdbd81640ca575e74e75258b312738db2523dfb78d3487d379"
   }
  }
 },
 "nbformat": 4,
 "nbformat_minor": 2
}
