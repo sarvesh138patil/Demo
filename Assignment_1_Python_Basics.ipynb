{
 "cells": [
  {
   "cell_type": "raw",
   "id": "ebb70072-6a63-4e8d-bb2d-ff431fc439ad",
   "metadata": {},
   "source": [
    "1. In the below elements which of them are values or an expression? eg:- values can be integer or string and expressions will be mathematical operators.\n",
    "\n",
    "-->\n",
    "    *          --> expression\n",
    "    'hello'    --> values\n",
    "    -87.8      --> values\n",
    "    -          --> expression\n",
    "    /          --> expression\n",
    "    +\t       --> expression\n",
    "    6          --> values\n",
    " "
   ]
  },
  {
   "cell_type": "raw",
   "id": "139244dc-36e7-4cfd-a05a-a38abe4e1ed6",
   "metadata": {},
   "source": [
    "2. What is the difference between string and variable?\n",
    "\n",
    "-->\n",
    "    eg. a = \"apple\"\n",
    "    String is a type of a data \n",
    "    String is a sequence of a characters\n",
    "    Strings always start and end with quotes"
   ]
  },
  {
   "cell_type": "raw",
   "id": "1d85ab01-5f9c-43a6-90f7-2953e08d7576",
   "metadata": {},
   "source": [
    "3. Describe three different data types.\n",
    "\n",
    "-->\n",
    "    Integers, floating-point numbers, and strings."
   ]
  },
  {
   "cell_type": "raw",
   "id": "54dbfa77-7386-4af9-8bfb-7d3a195f4210",
   "metadata": {},
   "source": [
    "4. What is an expression made up of? What do all expressions do?\n",
    "\n",
    "-->\n",
    "    An expression is a combination of values and operators. \n",
    "    All expressions evaluates to a single value."
   ]
  },
  {
   "cell_type": "raw",
   "id": "e0689a5d-a5be-485a-a3db-31f3b7b5e61c",
   "metadata": {},
   "source": [
    "5. This assignment statements, like spam = 10. What is the difference between an expression and a statement?\n",
    "\n",
    "-->\n",
    "    An expression evaluates to a single value. \n",
    "    A statement does not."
   ]
  },
  {
   "cell_type": "raw",
   "id": "d20bd09f-3162-4a16-a6dc-35d567ec648b",
   "metadata": {},
   "source": [
    "6. After running the following code, what does the variable bacon contain?\n",
    "bacon = 22\n",
    "bacon + 1\n",
    "\n",
    "-->\n",
    "    The bacon variable is set to 22.\n",
    "    The bacon + 1 expression does not reassign the value in bacon \n",
    "    (that would need an assignment statement: bacon = bacon + 1)"
   ]
  },
  {
   "cell_type": "raw",
   "id": "92a28f19-8e1e-4cfc-9a43-859c99fbea58",
   "metadata": {},
   "source": [
    "7. What should the values of the following two terms be?\n",
    "'spam' + 'spamspam'\n",
    "'spam' * 3\n",
    "\n",
    "-->\n",
    "    Both expressions evaluate to the string 'spamspamspam'"
   ]
  },
  {
   "cell_type": "raw",
   "id": "9c8d1ee7-468d-449a-9446-34a1d5fe0802",
   "metadata": {},
   "source": [
    "8. Why is eggs a valid variable name while 100 is invalid?\n",
    "\n",
    "-->\n",
    "    Variable names cannot begin with a number."
   ]
  },
  {
   "cell_type": "raw",
   "id": "34a8b5f2-78e4-427f-942b-7881876189e8",
   "metadata": {},
   "source": [
    "9. What three functions can be used to get the integer, floating-point number, or string version of a value?\n",
    "\n",
    "-->\n",
    "    The int(), float(), and str() functions will evaluate to the integer, floating-point number, and string versions of       the value passed to them."
   ]
  },
  {
   "cell_type": "raw",
   "id": "740076b9-61f5-427c-9561-52d7f35c5f3b",
   "metadata": {},
   "source": [
    "10. Why does this expression cause an error? How can you fix it?\n",
    "'I have eaten ' + 99 + ' burritos.'\n",
    "\n",
    "-->\n",
    "    The expression causes an error because 99 is an integer, \n",
    "    and only strings can be concatenated to other strings with the + operator.\n",
    "    The correct way is I have eaten ' + str(99) + ' burritos.'."
   ]
  }
 ],
 "metadata": {
  "kernelspec": {
   "display_name": "Python 3 (ipykernel)",
   "language": "python",
   "name": "python3"
  },
  "language_info": {
   "codemirror_mode": {
    "name": "ipython",
    "version": 3
   },
   "file_extension": ".py",
   "mimetype": "text/x-python",
   "name": "python",
   "nbconvert_exporter": "python",
   "pygments_lexer": "ipython3",
   "version": "3.10.6"
  }
 },
 "nbformat": 4,
 "nbformat_minor": 5
}
