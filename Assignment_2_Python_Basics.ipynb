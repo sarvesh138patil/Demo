{
 "cells": [
  {
   "cell_type": "code",
   "execution_count": null,
   "id": "dedd4094-b229-4001-afe5-9bbbc5d8f6b9",
   "metadata": {},
   "outputs": [],
   "source": [
    "1.What are the two values of the Boolean data type? How do you write them?\n",
    "\n",
    "-->\n",
    "    True and False, using capital T and F, with the rest of the word in lowercase"
   ]
  },
  {
   "cell_type": "code",
   "execution_count": null,
   "id": "a741df6c-c649-4821-9bc9-ec724a417a3e",
   "metadata": {},
   "outputs": [],
   "source": [
    "2. What are the three different types of Boolean operators?\n",
    "\n",
    "-->\n",
    "    and, or, and not"
   ]
  },
  {
   "cell_type": "code",
   "execution_count": null,
   "id": "e8af9fe1-0f73-4638-b5bf-292af681a4e8",
   "metadata": {},
   "outputs": [],
   "source": [
    "3. Make a list of each Boolean operator&#39;s truth tables (i.e. every possible combination of Boolean\n",
    "values for the operator and what it evaluate ).\n",
    "\n",
    "-->\n",
    "    True and True is True.\n",
    "    True and False is False.\n",
    "    False and True is False.\n",
    "    False and False is False.\n",
    "\n",
    "    True or True is True.\n",
    "    True or False is True.\n",
    "    False or True is True.\n",
    "    False or False is False.\n",
    "\n",
    "    not True is False.\n",
    "    not False is True."
   ]
  },
  {
   "cell_type": "code",
   "execution_count": null,
   "id": "f89cd0b8-883e-4e4a-9260-cb3ad99e2200",
   "metadata": {},
   "outputs": [],
   "source": [
    "4. What are the values of the following expressions?\n",
    "(5 > 4) and (3 == 5)\n",
    "not (5 > 4)\n",
    "(5 > 4) or (3 == 5)\n",
    "not ((5 > 4) or (3 == 5))\n",
    "(True and True) and (True == False)\n",
    "(not False) or (not True)\n",
    "\n",
    "-->\n",
    "    False\n",
    "    False\n",
    "    True\n",
    "    False\n",
    "    False\n",
    "    True"
   ]
  },
  {
   "cell_type": "code",
   "execution_count": null,
   "id": "0bf07d21-0dbf-4715-9593-1251503baa3d",
   "metadata": {},
   "outputs": [],
   "source": [
    "5. What are the six comparison operators?\n",
    "\n",
    "-->\n",
    "    ==, !=, <, >, <=, and >=."
   ]
  },
  {
   "cell_type": "code",
   "execution_count": null,
   "id": "1eaaab00-26fe-4536-a414-87a017af8775",
   "metadata": {},
   "outputs": [],
   "source": [
    "6. How do you tell the difference between the equal to and assignment operators?Describe a\n",
    "condition and when you would use one.\n",
    "\n",
    "-->\n",
    "    == is the equal to operator that compares two values and evaluates to a Boolean,\n",
    "    while = is the assignment operator that stores a value in a variable.\n",
    "    \n",
    "    A condition is an expression used in a flow control statement that evaluates to a Boolean value."
   ]
  },
  {
   "cell_type": "code",
   "execution_count": null,
   "id": "aab11808-26bc-4257-bb64-2c7a1a87b863",
   "metadata": {},
   "outputs": [],
   "source": [
    "7. Identify the three blocks in this code:\n",
    "spam = 0\n",
    "if spam == 10:\n",
    "print('eggs')\n",
    "if spam > 5:\n",
    "print('bacon')\n",
    "else:\n",
    "print('ham')\n",
    "print('spam')\n",
    "print('spam')\n",
    "\n",
    "-->\n",
    "    The three blocks are everything inside the if statement and the lines print('bacon') and print('ham').\n",
    "\n",
    "    spam = 0\n",
    "    if spam == 10:   \n",
    "        print('eggs')\n",
    "    if spam > 5:\n",
    "        print('bacon')\n",
    "    else:\n",
    "        print('ham')\n",
    "        print('spam')"
   ]
  },
  {
   "cell_type": "code",
   "execution_count": null,
   "id": "21bc311c-000e-4d2d-bdbd-5cc50f17d31c",
   "metadata": {},
   "outputs": [],
   "source": [
    "8. Write code that prints Hello if 1 is stored in spam, prints Howdy if 2 is stored in spam, and prints\n",
    "Greetings! if anything else is stored in spam.\n",
    "\n",
    "-->\n",
    "    if spam == 1:\n",
    "        print('Hello')\n",
    "    elif spam == 2:\n",
    "        print('Howdy')\n",
    "    else:\n",
    "        print('Greetings!')"
   ]
  },
  {
   "cell_type": "code",
   "execution_count": null,
   "id": "c73f6beb-f01c-42cf-b3dd-724d36fe1067",
   "metadata": {},
   "outputs": [],
   "source": [
    "9.If your programme is stuck in an endless loop, what keys you’ll press?\n",
    "\n",
    "-->\n",
    "    Press CTRL-C to stop a program stuck in an infinite loop."
   ]
  },
  {
   "cell_type": "code",
   "execution_count": null,
   "id": "4f98ccb0-39c0-45f2-94e5-a868068071a8",
   "metadata": {},
   "outputs": [],
   "source": [
    "10. How can you tell the difference between break and continue?\n",
    "\n",
    "-->\n",
    "    The break statement will move the execution outside and just after a loop. \n",
    "    The continue statement will move the execution to the start of the loop."
   ]
  },
  {
   "cell_type": "code",
   "execution_count": null,
   "id": "15f0f8e3-cba7-44a0-894e-655478d40071",
   "metadata": {},
   "outputs": [],
   "source": [
    "11. In a for loop, what is the difference between range(10), range(0, 10), and range(0, 10, 1)?\n",
    "\n",
    "-->\n",
    "    They all do the same thing.\n",
    "    The range(10) call ranges from 0 up to (but not including) 10.\n",
    "    range(0, 10) explicitly tells the loop to start at 0.\n",
    "    range(0, 10, 1) explicitly tells the loop to increase the variable by 1 on each iteration."
   ]
  },
  {
   "cell_type": "code",
   "execution_count": null,
   "id": "025d01fd-4d2e-471a-a277-5f1ef2df9ace",
   "metadata": {},
   "outputs": [],
   "source": [
    "12. Write a short program that prints the numbers 1 to 10 using a for loop. Then write an equivalent\n",
    "program that prints the numbers 1 to 10 using a while loop.\n",
    "\n",
    "-->\n",
    "    Using for loop\n",
    "    for i in range(1, 11):\n",
    "        print(i)\n",
    "\n",
    "    Using while loop\n",
    "    i = 1\n",
    "    while i <= 10:\n",
    "        print(i)\n",
    "        i = i + 1\n",
    "\n",
    "\n",
    "\n"
   ]
  },
  {
   "cell_type": "code",
   "execution_count": null,
   "id": "6006b1e8-e602-482e-938c-f17729d776b3",
   "metadata": {},
   "outputs": [],
   "source": [
    "13. If you had a function named bacon() inside a module named spam, how would you call it after\n",
    "importing spam?\n",
    "\n",
    "-->\n",
    "    This function can be called with spam.bacon()."
   ]
  }
 ],
 "metadata": {
  "kernelspec": {
   "display_name": "Python 3 (ipykernel)",
   "language": "python",
   "name": "python3"
  },
  "language_info": {
   "codemirror_mode": {
    "name": "ipython",
    "version": 3
   },
   "file_extension": ".py",
   "mimetype": "text/x-python",
   "name": "python",
   "nbconvert_exporter": "python",
   "pygments_lexer": "ipython3",
   "version": "3.10.6"
  }
 },
 "nbformat": 4,
 "nbformat_minor": 5
}
