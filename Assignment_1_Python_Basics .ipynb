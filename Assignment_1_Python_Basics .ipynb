{
 "cells": [
  {
   "cell_type": "code",
   "execution_count": null,
   "id": "5bd2ba09-6bf3-47ba-a978-5133fd7ea482",
   "metadata": {},
   "outputs": [],
   "source": [
    "1. In the below elements which of them are values or an expression? eg:- values can be integer or string and expressions will be mathematical operators.\n",
    "\n",
    "-->\n",
    "    *          --> expression\n",
    "    'hello'    --> values\n",
    "    -87.8      --> values\n",
    "    -          --> expression\n",
    "    /          --> expression\n",
    "    +\t       --> expression\n",
    "    6          --> values\n",
    " "
   ]
  },
  {
   "cell_type": "code",
   "execution_count": null,
   "id": "18c39f5f-1d42-4bff-8532-0092c0e7380f",
   "metadata": {},
   "outputs": [],
   "source": [
    "2. What is the difference between string and variable?\n",
    "\n",
    "-->\n",
    "    eg. a = \"apple\"\n",
    "    String is a type of a data \n",
    "    String is a sequence of a characters\n",
    "    Strings always start and end with quotes"
   ]
  },
  {
   "cell_type": "code",
   "execution_count": null,
   "id": "45552ef8-6970-4538-aed5-c047c17ad502",
   "metadata": {},
   "outputs": [],
   "source": [
    "3. Describe three different data types.\n",
    "\n",
    "-->\n",
    "    Integers, floating-point numbers, and strings."
   ]
  },
  {
   "cell_type": "code",
   "execution_count": null,
   "id": "d9357b2e-b1cc-4372-8997-180bb0b9be16",
   "metadata": {},
   "outputs": [],
   "source": [
    "4. What is an expression made up of? What do all expressions do?\n",
    "\n",
    "-->\n",
    "    An expression is a combination of values and operators. \n",
    "    All expressions evaluates to a single value."
   ]
  },
  {
   "cell_type": "code",
   "execution_count": null,
   "id": "6d82e92e-b114-444e-bb7f-e24ce826da99",
   "metadata": {},
   "outputs": [],
   "source": [
    "5. This assignment statements, like spam = 10. What is the difference between an expression and a statement?\n",
    "\n",
    "-->\n",
    "    An expression evaluates to a single value. \n",
    "    A statement does not."
   ]
  },
  {
   "cell_type": "code",
   "execution_count": null,
   "id": "f67f5502-8a54-4e54-8add-ec3a9dab383c",
   "metadata": {},
   "outputs": [],
   "source": [
    "6. After running the following code, what does the variable bacon contain?\n",
    "bacon = 22\n",
    "bacon + 1\n",
    "\n",
    "-->\n",
    "    The bacon variable is set to 22.\n",
    "    The bacon + 1 expression does not reassign the value in bacon \n",
    "    (that would need an assignment statement: bacon = bacon + 1)"
   ]
  },
  {
   "cell_type": "code",
   "execution_count": null,
   "id": "2bc33457-ad6d-4999-bb10-2cf26952a5a5",
   "metadata": {},
   "outputs": [],
   "source": [
    "7. What should the values of the following two terms be?\n",
    "'spam' + 'spamspam'\n",
    "'spam' * 3\n",
    "\n",
    "-->\n",
    "    Both expressions evaluate to the string 'spamspamspam'"
   ]
  },
  {
   "cell_type": "code",
   "execution_count": null,
   "id": "3ac0f012-c1ef-4ae1-a7e7-7b6efb323dcc",
   "metadata": {},
   "outputs": [],
   "source": [
    "8. Why is eggs a valid variable name while 100 is invalid?\n",
    "\n",
    "-->\n",
    "    Variable names cannot begin with a number."
   ]
  },
  {
   "cell_type": "code",
   "execution_count": null,
   "id": "6b6a2e27-64b4-42a8-bd67-2c519aa7144f",
   "metadata": {},
   "outputs": [],
   "source": [
    "9. What three functions can be used to get the integer, floating-point number, or string version of a value?\n",
    "\n",
    "-->\n",
    "    The int(), float(), and str() functions will evaluate to the integer, floating-point number, and string versions of       the value passed to them."
   ]
  },
  {
   "cell_type": "code",
   "execution_count": null,
   "id": "32c19595-a866-48ff-a530-fde3bf897270",
   "metadata": {},
   "outputs": [],
   "source": [
    "10. Why does this expression cause an error? How can you fix it?\n",
    "'I have eaten ' + 99 + ' burritos.'\n",
    "\n",
    "-->\n",
    "    The expression causes an error because 99 is an integer, \n",
    "    and only strings can be concatenated to other strings with the + operator.\n",
    "    The correct way is I have eaten ' + str(99) + ' burritos.'."
   ]
  }
 ],
 "metadata": {
  "kernelspec": {
   "display_name": "Python 3 (ipykernel)",
   "language": "python",
   "name": "python3"
  },
  "language_info": {
   "codemirror_mode": {
    "name": "ipython",
    "version": 3
   },
   "file_extension": ".py",
   "mimetype": "text/x-python",
   "name": "python",
   "nbconvert_exporter": "python",
   "pygments_lexer": "ipython3",
   "version": "3.10.6"
  }
 },
 "nbformat": 4,
 "nbformat_minor": 5
}
