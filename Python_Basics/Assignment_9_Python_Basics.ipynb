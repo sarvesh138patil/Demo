{
 "cells": [
  {
   "cell_type": "code",
   "execution_count": null,
   "id": "ce47ca67-4da3-492f-a805-2b6d86a333f8",
   "metadata": {},
   "outputs": [],
   "source": [
    "1. To what does a relative path refer?\n",
    "\n",
    "-->\n",
    "    Relative paths are relative to the current working directory."
   ]
  },
  {
   "cell_type": "code",
   "execution_count": null,
   "id": "e01fd821-855d-47c2-beb0-087f9e95f036",
   "metadata": {},
   "outputs": [],
   "source": [
    "2. What does an absolute path start with your operating system?\n",
    "\n",
    "-->\n",
    "    Absolute paths start with the root folder, such as / or C:\\."
   ]
  },
  {
   "cell_type": "code",
   "execution_count": null,
   "id": "77ce9052-824b-4637-a6d9-a5bcba02f48c",
   "metadata": {},
   "outputs": [],
   "source": [
    "3. What do the functions os.getcwd() and os.chdir() do?\n",
    "\n",
    "-->\n",
    "    The os.getcwd() function returns the current working directory. \n",
    "    The os.chdir() function changes the current working directory."
   ]
  },
  {
   "cell_type": "code",
   "execution_count": null,
   "id": "64d02b5c-7af9-4673-8eed-4543de7fa9a2",
   "metadata": {},
   "outputs": [],
   "source": [
    "4. What are the . and .. folders?\n",
    "\n",
    "-->\n",
    "    The . folder is the current folder, and .. is the parent folder."
   ]
  },
  {
   "cell_type": "code",
   "execution_count": null,
   "id": "c4057dc7-792b-4c8f-ae11-555f3a9e3afc",
   "metadata": {},
   "outputs": [],
   "source": [
    "5. In C:\\bacon\\eggs\\spam.txt, which part is the dir name, and which part is the base name?\n",
    "\n",
    "-->\n",
    "    C:\\bacon\\eggs is the dir name, while spam.txt is the base name."
   ]
  },
  {
   "cell_type": "code",
   "execution_count": null,
   "id": "decae249-78b8-4975-a21e-2f7f1e4ff34a",
   "metadata": {},
   "outputs": [],
   "source": [
    "6. What are the three “mode” arguments that can be passed to the open() function?\n",
    "\n",
    "-->\n",
    "    The string 'r' for read mode, 'w' for write mode, and 'a' for append mode"
   ]
  },
  {
   "cell_type": "code",
   "execution_count": null,
   "id": "8c177ef3-9c15-4256-9399-ed49d2403bc5",
   "metadata": {},
   "outputs": [],
   "source": [
    "7. What happens if an existing file is opened in write mode?\n",
    "\n",
    "-->\n",
    "    An existing file opened in write mode is erased and completely overwritten."
   ]
  },
  {
   "cell_type": "code",
   "execution_count": null,
   "id": "f7324ef5-f9ba-4057-948c-c23bba357504",
   "metadata": {},
   "outputs": [],
   "source": [
    "8. How do you tell the difference between read() and readlines()?\n",
    "\n",
    "-->\n",
    "    The read() method returns the file's entire contents as a single string value. \n",
    "    The readlines() method returns a list of strings, where each string is a line from the file's contents."
   ]
  },
  {
   "cell_type": "code",
   "execution_count": null,
   "id": "7764419a-ff83-449d-9509-4a4beab2b0ad",
   "metadata": {},
   "outputs": [],
   "source": [
    "9. What data structure does a shelf value resemble?\n",
    "\n",
    "-->\n",
    "    A shelf value resembles a dictionary value; \n",
    "    it has keys and values, along with keys() and values() methods \n",
    "    that work similarly to the dictionary methods of the same names."
   ]
  }
 ],
 "metadata": {
  "kernelspec": {
   "display_name": "Python 3 (ipykernel)",
   "language": "python",
   "name": "python3"
  },
  "language_info": {
   "codemirror_mode": {
    "name": "ipython",
    "version": 3
   },
   "file_extension": ".py",
   "mimetype": "text/x-python",
   "name": "python",
   "nbconvert_exporter": "python",
   "pygments_lexer": "ipython3",
   "version": "3.10.6"
  }
 },
 "nbformat": 4,
 "nbformat_minor": 5
}
