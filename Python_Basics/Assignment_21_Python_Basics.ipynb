{
 "cells": [
  {
   "cell_type": "code",
   "execution_count": null,
   "id": "b0ec9265-1736-46b7-a9bb-8b47a6279b48",
   "metadata": {},
   "outputs": [],
   "source": [
    "1. Add the current date to the text file today.txt as a string."
   ]
  },
  {
   "cell_type": "code",
   "execution_count": 16,
   "id": "2c04fef0-105b-4dd7-9496-90ae3b64f1ec",
   "metadata": {},
   "outputs": [
    {
     "name": "stdout",
     "output_type": "stream",
     "text": [
      "02-08-23\n"
     ]
    }
   ],
   "source": [
    "import datetime\n",
    "\n",
    "file = open('today.txt','w')\n",
    "file.write(datetime.datetime.now().strftime(\"%m-%d-%y\"))\n",
    "file.close()\n",
    "\n",
    "file = open('today.txt')\n",
    "print(file.read())\n",
    "file.close()\n"
   ]
  },
  {
   "cell_type": "raw",
   "id": "1dc627ca-026f-4d93-ae3e-a00f194fdf88",
   "metadata": {},
   "source": [
    "2. Read the text file today.txt into the string today_string"
   ]
  },
  {
   "cell_type": "code",
   "execution_count": 18,
   "id": "d7a0d1af-7447-474b-8885-e0a9c05c9bd5",
   "metadata": {},
   "outputs": [
    {
     "name": "stdout",
     "output_type": "stream",
     "text": [
      "02-08-23\n"
     ]
    }
   ],
   "source": [
    "file = open('today.txt','r')\n",
    "today_string = file.read()\n",
    "print(today_string)\n",
    "file.close()"
   ]
  },
  {
   "cell_type": "raw",
   "id": "67c94f10-9bb5-4039-af0f-8b3e3ae2859b",
   "metadata": {},
   "source": [
    "3. Parse the date from today_string."
   ]
  },
  {
   "cell_type": "code",
   "execution_count": 31,
   "id": "461ad291-f558-49eb-8718-7f7f73398f61",
   "metadata": {},
   "outputs": [
    {
     "name": "stdout",
     "output_type": "stream",
     "text": [
      "2023-08-02 00:00:00\n"
     ]
    }
   ],
   "source": [
    "from datetime import datetime\n",
    "\n",
    "parsed_data = datetime.strptime(today_string,\"%d-%m-%y\")\n",
    "print(parsed_data)"
   ]
  },
  {
   "cell_type": "raw",
   "id": "1817c95e-1e0a-469b-9c2f-dc9facc55b85",
   "metadata": {},
   "source": [
    "4. List the files in your current directory"
   ]
  },
  {
   "cell_type": "code",
   "execution_count": 3,
   "id": "2c04859f-1fd6-4665-8c72-6fc30e7fbd84",
   "metadata": {},
   "outputs": [
    {
     "name": "stdout",
     "output_type": "stream",
     "text": [
      "Assignment_1_Python_Basics.ipynb\n",
      "Assignment_7_Python_Basics.ipynb\n",
      "README.md\n",
      "Assignment_16_Python_Basics.ipynb\n",
      "Assignment_15_Python_Basics.ipynb\n",
      "Assignment_14_Python_Basics.ipynb\n",
      "demo.py\n",
      "Assignment_13_Python_Basics.ipynb\n",
      "Assignment_9_Python_Basics.ipynb\n",
      "test.txt\n",
      "LICENSE\n",
      "zoo.py\n",
      "Assignment_5_Python_Basics.ipynb\n",
      "Assignment_6_Python_Basics.ipynb\n",
      "Assignment_10_Python_Basics.ipynb\n",
      "Assignment_23_Python_Basics.ipynb\n",
      ".gitignore\n",
      "Assignment_19_Python_Basics.ipynb\n",
      "Assignment_20_Python_Basics.ipynb\n",
      "Assignment_21_Python_Basics.ipynb\n",
      "Assignment_25_Python_Basics.ipynb\n",
      "Assignment_24_Python_Basics.ipynb\n",
      "Assignment_2_Python_Basics.ipynb\n",
      "Assignment_17_Python_Basics.ipynb\n",
      "Assignment_11_Python_Basics.ipynb\n",
      "Assignment_4_Python_Basics.ipynb\n",
      "books.db\n",
      "Assignment_3_Python_Basics.ipynb\n",
      "today.txt\n",
      "Assignment_18_Python_Basics.ipynb\n",
      "Assignment_8_Python_Basics.ipynb\n",
      "Assignment_22_Python_Basics.ipynb\n",
      "books.csv\n",
      "Assignment_12_Python_Basics.ipynb\n",
      "packed-refs\n",
      "HEAD\n",
      "index\n",
      "config\n",
      "description\n",
      "HEAD\n",
      "main\n",
      "HEAD\n",
      "exclude\n",
      "pack-aa0e36ef79006f5222598a92674288cac7b0e353.pack\n",
      "pack-aa0e36ef79006f5222598a92674288cac7b0e353.idx\n",
      "pre-push.sample\n",
      "prepare-commit-msg.sample\n",
      "applypatch-msg.sample\n",
      "pre-applypatch.sample\n",
      "commit-msg.sample\n",
      "pre-rebase.sample\n",
      "pre-receive.sample\n",
      "update.sample\n",
      "fsmonitor-watchman.sample\n",
      "pre-merge-commit.sample\n",
      "pre-commit.sample\n",
      "push-to-checkout.sample\n",
      "post-update.sample\n",
      "main\n",
      "HEAD\n",
      "zoo.cpython-310.pyc\n",
      "Assignment_15_Python_Basics-checkpoint.ipynb\n",
      "Assignment_24_Python_Basics-checkpoint.ipynb\n",
      "Assignment_5_Python_Basics-checkpoint.ipynb\n",
      "Assignment_17_Python_Basics-checkpoint.ipynb\n",
      "today-checkpoint.txt\n",
      "Assignment_16_Python_Basics-checkpoint.ipynb\n",
      "Assignment_1_Python_Basics-checkpoint.ipynb\n",
      "Assignment_11_Python_Basics-checkpoint.ipynb\n",
      "Assignment_13_Python_Basics-checkpoint.ipynb\n",
      "Assignment_14_Python_Basics-checkpoint.ipynb\n",
      "Assignment_9_Python_Basics-checkpoint.ipynb\n",
      "Assignment_8_Python_Basics-checkpoint.ipynb\n",
      "Assignment_20_Python_Basics-checkpoint.ipynb\n",
      "zoo-checkpoint.py\n",
      "Assignment_2_Python_Basics-checkpoint.ipynb\n",
      "Assignment_22_Python_Basics-checkpoint.ipynb\n",
      "Assignment_25_Python_Basics-checkpoint.ipynb\n",
      "Assignment_21_Python_Basics-checkpoint.ipynb\n",
      "Assignment_7_Python_Basics-checkpoint.ipynb\n",
      "Assignment_4_Python_Basics-checkpoint.ipynb\n",
      "Assignment_3_Python_Basics-checkpoint.ipynb\n",
      "Assignment_19_Python_Basics-checkpoint.ipynb\n",
      "Assignment_18_Python_Basics-checkpoint.ipynb\n",
      "test-checkpoint.txt\n",
      "Assignment_23_Python_Basics-checkpoint.ipynb\n",
      "Assignment_12_Python_Basics-checkpoint.ipynb\n",
      "Assignment_6_Python_Basics-checkpoint.ipynb\n",
      "Assignment_10_Python_Basics-checkpoint.ipynb\n"
     ]
    }
   ],
   "source": [
    "import os\n",
    "for folders, subfolders, files in os.walk(os.getcwd()):\n",
    "    for file in files:\n",
    "        print(file)"
   ]
  },
  {
   "cell_type": "raw",
   "id": "6a58cf9e-2864-443c-9dd5-07b8b4ac03a4",
   "metadata": {},
   "source": [
    "5. Create a list of all of the files in your parent directory (minimum five files should be available)."
   ]
  },
  {
   "cell_type": "code",
   "execution_count": 4,
   "id": "43d2714c-df47-49f0-8183-a382f8dd4701",
   "metadata": {},
   "outputs": [
    {
     "data": {
      "text/plain": [
       "['Assignment_1_Python_Basics.ipynb',\n",
       " 'Assignment_7_Python_Basics.ipynb',\n",
       " 'README.md',\n",
       " 'Assignment_16_Python_Basics.ipynb',\n",
       " 'Assignment_15_Python_Basics.ipynb',\n",
       " 'Assignment_14_Python_Basics.ipynb',\n",
       " 'demo.py',\n",
       " 'Assignment_13_Python_Basics.ipynb',\n",
       " 'Assignment_9_Python_Basics.ipynb',\n",
       " 'test.txt',\n",
       " 'LICENSE',\n",
       " 'zoo.py',\n",
       " 'Assignment_5_Python_Basics.ipynb',\n",
       " 'Assignment_6_Python_Basics.ipynb',\n",
       " '.git',\n",
       " 'Assignment_10_Python_Basics.ipynb',\n",
       " 'Assignment_23_Python_Basics.ipynb',\n",
       " '.gitignore',\n",
       " 'Assignment_19_Python_Basics.ipynb',\n",
       " 'Assignment_20_Python_Basics.ipynb',\n",
       " 'Assignment_21_Python_Basics.ipynb',\n",
       " 'Assignment_25_Python_Basics.ipynb',\n",
       " 'Assignment_24_Python_Basics.ipynb',\n",
       " 'Assignment_2_Python_Basics.ipynb',\n",
       " 'Assignment_17_Python_Basics.ipynb',\n",
       " 'Assignment_11_Python_Basics.ipynb',\n",
       " 'Assignment_4_Python_Basics.ipynb',\n",
       " '__pycache__',\n",
       " 'books.db',\n",
       " '.ipynb_checkpoints',\n",
       " 'Assignment_3_Python_Basics.ipynb',\n",
       " 'today.txt',\n",
       " 'Assignment_18_Python_Basics.ipynb',\n",
       " 'Assignment_8_Python_Basics.ipynb',\n",
       " 'Assignment_22_Python_Basics.ipynb',\n",
       " 'books.csv',\n",
       " 'Assignment_12_Python_Basics.ipynb']"
      ]
     },
     "execution_count": 4,
     "metadata": {},
     "output_type": "execute_result"
    }
   ],
   "source": [
    "import os \n",
    "os.listdir()"
   ]
  },
  {
   "cell_type": "raw",
   "id": "2f7dd488-8230-46d1-aef7-7b6eb6822a44",
   "metadata": {},
   "source": [
    "6. Use multiprocessing to create three separate processes. Make each one wait a random number of\n",
    "seconds between one and five, print the current time, and then exit."
   ]
  },
  {
   "cell_type": "code",
   "execution_count": 13,
   "id": "6af05032-80b0-4e55-a600-e1b6de91f0b3",
   "metadata": {},
   "outputs": [
    {
     "name": "stdout",
     "output_type": "stream",
     "text": [
      "Proc_one_Starttime -> 2023-02-08 08:20:20.996470\n",
      "Proc_two_Starttime -> 2023-02-08 08:20:21.000852\n",
      "Proc_three_Starttime -> 2023-02-08 08:20:21.006015\n",
      "Proc_two_Endtime -> 2023-02-08 08:20:23.008525\n",
      "Proc_three_Endtime -> 2023-02-08 08:20:24.010141\n",
      "Proc_one_Endtime -> 2023-02-08 08:20:26.006635\n"
     ]
    }
   ],
   "source": [
    "import multiprocessing\n",
    "import time \n",
    "import random\n",
    "import datetime\n",
    "\n",
    "def procOne():\n",
    "    print(f'Proc_one_Starttime -> {datetime.datetime.now()}')\n",
    "    time.sleep(random.randint(1,5))\n",
    "    print(f'Proc_one_Endtime -> {datetime.datetime.now()}')\n",
    "    \n",
    "def procTwo():\n",
    "    print(f'Proc_two_Starttime -> {datetime.datetime.now()}')\n",
    "    time.sleep(random.randint(1,5))\n",
    "    print(f'Proc_two_Endtime -> {datetime.datetime.now()}')\n",
    "\n",
    "def procThree():\n",
    "    print(f'Proc_three_Starttime -> {datetime.datetime.now()}')\n",
    "    time.sleep(random.randint(1,5))\n",
    "    print(f'Proc_three_Endtime -> {datetime.datetime.now()}')\n",
    "    \n",
    "if __name__ == \"__main__\":    \n",
    "    p1 = multiprocessing.Process(target=procOne)\n",
    "    p2 = multiprocessing.Process(target=procTwo)\n",
    "    p3 = multiprocessing.Process(target=procThree)\n",
    "\n",
    "    p1.start()\n",
    "    p2.start()\n",
    "    p3.start()\n",
    "\n",
    "    p1.join()\n",
    "    p2.join()\n",
    "    p3.join()"
   ]
  },
  {
   "cell_type": "raw",
   "id": "3169ca73-f734-47b1-bd76-3b47b96ea600",
   "metadata": {},
   "source": [
    "7. Create a date object of your day of birth."
   ]
  },
  {
   "cell_type": "code",
   "execution_count": 21,
   "id": "72bb965b-2f3e-4362-9d50-9403bba4ceae",
   "metadata": {},
   "outputs": [
    {
     "name": "stdout",
     "output_type": "stream",
     "text": [
      "1998-08-13 00:00:00\n"
     ]
    }
   ],
   "source": [
    "from datetime import datetime\n",
    "\n",
    "obj_mydob = datetime.strptime('13/08/1998','%d/%m/%Y')\n",
    "print(obj_mydob)"
   ]
  },
  {
   "cell_type": "raw",
   "id": "e53ca332-2430-4df1-a073-399681167b52",
   "metadata": {},
   "source": [
    "8. What day of the week was your day of birth?"
   ]
  },
  {
   "cell_type": "code",
   "execution_count": 22,
   "id": "acc77ae6-e8c8-4810-8843-2ca00bc68c06",
   "metadata": {},
   "outputs": [
    {
     "data": {
      "text/plain": [
       "'Thursday'"
      ]
     },
     "execution_count": 22,
     "metadata": {},
     "output_type": "execute_result"
    }
   ],
   "source": [
    "from datetime import datetime\n",
    "obj_mydob = datetime(1998,8,13)\n",
    "obj_mydob.strftime(\"%A\")"
   ]
  },
  {
   "cell_type": "raw",
   "id": "790795f9-bcc8-48af-8863-20ff815e2940",
   "metadata": {},
   "source": [
    "9. When will you be (or when were you) 10,000 days old?"
   ]
  },
  {
   "cell_type": "code",
   "execution_count": 23,
   "id": "51d29016-bcab-4f1b-a806-d309f50e128c",
   "metadata": {},
   "outputs": [
    {
     "data": {
      "text/plain": [
       "datetime.datetime(1969, 12, 5, 0, 0)"
      ]
     },
     "execution_count": 23,
     "metadata": {},
     "output_type": "execute_result"
    }
   ],
   "source": [
    "from datetime import datetime, timedelta\n",
    "obj_mydob = datetime.strptime(\"22/04/1997\",'%d/%m/%Y')\n",
    "future_date =obj_mydob-timedelta(10000)\n",
    "future_date"
   ]
  },
  {
   "cell_type": "code",
   "execution_count": null,
   "id": "fc39968a-eae0-4d23-8578-ec9c4c1df1b3",
   "metadata": {},
   "outputs": [],
   "source": []
  }
 ],
 "metadata": {
  "kernelspec": {
   "display_name": "Python 3 (ipykernel)",
   "language": "python",
   "name": "python3"
  },
  "language_info": {
   "codemirror_mode": {
    "name": "ipython",
    "version": 3
   },
   "file_extension": ".py",
   "mimetype": "text/x-python",
   "name": "python",
   "nbconvert_exporter": "python",
   "pygments_lexer": "ipython3",
   "version": "3.10.6"
  }
 },
 "nbformat": 4,
 "nbformat_minor": 5
}
