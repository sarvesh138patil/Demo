{
 "cells": [
  {
   "cell_type": "raw",
   "id": "54136d4c-a11e-4cb2-858c-255ae2a6635a",
   "metadata": {},
   "source": [
    "1. What is the result of the code, and explain?\n",
    "\n",
    ">>> X = 'iNeuron'\n",
    ">>> def func():\n",
    "print(X)\n",
    ">>> func()\n",
    "\n",
    "Ans: The Result of this code is iNeuron, \n",
    "    it's because the function intially looks for the variable X in its local scope,\n",
    "    But since there is no local variable X, \n",
    "    its returns the value of global variable x ie iNeuron"
   ]
  },
  {
   "cell_type": "code",
   "execution_count": 2,
   "id": "b02c37f8-f468-4289-9928-f3e849acea6a",
   "metadata": {},
   "outputs": [
    {
     "name": "stdout",
     "output_type": "stream",
     "text": [
      "iNeuron\n"
     ]
    }
   ],
   "source": [
    "X = 'iNeuron'\n",
    "def func():\n",
    "    print(X)\n",
    "func()"
   ]
  },
  {
   "cell_type": "raw",
   "id": "c401442f-2c99-4969-9ac7-0d957cdd81b6",
   "metadata": {},
   "source": [
    "2. What is the result of the code, and explain?\n",
    "\n",
    ">>> X = 'iNeuron'\n",
    ">>> def func():\n",
    "X = 'NI!'\n",
    ">>> func()\n",
    ">>> print(X)\n",
    "\n",
    "Ans: The Result of this cide is NI!, \n",
    "    because the function initially looks for the variable X in its local scope \n",
    "    if X is not available then it checks for variable X in the global scope, \n",
    "    Since here the X is present in the local scope, it prints the value NI!"
   ]
  },
  {
   "cell_type": "code",
   "execution_count": 5,
   "id": "83e05aa9-6c15-406a-9c27-df8bf600688c",
   "metadata": {},
   "outputs": [
    {
     "name": "stdout",
     "output_type": "stream",
     "text": [
      "NI!\n"
     ]
    }
   ],
   "source": [
    "X = 'iNeuron'\n",
    "def func():\n",
    "    X = 'NI!'\n",
    "    print(X)\n",
    "func()\n"
   ]
  },
  {
   "cell_type": "raw",
   "id": "9d88e0bf-4609-4d27-a770-be8e94c20d23",
   "metadata": {},
   "source": [
    "3. What does this code print, and why?\n",
    "\n",
    ">>> X = 'iNeuron'\n",
    ">>> def func():\n",
    "X = 'NI'\n",
    "print(X)\n",
    ">>> func()\n",
    ">>> print(X)\n",
    "\n",
    "Ans: The output of the code is NI and iNeuron. \n",
    "    X=NI is in the local scope of the function func() \n",
    "    hence the function prints the x value as NI. \n",
    "    X = 'iNeuron' is in the global scope,\n",
    "    hence print(X) prints output as iNeuron"
   ]
  },
  {
   "cell_type": "code",
   "execution_count": 6,
   "id": "43564c4a-3f82-4547-8e48-36adc3a5db1d",
   "metadata": {},
   "outputs": [
    {
     "name": "stdout",
     "output_type": "stream",
     "text": [
      "NI\n",
      "iNeuron\n"
     ]
    }
   ],
   "source": [
    "X = 'iNeuron'\n",
    "def func():\n",
    "    X = 'NI'\n",
    "    print(X)\n",
    "\n",
    "func()\n",
    "print(X)\n"
   ]
  },
  {
   "cell_type": "raw",
   "id": "91cf7739-ad29-4b3b-aa27-702066addc63",
   "metadata": {},
   "source": [
    "4. What output does this code produce? Why?\n",
    "\n",
    ">>> X = 'iNeuron'\n",
    ">>> def func():\n",
    "        global X\n",
    "        X = 'NI'\n",
    ">>> func()\n",
    ">>> print(X)\n",
    "\n",
    "Ans: The output of the code is NI. \n",
    "    the global keyword allows a variable to be accessible in the current scope. \n",
    "    since we are using global keyword inside the function func it directly access the variable in X in global scope,\n",
    "    and changes its value to NI. hence the output of the code is NI"
   ]
  },
  {
   "cell_type": "code",
   "execution_count": 7,
   "id": "3a888055-e6a6-42d1-8a8b-431b76dadfe0",
   "metadata": {},
   "outputs": [
    {
     "name": "stdout",
     "output_type": "stream",
     "text": [
      "NI\n"
     ]
    }
   ],
   "source": [
    "X = 'iNeuron'\n",
    "def func():\n",
    "    global X\n",
    "    X = 'NI'\n",
    "func()\n",
    "print(X)"
   ]
  },
  {
   "cell_type": "raw",
   "id": "9986412c-295e-4f4e-9be9-0854549f72ec",
   "metadata": {},
   "source": [
    "5. What about this code—what’s the output, and why?\n",
    "\n",
    ">>> X = 'iNeuron'\n",
    ">>> def func():\n",
    "X = 'NI'\n",
    "def nested():\n",
    "print(X)\n",
    "nested()\n",
    ">>> func()\n",
    ">>> X\n",
    "\n",
    "Ans: The output of the code is NI. \n",
    "    the reason for this output is if a function wants to access a variable, \n",
    "    if its not available in its localscope. \n",
    "    it looks for the variable in its global scope. \n",
    "    similarly here also function nested looks for variable X in its global scope. \n",
    "    hence the output of the code is NI"
   ]
  },
  {
   "cell_type": "code",
   "execution_count": 10,
   "id": "747e4b0c-4fd5-4682-a326-b2fc902ce7ff",
   "metadata": {},
   "outputs": [
    {
     "name": "stdout",
     "output_type": "stream",
     "text": [
      "NI\n"
     ]
    },
    {
     "data": {
      "text/plain": [
       "'iNeuron'"
      ]
     },
     "execution_count": 10,
     "metadata": {},
     "output_type": "execute_result"
    }
   ],
   "source": [
    "X = 'iNeuron'\n",
    "def func():\n",
    "    X = 'NI'\n",
    "    def nested():\n",
    "        print(X)\n",
    "    nested()\n",
    "func()\n",
    "X"
   ]
  },
  {
   "cell_type": "raw",
   "id": "716013a9-8e1a-4a7c-b8f5-383292e4cbf4",
   "metadata": {},
   "source": [
    "6. How about this code: what is its output in Python 3, and explain?\n",
    "\n",
    ">>> def func():\n",
    "X = 'NI'\n",
    "def nested():\n",
    "nonlocal X\n",
    "X = 'Spam'\n",
    "nested()\n",
    "print(X)\n",
    ">>> func()\n",
    "\n",
    "Ans: The output of the code is Spam. \n",
    "    nonlocal keyword in python is used to declare a variable as not local.\n",
    "    Hence the statement X = \"Spam\" is modified in the global scope. \n",
    "    Hence the output of print(X) statement is Spam"
   ]
  },
  {
   "cell_type": "code",
   "execution_count": 13,
   "id": "edfe23f2-54b0-4012-8b6f-9a48fa9cb41d",
   "metadata": {},
   "outputs": [
    {
     "name": "stdout",
     "output_type": "stream",
     "text": [
      "Spam\n"
     ]
    }
   ],
   "source": [
    "def func():\n",
    "    X = 'NI'\n",
    "    def nested():\n",
    "        nonlocal X\n",
    "        X = 'Spam'\n",
    "    nested()\n",
    "    print(X)\n",
    "func()"
   ]
  }
 ],
 "metadata": {
  "kernelspec": {
   "display_name": "Python 3 (ipykernel)",
   "language": "python",
   "name": "python3"
  },
  "language_info": {
   "codemirror_mode": {
    "name": "ipython",
    "version": 3
   },
   "file_extension": ".py",
   "mimetype": "text/x-python",
   "name": "python",
   "nbconvert_exporter": "python",
   "pygments_lexer": "ipython3",
   "version": "3.10.6"
  }
 },
 "nbformat": 4,
 "nbformat_minor": 5
}
