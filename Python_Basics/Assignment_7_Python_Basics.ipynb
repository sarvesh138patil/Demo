{
 "cells": [
  {
   "cell_type": "code",
   "execution_count": null,
   "id": "fbf6fda6-8cc3-46d8-bcd3-bee266ef03b7",
   "metadata": {},
   "outputs": [],
   "source": [
    "1. What is the name of the feature responsible for generating Regex objects?\n",
    "\n",
    "-->\n",
    "    The re.compile() function returns Regex objects."
   ]
  },
  {
   "cell_type": "code",
   "execution_count": null,
   "id": "18966038-66d2-463f-9c2b-a90b754f9f8e",
   "metadata": {},
   "outputs": [],
   "source": [
    "2. Why do raw strings often appear in Regex objects?\n",
    "\n",
    "-->\n",
    "    Raw strings are used so that backslashes do not have to be escaped."
   ]
  },
  {
   "cell_type": "code",
   "execution_count": null,
   "id": "d8ea1b28-54d0-4c4d-ad85-132eca516575",
   "metadata": {},
   "outputs": [],
   "source": [
    "3. What is the return value of the search() method?\n",
    "\n",
    "-->\n",
    "    The search() method returns Match objects."
   ]
  },
  {
   "cell_type": "code",
   "execution_count": null,
   "id": "b4bcd1ec-80cf-42ff-ab31-a7cc7716fa76",
   "metadata": {},
   "outputs": [],
   "source": [
    "4. From a Match item, how do you get the actual strings that match the pattern?\n",
    "\n",
    "-->\n",
    "    The group() method returns strings of the matched text."
   ]
  },
  {
   "cell_type": "code",
   "execution_count": null,
   "id": "10f68573-89ec-416c-a8a7-abf7fb8a944b",
   "metadata": {},
   "outputs": [],
   "source": [
    "5. In the regex which created from the r'(\\d\\d\\d)-(\\d\\d\\d-\\d\\d\\d\\d)', what does group zero cover?\n",
    "Group 2? Group 1?\n",
    "\n",
    "-->\n",
    "    Group 0 is the entire match,\n",
    "    group 1 covers the first set of parentheses, \n",
    "    and group 2 covers the second set of parentheses."
   ]
  },
  {
   "cell_type": "code",
   "execution_count": null,
   "id": "8037276b-62aa-4c60-b1e2-e12731cd80fb",
   "metadata": {},
   "outputs": [],
   "source": [
    "6. In standard expression syntax, parentheses and intervals have distinct meanings. How can you tell\n",
    "a regex that you want it to fit real parentheses and periods?\n",
    "\n",
    "-->\n",
    "    Periods and parentheses can be escaped with a backslash: \\., \\(, and \\)."
   ]
  },
  {
   "cell_type": "code",
   "execution_count": null,
   "id": "9ad15322-4407-44a5-ace8-59643b3d52cd",
   "metadata": {},
   "outputs": [],
   "source": [
    "7. The findall() method returns a string list or a list of string tuples. What causes it to return one of\n",
    "the two options?\n",
    "\n",
    "-->\n",
    "    If the regex has no groups, a list of strings is returned. \n",
    "    If the regex has groups, a list of tuples of strings is returned."
   ]
  },
  {
   "cell_type": "code",
   "execution_count": null,
   "id": "ef77d09c-8664-4358-9a37-7b2445b22d01",
   "metadata": {},
   "outputs": [],
   "source": [
    "8. In standard expressions, what does the | character mean?\n",
    "\n",
    "-->\n",
    "    The | character signifies matching \"either, or\" between two groups."
   ]
  },
  {
   "cell_type": "code",
   "execution_count": null,
   "id": "07819592-f130-4ebd-ada1-7c07e943e1e5",
   "metadata": {},
   "outputs": [],
   "source": [
    "9. In regular expressions, what does the '?' character stand for?\n",
    "\n",
    "-->\n",
    "    The ? character can either mean \"match zero or one of the preceding group\" \n",
    "    or be used to signify nongreedy matching."
   ]
  },
  {
   "cell_type": "code",
   "execution_count": null,
   "id": "9043e17d-be78-4e46-a901-19438afbc6eb",
   "metadata": {},
   "outputs": [],
   "source": [
    "10.In regular expressions, what is the difference between the + and * characters?\n",
    "\n",
    "-->\n",
    "    The + matches one or more. \n",
    "    The * matches zero or more."
   ]
  },
  {
   "cell_type": "code",
   "execution_count": null,
   "id": "99b9b98b-c735-4a18-8f87-1ea580b9ba49",
   "metadata": {},
   "outputs": [],
   "source": [
    "11. What is the difference between {4} and {4,5} in regular expression?\n",
    "\n",
    "-->\n",
    "    The {4} matches exactly three instances of the preceding group. \n",
    "    The {4,5} matches between three and five instances."
   ]
  },
  {
   "cell_type": "code",
   "execution_count": null,
   "id": "0223c1d4-07fe-48e8-a876-a256b48925a6",
   "metadata": {},
   "outputs": [],
   "source": [
    "12. What do you mean by the \\d, \\w, and \\s shorthand character classes signify in regular\n",
    "expressions?\n",
    "\n",
    "-->\n",
    "    The \\d, \\w, and \\s shorthand character classes match a single digit, word, or space character, respectively."
   ]
  },
  {
   "cell_type": "code",
   "execution_count": null,
   "id": "439864cd-9f61-4fd3-9a99-c4b1038b0d98",
   "metadata": {},
   "outputs": [],
   "source": [
    "13. What do means by \\D, \\W, and \\S shorthand character classes signify in regular expressions?\n",
    "\n",
    "-->\n",
    "    The \\D, \\W, and \\S shorthand character classes match a single character \n",
    "    that is not a digit, word, or space character, respectively."
   ]
  },
  {
   "cell_type": "code",
   "execution_count": null,
   "id": "80e979f5-1d8b-4503-88a4-756725dee01c",
   "metadata": {},
   "outputs": [],
   "source": [
    "14. What is the difference between (.*)? and .*?\n",
    "\n",
    "-->\n",
    "    The . performs a greedy match, and the .? performs a nongreedy match."
   ]
  },
  {
   "cell_type": "code",
   "execution_count": null,
   "id": "08cc7a6a-ecf2-4ffa-b953-7016c4ce12f5",
   "metadata": {},
   "outputs": [],
   "source": [
    "15. What is the syntax for matching both numbers and lowercase letters with a character class?\n",
    "\n",
    "-->\n",
    "    Either [0-9a-z] or [a-z0-9]"
   ]
  },
  {
   "cell_type": "code",
   "execution_count": null,
   "id": "8b171733-d050-4d5f-9c5a-6085c5735bd2",
   "metadata": {},
   "outputs": [],
   "source": [
    "16. What is the procedure for making a normal expression in regax case insensitive?\n",
    "\n",
    "-->\n",
    "    Passing re.I or re.IGNORECASE as the second argument to re.compile() will make the matching case insensitive."
   ]
  },
  {
   "cell_type": "code",
   "execution_count": null,
   "id": "98b40aba-2c55-4cca-bd3a-931c3d30bbd1",
   "metadata": {},
   "outputs": [],
   "source": [
    "17. What does the . character normally match? What does it match if re.DOTALL is passed as 2nd\n",
    "argument in re.compile()?\n",
    "\n",
    "-->\n",
    "    The . character normally matches any character except the newline character.\n",
    "    If re.DOTALL is passed as the second argument to re.compile(), then the dot will also match newline characters"
   ]
  },
  {
   "cell_type": "code",
   "execution_count": null,
   "id": "072d582c-5cd0-4762-b1bf-802081836603",
   "metadata": {},
   "outputs": [],
   "source": [
    "18. If numReg = re.compile(r'\\d+'), what will numRegex.sub('X', '11 drummers, 10 pipers, five rings, 4\n",
    "hen') return?\n"
   ]
  },
  {
   "cell_type": "code",
   "execution_count": null,
   "id": "cd634f00-82c5-4d00-9616-9a0cb88eb8fb",
   "metadata": {},
   "outputs": [],
   "source": [
    "19. What does passing re.VERBOSE as the 2nd argument to re.compile() allow to do?\n"
   ]
  },
  {
   "cell_type": "code",
   "execution_count": null,
   "id": "1e73be75-e4a1-491a-b714-fe9a5797c659",
   "metadata": {},
   "outputs": [],
   "source": [
    "20. How would you write a regex that match a number with comma for every three digits? It must\n",
    "match the given following:\n",
    "'42'\n",
    "'1,234'\n",
    "'6,368,745'\n",
    "\n",
    "but not the following:\n",
    "'12,34,567' (which has only two digits between the commas)\n",
    "'1234' (which lacks commas)\n",
    "\n",
    "-->\n",
    "    re.compile(r'^\\d{1,3}(,\\d{3})*$') will create this regex, \n",
    "    but other regex strings can produce a similar regular expression."
   ]
  },
  {
   "cell_type": "code",
   "execution_count": null,
   "id": "1509289f-47a7-436d-870f-6668e8eb3860",
   "metadata": {},
   "outputs": [],
   "source": [
    "21. How would you write a regex that matches the full name of someone whose last name is\n",
    "Watanabe? You can assume that the first name that comes before it will always be one word that\n",
    "begins with a capital letter. The regex must match the following:\n",
    "'Haruto Watanabe'\n",
    "'Alice Watanabe'\n",
    "'RoboCop Watanabe'\n",
    "but not the following:\n",
    "'haruto Watanabe' (where the first name is not capitalized)\n",
    "'Mr. Watanabe' (where the preceding word has a nonletter character)\n",
    "'Watanabe' (which has no first name)\n",
    "'Haruto watanabe' (where Watanabe is not capitalized)\n",
    "\n",
    "-->\n",
    "    re.compile(r'[A-Z][a-z]*\\sNakamoto')"
   ]
  },
  {
   "cell_type": "code",
   "execution_count": null,
   "id": "90c631c4-53c2-4964-9458-8c3f66316414",
   "metadata": {},
   "outputs": [],
   "source": [
    "22. How would you write a regex that matches a sentence where the first word is either Alice, Bob,\n",
    "or Carol; the second word is either eats, pets, or throws; the third word is apples, cats, or baseballs;\n",
    "and the sentence ends with a period? This regex should be case-insensitive. It must match the\n",
    "following:\n",
    "'Alice eats apples.'\n",
    "'Bob pets cats.'\n",
    "'Carol throws baseballs.'\n",
    "'Alice throws Apples.'\n",
    "'BOB EATS CATS.'\n",
    "but not the following:\n",
    "'RoboCop eats apples.'\n",
    "'ALICE THROWS FOOTBALLS.'\n",
    "'Carol eats 7 cats.'\n",
    "\n",
    "-->\n",
    "    re.compile(r'(Alice|Bob|Carol)\\s(eats|pets|throws)\\s(apples|cats|baseballs)\\.', re.IGNORECASE)"
   ]
  }
 ],
 "metadata": {
  "kernelspec": {
   "display_name": "Python 3 (ipykernel)",
   "language": "python",
   "name": "python3"
  },
  "language_info": {
   "codemirror_mode": {
    "name": "ipython",
    "version": 3
   },
   "file_extension": ".py",
   "mimetype": "text/x-python",
   "name": "python",
   "nbconvert_exporter": "python",
   "pygments_lexer": "ipython3",
   "version": "3.10.6"
  }
 },
 "nbformat": 4,
 "nbformat_minor": 5
}
