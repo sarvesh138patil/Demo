{
 "cells": [
  {
   "cell_type": "raw",
   "id": "1a1767d4-8511-4045-b8d2-60cbe04e0b90",
   "metadata": {},
   "source": [
    "1. What is the relationship between def statements and lambda expressions ?\n",
    "\n",
    "-->\n",
    "    def statement is used to create a normal function. \n",
    "    lamba expressions are used to create Anonymous functions. \n",
    "    which can be assigned to a variable and can be called using the variable later in function.\n",
    "\n",
    "    Lambda's body is a single expression and not a block of statements like def statement. \n",
    "    The lambda expression's body is similar to what we'd put in a def body's return statement. \n",
    "    We simply type the result as an expression instead of explicitly returning it. \n",
    "    Because it is limited to an expression, a lambda is less general than a def statement."
   ]
  },
  {
   "cell_type": "raw",
   "id": "a45c962d-b224-47b9-9254-c02798796023",
   "metadata": {},
   "source": [
    "2. What is the benefit of lambda?\n",
    "\n",
    "-->\n",
    "    The following are some of the benefits of lambda expressions:\n",
    "    Can be used to create Nameless/Anonymous functions inside some complex functions \n",
    "    if we are planning to use it only once.\n",
    "    Moderate to small functions can be created in a single line\n",
    "    Fuctions created using lambda expressions can be assigned to a variable and \n",
    "    can be used by simply calling the variable\n"
   ]
  },
  {
   "cell_type": "raw",
   "id": "b48ad93b-5a30-4428-a2e7-93aa2ff034e5",
   "metadata": {},
   "source": [
    "3. Compare and contrast map, filter, and reduce.\n",
    "\n",
    "-->\n",
    "    The differences between map, filter and reduce are:\n",
    "    map(): The map() function is a type of higher-order. \n",
    "           This function takes another function as a parameter along with a sequence of iterables and \n",
    "           returns an output after applying the function to each iterable present in the sequence. \n",
    "    \n",
    "    filter(): The filter() function is used to create an output list consisting of values for which \n",
    "              the function returns true. \n",
    "    \n",
    "    reduce(): The reduce() function, as the name describes, \n",
    "              applies a given function to the iterables and returns a single value"
   ]
  },
  {
   "cell_type": "code",
   "execution_count": 1,
   "id": "20441df3-9453-430c-bf8e-c9b0ebb6440c",
   "metadata": {},
   "outputs": [
    {
     "name": "stdout",
     "output_type": "stream",
     "text": [
      "Map -> [2, 4, 6, 8]\n",
      "Filter -> [1, 3]\n",
      "Reduce -> 21\n"
     ]
    }
   ],
   "source": [
    "from functools import reduce\n",
    "\n",
    "print('Map ->',list(map(lambda x:x+x, [1,2,3,4])))\n",
    "\n",
    "print('Filter ->',list(filter(lambda x:x%2 !=0, [1,2,3,4])))\n",
    "\n",
    "print('Reduce ->',reduce(lambda x,y:x+y, [1,2,3,4,5,6]))"
   ]
  },
  {
   "cell_type": "raw",
   "id": "352620a5-50bf-4099-bf7a-7809c79f21bf",
   "metadata": {},
   "source": [
    "4. What are function annotations, and how are they used?\n",
    "\n",
    "-->\n",
    "    Function annotations provide a way of associating various parts of a function \n",
    "    with arbitrary pythoncexpressions at compile time.\n",
    "    Annotations of simple parameters def func(x: expression, y: expression = 20):\n",
    "    Whereas the annotations for excess parameters are as − def func (**args: expression, **kwargs: expression):"
   ]
  },
  {
   "cell_type": "raw",
   "id": "01e913ac-01b8-4c7e-9370-cbcbb89c7d7c",
   "metadata": {},
   "source": [
    "5. What are recursive functions, and how are they used?\n",
    "\n",
    "-->\n",
    "    A recursive function is a function that calls itself during its execution. \n",
    "    The process may repeat several times, outputting the result and the end of each iteration."
   ]
  },
  {
   "cell_type": "raw",
   "id": "98c12074-e783-4aa0-bbff-523385b7094c",
   "metadata": {},
   "source": [
    "6. What are some general design guidelines for coding functions?\n",
    "    \n",
    "-->\n",
    "    -Some of the general design guidelines for coding functions are:\n",
    "    -Always use a docstring to explain the functionality of the function\n",
    "    -avoid using or limited use of global variables\n",
    "    -Proper Identation to increase the code readability\n",
    "    -try to follow a naming convention for function names (pascalCase or camelCase) and stick with the same convention         throughout the application.\n",
    "    -Avoid using digits while choosing a variable name\n",
    "    -try to use a name for the function which conveys the purpose of the function\n",
    "    -Local variables should be named using camelCase format (ex: localVariable) whereas Global variables names should be \n",
    "     using PascalCase (ex:GlobalVariable).\n",
    "    -Constant should be represented in allcaps (ex:CONSTANT)."
   ]
  },
  {
   "cell_type": "raw",
   "id": "1d8fddae-fed6-463f-813f-b498913abd23",
   "metadata": {},
   "source": [
    "7. Name three or more ways that functions can communicate results to a caller.\n",
    "\n",
    "-->\n",
    "    Some of the ways in which a function can communicate with the calling function is:\n",
    "    print\n",
    "    return\n",
    "    yield"
   ]
  }
 ],
 "metadata": {
  "kernelspec": {
   "display_name": "Python 3 (ipykernel)",
   "language": "python",
   "name": "python3"
  },
  "language_info": {
   "codemirror_mode": {
    "name": "ipython",
    "version": 3
   },
   "file_extension": ".py",
   "mimetype": "text/x-python",
   "name": "python",
   "nbconvert_exporter": "python",
   "pygments_lexer": "ipython3",
   "version": "3.10.6"
  }
 },
 "nbformat": 4,
 "nbformat_minor": 5
}
