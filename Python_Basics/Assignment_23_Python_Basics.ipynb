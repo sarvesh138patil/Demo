{
 "cells": [
  {
   "cell_type": "raw",
   "id": "fc058c97-6ac4-483d-86a0-8601bf103127",
   "metadata": {},
   "source": [
    "1. What is the result of the code, and why?\n",
    "\n",
    ">>> def func(a, b=6, c=8):\n",
    "print(a, b, c)\n",
    ">>> func(1, 2)\n",
    "\n",
    "Ans: The result of the above code is 1 2 8.\n",
    "    its because the function uses the default value of c ie 8 \n",
    "    which is provided at the time of declaration"
   ]
  },
  {
   "cell_type": "code",
   "execution_count": 1,
   "id": "a4b14af2-a363-4894-a188-8029c9786798",
   "metadata": {},
   "outputs": [
    {
     "name": "stdout",
     "output_type": "stream",
     "text": [
      "1 2 8\n"
     ]
    }
   ],
   "source": [
    "def func(a, b=6, c=8):\n",
    "    print(a, b, c)\n",
    "func(1, 2)"
   ]
  },
  {
   "cell_type": "raw",
   "id": "9d858ce9-fc70-44c6-8f8f-79f4584f3080",
   "metadata": {},
   "source": [
    "2. What is the result of this code, and why?\n",
    "\n",
    ">>> def func(a, b, c=5):\n",
    "print(a, b, c)\n",
    ">>> func(1, c=3, b=2)\n",
    "\n",
    "Ans: The result of the above code is 1 2 3. \n",
    "    it is because the function will use default values only \n",
    "    when a value for a argument is not provided and \n",
    "    if argument name is mentioned while doing a function call, \n",
    "    the order of arguments is also ignored by the python interpreter"
   ]
  },
  {
   "cell_type": "code",
   "execution_count": 2,
   "id": "08967ed0-c5af-4d5e-80ea-364f0cb2e424",
   "metadata": {},
   "outputs": [
    {
     "name": "stdout",
     "output_type": "stream",
     "text": [
      "1 2 3\n"
     ]
    }
   ],
   "source": [
    "def func(a, b, c=5):\n",
    "    print(a, b, c)\n",
    "func(1, c=3, b=2)"
   ]
  },
  {
   "cell_type": "raw",
   "id": "ca25e3c1-1821-4ae5-900d-5cc16f655ad6",
   "metadata": {},
   "source": [
    "3. How about this code: what is its result, and why?\n",
    "\n",
    ">>> def func(a, *pargs):\n",
    "print(a, pargs)\n",
    ">>> func(1, 2, 3)\n",
    "\n",
    "Ans: The result of the code is 1 (2,3). \n",
    "    *pargs stands for variable length arguments. \n",
    "    this format is used when we are not sure about the no of arguments to be passed to a function. \n",
    "    all the values under this argument will be stored in a tuple."
   ]
  },
  {
   "cell_type": "code",
   "execution_count": 3,
   "id": "bd482180-89e6-4723-9e18-549f2450a516",
   "metadata": {},
   "outputs": [
    {
     "name": "stdout",
     "output_type": "stream",
     "text": [
      "1 (2, 3)\n"
     ]
    }
   ],
   "source": [
    "def func(a, *pargs):\n",
    "    print(a, pargs)\n",
    "func(1, 2, 3)"
   ]
  },
  {
   "cell_type": "raw",
   "id": "933c726f-dbff-4010-8ad4-79ac47570944",
   "metadata": {},
   "source": [
    "4. What does this code print, and why?\n",
    "\n",
    ">>> def func(a, **kargs):\n",
    "print(a, kargs)\n",
    ">>> func(a=1, c=3, b=2)\n",
    "\n",
    "Ans: The result of the above code is 1 {'c': 3, 'b': 2}. \n",
    "    **args stands for variable length keyword arguments. \n",
    "    this format is used when we want pass key value pairs as input to a function. \n",
    "    All these key value pairs will be stored in a dictionary"
   ]
  },
  {
   "cell_type": "code",
   "execution_count": 4,
   "id": "f5cc9429-88d8-42ac-8cf5-ad46d293cf34",
   "metadata": {},
   "outputs": [
    {
     "name": "stdout",
     "output_type": "stream",
     "text": [
      "1 {'c': 3, 'b': 2}\n"
     ]
    }
   ],
   "source": [
    "def func(a, **kargs):\n",
    "    print(a, kargs)\n",
    "func(a=1, c=3, b=2)\n"
   ]
  },
  {
   "cell_type": "raw",
   "id": "f96076d0-e3c7-45e5-a7c2-8176a401fb5e",
   "metadata": {},
   "source": [
    "5. What gets printed by this, and explain?\n",
    "\n",
    ">>> def func(a, b, c=8, d=5): print(a, b, c, d)\n",
    ">>> func(1, *(5, 6))\n",
    "\n",
    "Ans: The output of the above is 1 5 6 5. \n",
    "    This reason for this function not throwing an error is because,this function expects 4 arguments. \n",
    "    the value for a is provided explicitly whereas for arguments b and c, \n",
    "    the function will expand the *(5,6) and consider the value of b as 5 and value of c as 6. \n",
    "    since the default value of d is provided in function declaration d value will be 5. \n",
    "    However it is recommended to use the feature of positional arguments at the end."
   ]
  },
  {
   "cell_type": "code",
   "execution_count": 5,
   "id": "e8d9eebd-fa8a-4240-94b4-bfd9dfd106e3",
   "metadata": {},
   "outputs": [
    {
     "name": "stdout",
     "output_type": "stream",
     "text": [
      "1 5 6 5\n"
     ]
    }
   ],
   "source": [
    "def func(a, b, c=8, d=5): print(a, b, c, d)\n",
    "func(1, *(5, 6))"
   ]
  },
  {
   "cell_type": "raw",
   "id": "2be98d6e-c003-4aff-a246-b1cfb3481dd1",
   "metadata": {},
   "source": [
    "6. what is the result of this, and explain?\n",
    "\n",
    ">>> def func(a, b, c): a = 2; b[0] = 'x'; c['a'] = 'y'\n",
    ">>> l=1; m=[1]; n={'a':0}\n",
    ">>> func(l, m, n)\n",
    ">>> l, m, n\n",
    "\n",
    "Ans: The output of above code is 1, ['x'], {'a': 'y'}.\n",
    "    Eventhough Python gives importance to indentation. \n",
    "    its provides a facility to declare an entire function in one single line. \n",
    "    where statements in a function body are sepereated by ;\n",
    "    When l,m,n are provided as inputs to the function. \n",
    "    its modifies the values of l,m,n and sets the value of l=2 ,m=['x'] and n={'a':'y'}"
   ]
  },
  {
   "cell_type": "code",
   "execution_count": 12,
   "id": "0845d0fe-dd2d-4c37-b7db-ec911d48c70c",
   "metadata": {},
   "outputs": [
    {
     "data": {
      "text/plain": [
       "(1, ['x'], {'a': 'y'})"
      ]
     },
     "execution_count": 12,
     "metadata": {},
     "output_type": "execute_result"
    }
   ],
   "source": [
    "def func(a, b, c): a = 2; b[0] = 'x'; c['a'] = 'y'\n",
    "l=1; m=[1]; n={'a':0}\n",
    "func(l, m, n)\n",
    "l, m, n"
   ]
  }
 ],
 "metadata": {
  "kernelspec": {
   "display_name": "Python 3 (ipykernel)",
   "language": "python",
   "name": "python3"
  },
  "language_info": {
   "codemirror_mode": {
    "name": "ipython",
    "version": 3
   },
   "file_extension": ".py",
   "mimetype": "text/x-python",
   "name": "python",
   "nbconvert_exporter": "python",
   "pygments_lexer": "ipython3",
   "version": "3.10.6"
  }
 },
 "nbformat": 4,
 "nbformat_minor": 5
}
