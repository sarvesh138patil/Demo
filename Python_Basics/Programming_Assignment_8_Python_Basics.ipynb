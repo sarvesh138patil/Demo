{
 "cells": [
  {
   "cell_type": "raw",
   "id": "6352520d-b1d5-4f60-820e-46b698d811cf",
   "metadata": {},
   "source": [
    "1. Write a Python Program to Add two Matrices ?"
   ]
  },
  {
   "cell_type": "code",
   "execution_count": 2,
   "id": "c802049b-5a1e-4b40-9a8b-6f2d23436db2",
   "metadata": {},
   "outputs": [
    {
     "name": "stdout",
     "output_type": "stream",
     "text": [
      "Inputs: [[1, 2, 3], [4, 5, 6], [7, 8, 9]],[[9, 8, 7], [6, 5, 4], [3, 2, 1]]\n",
      "Output: [[10, 10, 10], [10, 10, 10], [10, 10, 10]]\n",
      "Inputs: [[2, 3, 5], [1, 1, 1], [2, 2, 2]],[[4, 3, 5], [1, 2, 3], [3, 2, 1]]\n",
      "Output: [[6, 6, 10], [2, 3, 4], [5, 4, 3]]\n"
     ]
    }
   ],
   "source": [
    "def addMatrices(a,b):\n",
    "    print(f'Inputs: {a},{b}')\n",
    "    if len(a) == len(b):\n",
    "        out_matrix = []\n",
    "        for ele in range(len(a)):\n",
    "            if len(a[ele]) == len(b[ele]):\n",
    "                out_matrix.append([])\n",
    "                for sub_ele in range(len(a[ele])):\n",
    "                    out_matrix[ele].append(a[ele][sub_ele]+b[ele][sub_ele])\n",
    "            else:\n",
    "                print('Both Matrices must contains same no of rows and columns') \n",
    "    else:\n",
    "        print('Both Matrices must contains same no of rows and columns')\n",
    "    print(f'Output: {out_matrix}')\n",
    "\n",
    "addMatrices([[1,2,3],[4,5,6],[7,8,9]],[[9,8,7],[6,5,4],[3,2,1]])\n",
    "addMatrices([[2,3,5],[1,1,1],[2,2,2]],[[4,3,5],[1,2,3],[3,2,1]])\n",
    "\n"
   ]
  },
  {
   "cell_type": "raw",
   "id": "1593119e-56ff-43bd-a088-249b3ea7e659",
   "metadata": {},
   "source": [
    "2. Write a Python Program to Multiply two Matrices ?"
   ]
  },
  {
   "cell_type": "code",
   "execution_count": 3,
   "id": "fc85c8d4-2c4e-4e31-9a94-851be8fad3b8",
   "metadata": {},
   "outputs": [
    {
     "name": "stdout",
     "output_type": "stream",
     "text": [
      "[[14, 32, 50], [32, 77, 122], [50, 122, 194]]\n"
     ]
    }
   ],
   "source": [
    "a = [[1,2,3],[4,5,6],[7,8,9]]\n",
    "b = [[1,4,7],[2,5,8],[3,6,9]]\n",
    "\n",
    "def multiply_matrice(a,b):\n",
    "    output = []\n",
    "    if len(a[0]) == len(b):\n",
    "        for ele in range(len(a[0])):\n",
    "            output.append([0 for ele in range(len(b[0]))])\n",
    "        for i in range(len(a)):\n",
    "            for j in range(len(b[0])):\n",
    "                for k in range(len(b)):\n",
    "                    output[i][j] += a[i][k]*b[k][j]\n",
    "        print(output)     \n",
    "    else:\n",
    "        print('Matrix Multiplication is Not Possible')\n",
    "        \n",
    "multiply_matrice(a,b)"
   ]
  },
  {
   "cell_type": "raw",
   "id": "28ff0d00-a03f-4df9-8a91-3f9299e91294",
   "metadata": {},
   "source": [
    "3. Write a Python Program to transpose a Matrix ?"
   ]
  },
  {
   "cell_type": "code",
   "execution_count": 4,
   "id": "7ce3ae50-44f2-4381-b98e-5a520d22c10a",
   "metadata": {},
   "outputs": [
    {
     "name": "stdout",
     "output_type": "stream",
     "text": [
      "[[1, 2, 3], [4, 5, 6], [7, 8, 9]] -> [[1, 4, 7], [2, 5, 8], [3, 6, 9]]\n",
      "[[1, 2], [4, 5], [7, 8]] -> [[1, 4, 7], [2, 5, 8]]\n",
      "[[1, 2, 3], [4, 5, 6]] -> [[1, 4], [2, 5], [3, 6]]\n"
     ]
    }
   ],
   "source": [
    "a = [[1,2,3],[4,5,6],[7,8,9]]\n",
    "b = [[1,2],[4,5],[7,8]]\n",
    "c = [[1,2,3],[4,5,6]]\n",
    "\n",
    "def generate_transpose(in_matrix):\n",
    "    out_matrix = []\n",
    "    for ele in range(len(in_matrix[0])):\n",
    "        out_matrix.append([0 for i in range(len(in_matrix))])\n",
    "    for i in range(len(in_matrix)):\n",
    "        for j in range(len(in_matrix[i])):\n",
    "            out_matrix[j][i] = in_matrix[i][j]\n",
    "    print(f'{in_matrix} -> {out_matrix}')\n",
    "        \n",
    "generate_transpose(a)\n",
    "generate_transpose(b)\n",
    "generate_transpose(c)"
   ]
  },
  {
   "cell_type": "raw",
   "id": "59f48b93-f7f0-45e1-a5db-92f69c535e4b",
   "metadata": {},
   "source": [
    "4. Write a Python Program to sort Words in an Alphabatical Order ?"
   ]
  },
  {
   "cell_type": "code",
   "execution_count": null,
   "id": "6c211259-9efc-4373-abd5-b3d0632c5ccf",
   "metadata": {},
   "outputs": [],
   "source": [
    "def sortString():\n",
    "    in_string = input(\"Enter a String: \").title()\n",
    "    sorted_list = sorted(in_string.split(' '))\n",
    "    print(' '.join(sorted_list))\n",
    "\n",
    "sortString()"
   ]
  },
  {
   "cell_type": "code",
   "execution_count": null,
   "id": "0bac71fe-db14-4426-917b-863c31c1eb09",
   "metadata": {},
   "outputs": [],
   "source": [
    "5. Write a Python Program to remove Punctuations From a String ?"
   ]
  },
  {
   "cell_type": "code",
   "execution_count": null,
   "id": "962f6520-51e4-44a7-ba2f-376832d4e34a",
   "metadata": {},
   "outputs": [],
   "source": [
    "def removePunctuatuions():\n",
    "    punctuations = '''!()-[]{};:'\"\\,<>./?@#$%^&*_~'''\n",
    "    in_string = input('Enter a String: ')\n",
    "    out_string = ''\n",
    "    for ele in in_string:\n",
    "        if ele not in punctuations:\n",
    "            out_string += ele\n",
    "    print(out_string)\n",
    "    \n",
    "removePunctuatuions()"
   ]
  }
 ],
 "metadata": {
  "kernelspec": {
   "display_name": "Python 3 (ipykernel)",
   "language": "python",
   "name": "python3"
  },
  "language_info": {
   "codemirror_mode": {
    "name": "ipython",
    "version": 3
   },
   "file_extension": ".py",
   "mimetype": "text/x-python",
   "name": "python",
   "nbconvert_exporter": "python",
   "pygments_lexer": "ipython3",
   "version": "3.10.6"
  }
 },
 "nbformat": 4,
 "nbformat_minor": 5
}
