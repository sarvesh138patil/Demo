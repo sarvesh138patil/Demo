{
 "cells": [
  {
   "cell_type": "raw",
   "id": "75840998-329d-41fe-9678-03fd347be180",
   "metadata": {},
   "source": [
    "1.Write a Python Program to check if the given number is a Disarium Number ?"
   ]
  },
  {
   "cell_type": "code",
   "execution_count": 2,
   "id": "bf5d90f2-bad7-47fe-b746-51a8668992a7",
   "metadata": {},
   "outputs": [
    {
     "name": "stdin",
     "output_type": "stream",
     "text": [
      "Enter a Number:  143\n"
     ]
    },
    {
     "name": "stdout",
     "output_type": "stream",
     "text": [
      "143 is a Not Disarium Number\n"
     ]
    },
    {
     "name": "stdin",
     "output_type": "stream",
     "text": [
      "Enter a Number:  175\n"
     ]
    },
    {
     "name": "stdout",
     "output_type": "stream",
     "text": [
      "175 is a Disarium Number\n"
     ]
    }
   ],
   "source": [
    "def checkDisariumNumber():\n",
    "    in_num = input('Enter a Number: ')\n",
    "    sum = 0\n",
    "    for item in range(len(in_num)):\n",
    "        sum = sum + int(in_num[item])**(item+1)\n",
    "    if sum == int(in_num):\n",
    "        print(f'{in_num} is a Disarium Number')\n",
    "    else:\n",
    "        print(f'{in_num} is a Not Disarium Number') \n",
    "\n",
    "checkDisariumNumber()\n",
    "checkDisariumNumber()"
   ]
  },
  {
   "cell_type": "raw",
   "id": "8a8861f0-c844-46e6-8a74-e842b7b0a885",
   "metadata": {},
   "source": [
    "2.Write a Python Program to print all Disarium numbers between 1 to 100 ?"
   ]
  },
  {
   "cell_type": "code",
   "execution_count": 3,
   "id": "9fa10407-d048-4554-8091-edf72281c082",
   "metadata": {},
   "outputs": [
    {
     "data": {
      "text/plain": [
       "[1, 2, 3, 4, 5, 6, 7, 8, 9, 89, 135, 175, 518, 598]"
      ]
     },
     "execution_count": 3,
     "metadata": {},
     "output_type": "execute_result"
    }
   ],
   "source": [
    "def printDisariumNumbers(start=0,end=100):\n",
    "    output_num = []\n",
    "    for number in range(start,end+1):\n",
    "        sum = 0\n",
    "        for item in range(len(str(number))):\n",
    "            sum = sum + int(str(number)[item])**(item+1)\n",
    "        if sum == number:\n",
    "            output_num.append(number)\n",
    "    return output_num\n",
    "            \n",
    "        \n",
    "printDisariumNumbers(1,1000)"
   ]
  },
  {
   "cell_type": "raw",
   "id": "00831f25-9f7c-4824-a285-103c52bfeed3",
   "metadata": {},
   "source": [
    "3.Write a Python Program to check if the given number is Happy Number ?"
   ]
  },
  {
   "cell_type": "code",
   "execution_count": 4,
   "id": "c7d7d33c-2189-4e39-bcb2-99162e4f32fb",
   "metadata": {},
   "outputs": [
    {
     "name": "stdin",
     "output_type": "stream",
     "text": [
      "Enter a Number:  23\n"
     ]
    },
    {
     "name": "stdout",
     "output_type": "stream",
     "text": [
      "23 is a Happy Number\n"
     ]
    },
    {
     "name": "stdin",
     "output_type": "stream",
     "text": [
      "Enter a Number:  72\n"
     ]
    },
    {
     "name": "stdout",
     "output_type": "stream",
     "text": [
      "72 is not a Happy Number\n"
     ]
    }
   ],
   "source": [
    "def checkHappyNumber():\n",
    "    in_num = input('Enter a Number: ')\n",
    "    in_num_duplicate = in_num\n",
    "    trackNumber = set()   \n",
    "    while True:\n",
    "        if in_num != '1' and str(in_num) not in trackNumber:\n",
    "            trackNumber.add(in_num)\n",
    "            sum = 0\n",
    "            for ele in range(len((in_num))):\n",
    "                sum = sum + int(in_num[ele])**2\n",
    "            in_num = str(sum)\n",
    "        elif str(in_num) in trackNumber:\n",
    "            print(f'{in_num_duplicate} is not a Happy Number')\n",
    "            break\n",
    "        else:\n",
    "            print(f'{in_num_duplicate} is a Happy Number')\n",
    "            break\n",
    "\n",
    "checkHappyNumber()\n",
    "checkHappyNumber()"
   ]
  },
  {
   "cell_type": "code",
   "execution_count": null,
   "id": "c04111f7-addc-4510-9517-b1ba84bd2083",
   "metadata": {},
   "outputs": [],
   "source": [
    "4.Write a Python Program to print all Happy numbers between 1 and 100 ?"
   ]
  },
  {
   "cell_type": "code",
   "execution_count": null,
   "id": "8080e5c9-b372-4f5c-8324-b5c9710d4ce8",
   "metadata": {},
   "outputs": [],
   "source": [
    "def checkHappyNumber(start=0,end=100):\n",
    "    happyNumbersList = []\n",
    "    for in_num in range(start,end+1):\n",
    "        in_num = str(in_num)\n",
    "        inum_holder = in_num\n",
    "        trackNumber = set()   \n",
    "        while True:\n",
    "            if in_num != '1' and str(in_num) not in trackNumber:\n",
    "                trackNumber.add(in_num)\n",
    "                sum = 0\n",
    "                for ele in range(len((in_num))):\n",
    "                    sum = sum + int(in_num[ele])**2\n",
    "                in_num = str(sum)\n",
    "            elif str(in_num) in trackNumber:\n",
    "                break\n",
    "            else:\n",
    "                happyNumbersList.append(int(inum_holder))\n",
    "                break\n",
    "    print(f'The Happy Numbers between {start} and {end} are {happyNumbersList}')\n",
    "    \n",
    "checkHappyNumber(0,100)"
   ]
  },
  {
   "cell_type": "raw",
   "id": "75613ea1-18d2-45de-84d3-5ff29f4cc274",
   "metadata": {},
   "source": [
    "5.Write a Python Program to determine whether the given number is a Harshad Number ?"
   ]
  },
  {
   "cell_type": "code",
   "execution_count": null,
   "id": "31e01914-adba-4ef5-9551-539e0c8baa36",
   "metadata": {},
   "outputs": [],
   "source": [
    "def checkHarshadNumber():\n",
    "    in_num = input('Enter a Number: ')\n",
    "    sum = 0\n",
    "    for item in range(len(in_num)):\n",
    "        sum = sum + int(in_num[item])\n",
    "    if int(in_num)%sum == 0:\n",
    "        print(f'{in_num} is a Harshad Number')\n",
    "    else:\n",
    "        print(f'{in_num} is a Not Harshad Number')\n",
    "        \n",
    "checkHarshadNumber()\n",
    "checkHarshadNumber()"
   ]
  },
  {
   "cell_type": "raw",
   "id": "ee8ac1d3-fa26-442d-9d74-468e8deafbb5",
   "metadata": {},
   "source": [
    "6.Write a Python Program to print all pronic numbers between 1 and 100 ?"
   ]
  },
  {
   "cell_type": "code",
   "execution_count": null,
   "id": "200d6a9b-678c-42b2-8e4e-8f8078353775",
   "metadata": {},
   "outputs": [],
   "source": [
    "def printPronicNumbers(start=0,end=100):\n",
    "    outputList = []\n",
    "    for ele in range(start,end+1):\n",
    "        outputList.append((ele)*(ele+1))\n",
    "    print(outputList)\n",
    "                   \n",
    "printPronicNumbers()"
   ]
  }
 ],
 "metadata": {
  "kernelspec": {
   "display_name": "Python 3 (ipykernel)",
   "language": "python",
   "name": "python3"
  },
  "language_info": {
   "codemirror_mode": {
    "name": "ipython",
    "version": 3
   },
   "file_extension": ".py",
   "mimetype": "text/x-python",
   "name": "python",
   "nbconvert_exporter": "python",
   "pygments_lexer": "ipython3",
   "version": "3.10.6"
  }
 },
 "nbformat": 4,
 "nbformat_minor": 5
}
