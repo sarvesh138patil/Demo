{
 "cells": [
  {
   "cell_type": "raw",
   "id": "7513cc25-faf1-4726-a53c-17bbb3d7d58c",
   "metadata": {},
   "source": [
    " 1. Create an assert statement that throws an AssertionError if the variable spam is a negative\n",
    "integer."
   ]
  },
  {
   "cell_type": "code",
   "execution_count": 31,
   "id": "78a1f686-d15e-4afc-8a3c-007d68b197af",
   "metadata": {},
   "outputs": [
    {
     "ename": "AssertionError",
     "evalue": "spam is a negative",
     "output_type": "error",
     "traceback": [
      "\u001b[0;31m---------------------------------------------------------------------------\u001b[0m",
      "\u001b[0;31mAssertionError\u001b[0m                            Traceback (most recent call last)",
      "Cell \u001b[0;32mIn [31], line 3\u001b[0m\n\u001b[1;32m      1\u001b[0m spam \u001b[38;5;241m=\u001b[39m \u001b[38;5;241m-\u001b[39m\u001b[38;5;241m2\u001b[39m\n\u001b[0;32m----> 3\u001b[0m \u001b[38;5;28;01massert\u001b[39;00m spam \u001b[38;5;241m>\u001b[39m \u001b[38;5;241m0\u001b[39m, \u001b[38;5;124m\"\u001b[39m\u001b[38;5;124mspam is a negative\u001b[39m\u001b[38;5;124m\"\u001b[39m\n\u001b[1;32m      4\u001b[0m \u001b[38;5;28mprint\u001b[39m(\u001b[38;5;124m\"\u001b[39m\u001b[38;5;124mspam is not negative\u001b[39m\u001b[38;5;124m\"\u001b[39m)\n",
      "\u001b[0;31mAssertionError\u001b[0m: spam is a negative"
     ]
    }
   ],
   "source": [
    "spam = -2\n",
    "\n",
    "assert spam > 0, \"spam is a negative\"\n",
    "print(\"spam is not negative\")"
   ]
  },
  {
   "cell_type": "raw",
   "id": "5e791ff9-9b0c-480c-86f1-2ced4aeaf3f4",
   "metadata": {},
   "source": [
    "2. Write an assert statement that triggers an AssertionError if the variables eggs and bacon contain\n",
    "strings that are the same as each other, even if their cases are different (that is, 'hello' and 'hello' \n",
    "are considered the same, and &'goodbye' and 'GOODbye' are also considered the same)."
   ]
  },
  {
   "cell_type": "code",
   "execution_count": 37,
   "id": "7aa58afc-8ed6-4705-98cf-99d0a7284a5e",
   "metadata": {},
   "outputs": [
    {
     "ename": "AssertionError",
     "evalue": "Both strings are same",
     "output_type": "error",
     "traceback": [
      "\u001b[0;31m---------------------------------------------------------------------------\u001b[0m",
      "\u001b[0;31mAssertionError\u001b[0m                            Traceback (most recent call last)",
      "Cell \u001b[0;32mIn [37], line 4\u001b[0m\n\u001b[1;32m      1\u001b[0m eggs \u001b[38;5;241m=\u001b[39m \u001b[38;5;124m\"\u001b[39m\u001b[38;5;124mhello\u001b[39m\u001b[38;5;124m\"\u001b[39m\n\u001b[1;32m      2\u001b[0m bacon \u001b[38;5;241m=\u001b[39m \u001b[38;5;124m\"\u001b[39m\u001b[38;5;124mhello\u001b[39m\u001b[38;5;124m\"\u001b[39m\n\u001b[0;32m----> 4\u001b[0m \u001b[38;5;28;01massert\u001b[39;00m eggs\u001b[38;5;241m.\u001b[39mlower() \u001b[38;5;241m!=\u001b[39m bacon\u001b[38;5;241m.\u001b[39mlower(), \u001b[38;5;124m\"\u001b[39m\u001b[38;5;124mBoth strings are same\u001b[39m\u001b[38;5;124m\"\u001b[39m\n\u001b[1;32m      5\u001b[0m \u001b[38;5;28mprint\u001b[39m(\u001b[38;5;124m\"\u001b[39m\u001b[38;5;124mBoth strings are different\u001b[39m\u001b[38;5;124m\"\u001b[39m)\n",
      "\u001b[0;31mAssertionError\u001b[0m: Both strings are same"
     ]
    }
   ],
   "source": [
    "eggs = \"hello\"\n",
    "bacon = \"hello\"\n",
    "\n",
    "assert eggs.lower() != bacon.lower(), \"Both strings are same\"\n",
    "print(\"Both strings are different\")"
   ]
  },
  {
   "cell_type": "code",
   "execution_count": 40,
   "id": "7ea9a5ed-04dd-4124-8f71-acd43d086f70",
   "metadata": {},
   "outputs": [
    {
     "ename": "AssertionError",
     "evalue": "Both strings are same",
     "output_type": "error",
     "traceback": [
      "\u001b[0;31m---------------------------------------------------------------------------\u001b[0m",
      "\u001b[0;31mAssertionError\u001b[0m                            Traceback (most recent call last)",
      "Cell \u001b[0;32mIn [40], line 4\u001b[0m\n\u001b[1;32m      1\u001b[0m eggs \u001b[38;5;241m=\u001b[39m \u001b[38;5;124m\"\u001b[39m\u001b[38;5;124mgoodbye\u001b[39m\u001b[38;5;124m\"\u001b[39m\n\u001b[1;32m      2\u001b[0m bacon \u001b[38;5;241m=\u001b[39m \u001b[38;5;124m\"\u001b[39m\u001b[38;5;124mGOODbye\u001b[39m\u001b[38;5;124m\"\u001b[39m\n\u001b[0;32m----> 4\u001b[0m \u001b[38;5;28;01massert\u001b[39;00m eggs\u001b[38;5;241m.\u001b[39mlower() \u001b[38;5;241m!=\u001b[39m bacon\u001b[38;5;241m.\u001b[39mlower(), \u001b[38;5;124m\"\u001b[39m\u001b[38;5;124mBoth strings are same\u001b[39m\u001b[38;5;124m\"\u001b[39m\n\u001b[1;32m      5\u001b[0m \u001b[38;5;28mprint\u001b[39m(\u001b[38;5;124m\"\u001b[39m\u001b[38;5;124mBoth strings are different\u001b[39m\u001b[38;5;124m\"\u001b[39m)\n",
      "\u001b[0;31mAssertionError\u001b[0m: Both strings are same"
     ]
    }
   ],
   "source": [
    "eggs = \"goodbye\"\n",
    "bacon = \"GOODbye\"\n",
    "\n",
    "assert eggs.lower() != bacon.lower(), \"Both strings are same\"\n",
    "print(\"Both strings are different\")"
   ]
  },
  {
   "cell_type": "raw",
   "id": "baf33f88-cc64-45bd-bc06-a146a6c03385",
   "metadata": {},
   "source": [
    "3. Create an assert statement that throws an AssertionError every time."
   ]
  },
  {
   "cell_type": "code",
   "execution_count": null,
   "id": "52c1e22c-d2c1-40bd-a15d-58571fee5a8a",
   "metadata": {},
   "outputs": [],
   "source": [
    "assert False, 'This assertion always triggers.'"
   ]
  },
  {
   "cell_type": "code",
   "execution_count": null,
   "id": "4a305898-a4b2-4de4-8f31-4bfadfee4de2",
   "metadata": {},
   "outputs": [],
   "source": [
    "4. What are the two lines that must be present in your software in order to call logging.debug()?\n",
    "\n",
    "-->\n",
    "    import logging\n",
    "    logging.basicConfig(level=logging.DEBUG, format=' %(asctime)s -%(levelname)s - %(message)s')"
   ]
  },
  {
   "cell_type": "code",
   "execution_count": null,
   "id": "8bb1c9dc-0674-4b5f-bf18-fcc6f12c6e58",
   "metadata": {},
   "outputs": [],
   "source": [
    "5. What are the two lines that your program must have in order to have logging.debug() send a\n",
    "logging message to a file named programLog.txt?\n",
    "\n",
    "-->\n",
    "    import logging\n",
    "    logging.basicConfig(filename='programLog.txt', level=logging.DEBUG,format=' %(asctime)s - %(levelname)s - %(message)s')"
   ]
  },
  {
   "cell_type": "code",
   "execution_count": null,
   "id": "15025529-8f3b-40fb-8c2b-1391b09fffd8",
   "metadata": {},
   "outputs": [],
   "source": [
    "6. What are the five levels of logging?\n",
    "\n",
    "-->\n",
    "    DEBUG, INFO, WARNING, ERROR, and CRITICAL"
   ]
  },
  {
   "cell_type": "code",
   "execution_count": null,
   "id": "a0348936-b878-4ef9-9000-a5b099cfdd2a",
   "metadata": {},
   "outputs": [],
   "source": [
    "7. What line of code would you add to your software to disable all logging messages?\n",
    "\n",
    "-->\n",
    "    logging.disable(logging.CRITICAL)"
   ]
  },
  {
   "cell_type": "code",
   "execution_count": null,
   "id": "7128b28a-3d79-45c7-81f0-997ff5af7ff4",
   "metadata": {},
   "outputs": [],
   "source": [
    "8.Why is using logging messages better than using print() to display the same message?\n",
    "\n",
    "-->\n",
    "    You can disable logging messages without removing the logging function calls. \n",
    "    You can selectively disable lower-level logging messages. \n",
    "    You can create logging messages. \n",
    "    Logging messages provides a timestamp."
   ]
  },
  {
   "cell_type": "code",
   "execution_count": null,
   "id": "374dad35-26e7-4afb-bb0d-9bbb94db1da2",
   "metadata": {},
   "outputs": [],
   "source": [
    "9. What are the differences between the Step Over, Step In, and Step Out buttons in the debugger?\n",
    "\n",
    "-->\n",
    "    The Step In button will move the debugger into a function call. \n",
    "    The Step Over button will quickly execute the function call without stepping into it. \n",
    "    The Step Out button will quickly execute the rest of the code until it steps out of the function it currently is in. "
   ]
  },
  {
   "cell_type": "code",
   "execution_count": null,
   "id": "96a1c559-fb08-4528-a100-a0bcebd79aac",
   "metadata": {},
   "outputs": [],
   "source": [
    "10.After you click Continue, when will the debugger stop ?\n",
    "\n",
    "-->\n",
    "    After you click Continue, \n",
    "    the debugger will stop when it has reached the end of the program or a line with a breakpoint."
   ]
  },
  {
   "cell_type": "code",
   "execution_count": null,
   "id": "8f4a7637-64e9-4da1-a52d-0c6034dec2cd",
   "metadata": {},
   "outputs": [],
   "source": [
    "11. What is the concept of a breakpoint?\n",
    "\n",
    "-->\n",
    "    A breakpoint is a setting on a line of code \n",
    "    that causes the debugger to pause when the program execution reaches the line."
   ]
  }
 ],
 "metadata": {
  "kernelspec": {
   "display_name": "Python 3 (ipykernel)",
   "language": "python",
   "name": "python3"
  },
  "language_info": {
   "codemirror_mode": {
    "name": "ipython",
    "version": 3
   },
   "file_extension": ".py",
   "mimetype": "text/x-python",
   "name": "python",
   "nbconvert_exporter": "python",
   "pygments_lexer": "ipython3",
   "version": "3.10.6"
  }
 },
 "nbformat": 4,
 "nbformat_minor": 5
}
