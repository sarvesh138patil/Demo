{
 "cells": [
  {
   "cell_type": "code",
   "execution_count": null,
   "id": "c7aa08c7-d467-40f5-a9f3-7dea820cd1f2",
   "metadata": {},
   "outputs": [],
   "source": [
    "1. In what modes should the PdfFileReader() and PdfFileWriter() File objects will be opened?\n",
    "\n",
    "-->\n",
    "    Read-binary ('rb') for PdfFileReader() and write-binary ('wb') for PdfFileWriter()"
   ]
  },
  {
   "cell_type": "code",
   "execution_count": null,
   "id": "88ed8e70-f1d0-4dc7-b21f-6f2c4bbe2c02",
   "metadata": {},
   "outputs": [],
   "source": [
    "2. From a PdfFileReader object, how do you get a Page object for page 5?\n",
    "\n",
    "-->\n",
    "    Calling getPage(5) will return a Page object for About this Book, since page 0 is the first page."
   ]
  },
  {
   "cell_type": "code",
   "execution_count": null,
   "id": "e512eff1-bca1-48f4-bf20-c8f7f7410e70",
   "metadata": {},
   "outputs": [],
   "source": [
    "3. What PdfFileReader variable stores the number of pages in the PDF document?\n",
    "\n",
    "-->\n",
    "    The numPages variable stores an integer of the number of pages in the PdfFileReader object."
   ]
  },
  {
   "cell_type": "code",
   "execution_count": null,
   "id": "d5f85d04-a832-4f19-a3cf-c2120a70ca5f",
   "metadata": {},
   "outputs": [],
   "source": [
    "4. If a PdfFileReader object’s PDF is encrypted with the password swordfish, what must you do\n",
    "before you can obtain Page objects from it?\n",
    "\n",
    "-->\n",
    "    Call decrypt('swordfish')"
   ]
  },
  {
   "cell_type": "code",
   "execution_count": null,
   "id": "ba38bd55-bd47-46f0-952c-38f71d63ce50",
   "metadata": {},
   "outputs": [],
   "source": [
    "5. What methods do you use to rotate a page?\n",
    "\n",
    "-->\n",
    "    GetRotation() \n",
    "    rotateClockWise() -> For Clockwise rotation\n",
    "    rotateCounterClockWise() -> For Counter Clockwise rotation"
   ]
  },
  {
   "cell_type": "code",
   "execution_count": null,
   "id": "2be6910b-8933-4fa7-bd8c-6849d53d787f",
   "metadata": {},
   "outputs": [],
   "source": [
    "6. What is the difference between a Run object and a Paragraph object?\n",
    "\n",
    "-->\n",
    "    A document contains multiple paragraphs. \n",
    "    A paragraph begins on a new line and contains multiple runs. \n",
    "    Runs are contiguous groups of characters within the a paragraph."
   ]
  },
  {
   "cell_type": "code",
   "execution_count": null,
   "id": "86ae9aa4-f4a1-4a65-8dbb-c65364bce74f",
   "metadata": {},
   "outputs": [],
   "source": [
    "7. How do you obtain a list of Paragraph objects for a Document object that’s stored in a variable\n",
    "named doc?\n",
    "\n",
    "-->\n",
    "    from docx import Document\n",
    "    doc = Document(\"sample_file.docx\") # Path of the Docx file\n",
    "    print(doc.paragraphs) # Prints the list of Paragraph objects for a Document\n",
    "    for paragraph in doc.paragraphs:\n",
    "    print(paragraph.text) # Prints the text in the paragraph"
   ]
  },
  {
   "cell_type": "code",
   "execution_count": null,
   "id": "075d72a8-c898-4d4d-a2cc-cfc9522e5ee3",
   "metadata": {},
   "outputs": [],
   "source": [
    "8. What type of object has bold, underline, italic, strike, and outline variables?\n",
    "\n",
    "-->\n",
    "    Run object has bold, underline, italic, strike, and outline variables. \n",
    "    The text in a Word document is more than just a string. \n",
    "    It has font, size, color, and other styling information associated with it.\n",
    "\n",
    "    A style in Word is a collection of these attributes. \n",
    "    A Run object is a contiguous run of text with the same style.\n",
    "    A new Run object is needed whenever the text style changes."
   ]
  },
  {
   "cell_type": "code",
   "execution_count": null,
   "id": "a786ea6a-3d47-4025-81c8-7fb0b1126020",
   "metadata": {},
   "outputs": [],
   "source": [
    "9. What is the difference between False, True, and None for the bold variable?\n",
    "\n",
    "-->\n",
    "    bold = True  # Style Set to Bold\n",
    "    bold = False # Style Not Set to Bold\n",
    "    bold = None # Style is Not Applicable"
   ]
  },
  {
   "cell_type": "code",
   "execution_count": null,
   "id": "86f92e4a-9882-4eac-8a66-23a03f7612ee",
   "metadata": {},
   "outputs": [],
   "source": [
    "10. How do you create a Document object for a new Word document?\n",
    "\n",
    "-->\n",
    "    Call the docx.Document() function."
   ]
  },
  {
   "cell_type": "code",
   "execution_count": null,
   "id": "7d2e9a41-3049-4d9c-95c8-08f480fe6ff3",
   "metadata": {},
   "outputs": [],
   "source": [
    "11. How do you add a paragraph with the text &'Hello, there!' to a Document object stored in a\n",
    "variable named doc?\n",
    "\n",
    "-->\n",
    "    doc.add_paragraph('Hello there!')"
   ]
  },
  {
   "cell_type": "code",
   "execution_count": null,
   "id": "e8c455d7-3769-4b67-941b-7184f52cacc7",
   "metadata": {},
   "outputs": [],
   "source": [
    "12. What integers represent the levels of headings available in Word documents?\n",
    "\n",
    "-->\n",
    "    The levels for a heading in a word document can be specified by using the level attribute inside the add_heading method.\n",
    "    There are a total of 5 levels statring for 0 t0 4. where level 0 makes a headline with the horizontal line below the text, \n",
    "    whereas the heading level 1 is the main heading. \n",
    "    Similarly, the other headings are sub-heading with their font-sizes in decreasing order."
   ]
  }
 ],
 "metadata": {
  "kernelspec": {
   "display_name": "Python 3 (ipykernel)",
   "language": "python",
   "name": "python3"
  },
  "language_info": {
   "codemirror_mode": {
    "name": "ipython",
    "version": 3
   },
   "file_extension": ".py",
   "mimetype": "text/x-python",
   "name": "python",
   "nbconvert_exporter": "python",
   "pygments_lexer": "ipython3",
   "version": "3.10.6"
  }
 },
 "nbformat": 4,
 "nbformat_minor": 5
}
