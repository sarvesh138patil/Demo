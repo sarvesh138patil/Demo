{
 "cells": [
  {
   "cell_type": "code",
   "execution_count": null,
   "id": "916a6909-1533-4abb-b47c-507c49f044ce",
   "metadata": {},
   "outputs": [],
   "source": [
    "1. How do you distinguish between shutil.copy() and shutil.copytree()?\n",
    "\n",
    "-->\n",
    "    The shutil.copy() function will copy a single file, \n",
    "    while shutil.copytree() will copy an entire folder, \n",
    "    along with all its contents."
   ]
  },
  {
   "cell_type": "code",
   "execution_count": null,
   "id": "3e258914-02eb-4d40-b186-d85d15dc93d2",
   "metadata": {},
   "outputs": [],
   "source": [
    "2. What function is used to rename files?\n",
    "\n",
    "-->\n",
    "    The shutil.move() function is used for renaming files, as well as moving them."
   ]
  },
  {
   "cell_type": "code",
   "execution_count": null,
   "id": "3728fbdc-17a1-4c94-ae52-7055690207f8",
   "metadata": {},
   "outputs": [],
   "source": [
    "3. What is the difference between the delete functions in the send2trash and shutil modules?\n",
    "\n",
    "-->\n",
    "    The send2trash functions will move a file or folder to the recycle bin, \n",
    "    while shutil functions will permanently delete files and folders."
   ]
  },
  {
   "cell_type": "code",
   "execution_count": null,
   "id": "b7e8060d-dbc5-4a04-b144-60879415d913",
   "metadata": {},
   "outputs": [],
   "source": [
    "4.ZipFile objects have a close() method just like File objects’ close() method. What ZipFile method is\n",
    "equivalent to File objects’ open() method?\n",
    "\n",
    "-->\n",
    "    The zipfile.ZipFile() function is equivalent to the open() function; the first argument is the filename, \n",
    "    and the second argument is the mode to open the ZIP file in (read, write, or append)."
   ]
  },
  {
   "cell_type": "code",
   "execution_count": null,
   "id": "1393742a-e497-45d9-99f1-cc1414f1ab71",
   "metadata": {},
   "outputs": [],
   "source": [
    "5. Create a programme that searches a folder tree for files with a certain file extension (such as .pdf\n",
    "or .jpg). Copy these files from whatever location they are in to a new folder.\n",
    "\n",
    "-->\n",
    "\n",
    "import os, shutil\n",
    "\n",
    "sourcePath = input('Enter the absolute path of the source folder: ')\n",
    "fileExtType = input('Enter the type of file to copy (such as .pdf or .jpg): ').lower()\n",
    "destPath = input('Enter the absolute path of the destination folder: ')\n",
    "\n",
    "for foldername, subfolders, filenames in os.walk(sourcePath):\n",
    "    for filename in filenames:\n",
    "        if filename.lower().endswith(fileExtType):\n",
    "             #print(foldername + ‘\\\\’ + filename)\n",
    "            copySourcePath = os.path.join(foldername, filename)\n",
    "             #print(copySourcePath)\n",
    "            shutil.copy(copySourcePath, destPath)\n",
    "        else:\n",
    "            continue\n",
    "    \n",
    "This code uses the os module to traverse the folder tree and the shutil module to copy the files to the destination folder. The search_and_copy function takes the src_folder as the source folder, dst_folder as the destination folder, and extension as the file extension to search for. The function uses the os.walk method to traverse the folder tree and os.path.join to create the source and destination paths for each file. \n",
    "Finally, the shutil.copy function is used to copy each file to the destination folder. "
   ]
  }
 ],
 "metadata": {
  "kernelspec": {
   "display_name": "Python 3 (ipykernel)",
   "language": "python",
   "name": "python3"
  },
  "language_info": {
   "codemirror_mode": {
    "name": "ipython",
    "version": 3
   },
   "file_extension": ".py",
   "mimetype": "text/x-python",
   "name": "python",
   "nbconvert_exporter": "python",
   "pygments_lexer": "ipython3",
   "version": "3.10.6"
  }
 },
 "nbformat": 4,
 "nbformat_minor": 5
}
