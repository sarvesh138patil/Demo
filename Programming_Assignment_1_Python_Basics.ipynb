{
 "cells": [
  {
   "cell_type": "raw",
   "id": "1aca4b60-1c89-4fed-9dde-01f1a84d9a6a",
   "metadata": {},
   "source": [
    "1. Write a Python program to print 'Hello Python'?"
   ]
  },
  {
   "cell_type": "code",
   "execution_count": 1,
   "id": "96d335bb-8ac0-49b3-85d3-99693d0ccea3",
   "metadata": {},
   "outputs": [
    {
     "name": "stdout",
     "output_type": "stream",
     "text": [
      "Hello Python\n"
     ]
    }
   ],
   "source": [
    "print(\"Hello Python\")"
   ]
  },
  {
   "cell_type": "raw",
   "id": "5338e84a-20ba-4f7f-81b1-bca7f04f5136",
   "metadata": {},
   "source": [
    "2. Write a Python program to do arithmetical operations addition and division.?"
   ]
  },
  {
   "cell_type": "code",
   "execution_count": 10,
   "id": "12ec066f-ac6d-4849-b1a3-26cf1b2def81",
   "metadata": {},
   "outputs": [
    {
     "name": "stdin",
     "output_type": "stream",
     "text": [
      "Enter the first number 6\n",
      "Enter the second number 3\n",
      "Enter the operation : add or div div\n"
     ]
    },
    {
     "name": "stdout",
     "output_type": "stream",
     "text": [
      "The division is :  2.0\n"
     ]
    }
   ],
   "source": [
    "a= int(input(\"Enter the first number\"))\n",
    "b = int(input(\"Enter the second number\"))\n",
    "operation = input(\"Enter the operation : add or div\")\n",
    "\n",
    "if operation == 'add':\n",
    "    c = a + b\n",
    "    print(\"The addition is : \",c)\n",
    "elif operation == 'div':\n",
    "    c = a/b\n",
    "    print(\"The division is : \",c)\n",
    "else:\n",
    "    print(\"Enter the valid operation\")"
   ]
  },
  {
   "cell_type": "raw",
   "id": "69718582-cc68-4b50-b274-f65320cb59c8",
   "metadata": {},
   "source": [
    "3. Write a Python program to find the area of a triangle?"
   ]
  },
  {
   "cell_type": "code",
   "execution_count": 19,
   "id": "7c6391d5-ded5-43cf-a38f-56b6cee51112",
   "metadata": {},
   "outputs": [
    {
     "name": "stdin",
     "output_type": "stream",
     "text": [
      "Enter the height of a triangle:  4\n",
      "Enter the base of the triangle 2\n"
     ]
    },
    {
     "name": "stdout",
     "output_type": "stream",
     "text": [
      "Area of a triangle is :  4.0\n"
     ]
    }
   ],
   "source": [
    "height = int(input(\"Enter the height of a triangle: \"))\n",
    "base = int(input(\"Enter the base of the triangle\"))\n",
    "Area = (height*base)/2\n",
    "print(\"Area of a triangle is : \", Area)"
   ]
  },
  {
   "cell_type": "raw",
   "id": "a3d4a1a8-40db-4584-a46a-2990c113104f",
   "metadata": {},
   "source": [
    "4. Write a Python program to swap two variables?"
   ]
  },
  {
   "cell_type": "code",
   "execution_count": 27,
   "id": "69ba7ac3-76b8-47ff-85c5-a671443cce28",
   "metadata": {},
   "outputs": [
    {
     "name": "stdin",
     "output_type": "stream",
     "text": [
      "Enter the first number :  2\n",
      "Enter the second number :  7\n"
     ]
    },
    {
     "name": "stdout",
     "output_type": "stream",
     "text": [
      "Numbers before swapping ->  a = 2 b = 7\n",
      "Numbers after swapping ->  a = 7 b = 2\n"
     ]
    }
   ],
   "source": [
    "a = int(input(\"Enter the first number : \"))\n",
    "b = int(input(\"Enter the second number : \"))\n",
    "print(f\"Numbers before swapping ->  a = {a} b = {b}\")\n",
    "a = a+b\n",
    "b = a-b\n",
    "a = a-b\n",
    "print(f\"Numbers after swapping ->  a = {a} b = {b}\")"
   ]
  },
  {
   "cell_type": "raw",
   "id": "73fbb0ba-ea2a-488b-bf92-974036d7ed77",
   "metadata": {},
   "source": [
    "5. Write a Python program to generate a random number?"
   ]
  },
  {
   "cell_type": "code",
   "execution_count": 31,
   "id": "333d1814-8b4e-4775-9ab2-2fe101535f65",
   "metadata": {},
   "outputs": [
    {
     "name": "stdout",
     "output_type": "stream",
     "text": [
      "70\n"
     ]
    }
   ],
   "source": [
    "import random\n",
    "\n",
    "num = random.randint(0,100)\n",
    "print(num)"
   ]
  }
 ],
 "metadata": {
  "kernelspec": {
   "display_name": "Python 3 (ipykernel)",
   "language": "python",
   "name": "python3"
  },
  "language_info": {
   "codemirror_mode": {
    "name": "ipython",
    "version": 3
   },
   "file_extension": ".py",
   "mimetype": "text/x-python",
   "name": "python",
   "nbconvert_exporter": "python",
   "pygments_lexer": "ipython3",
   "version": "3.10.6"
  }
 },
 "nbformat": 4,
 "nbformat_minor": 5
}
