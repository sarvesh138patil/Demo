{
 "cells": [
  {
   "cell_type": "markdown",
   "id": "a84872cf-0498-404f-9945-4b398aa073eb",
   "metadata": {},
   "source": [
    "1.What does one mean by term \"Machine Learning\"\n",
    "\n",
    "-->\n",
    "    Machine learning Popularly known as ML is a branch of Artificial Intelligence (AI) that allows software applications to become more accurate at predicting   \n",
    "    outcomes without being explicitly programmed to do so. \n",
    "    Machine learning algorithms use historical data as input to predict new output values."
   ]
  },
  {
   "cell_type": "markdown",
   "id": "e8d1d6d0-de7c-46ae-9cf3-b26d33891411",
   "metadata": {},
   "source": [
    "2.Can you think of 4 distinct types of issues where it shines?\n",
    "\n",
    "-->\n",
    "    The following are some of the issues where Machine Learning can be used:\n",
    "    Image Recognition\n",
    "    Speech Recognition\n",
    "    Traffic prediction\n",
    "    Product recommendations"
   ]
  },
  {
   "cell_type": "markdown",
   "id": "ae966097-6ab6-4bee-8cfa-22b251747204",
   "metadata": {},
   "source": [
    "3.What is a labeled training set, and how does it work?\n",
    "\n",
    "-->\n",
    "     You split up the data containing known response variable values into two pieces. \n",
    "     The training set is used to train the algorithm, and \n",
    "     then you use the trained model on the test set to predict the response variable values that are already known."
   ]
  },
  {
   "cell_type": "markdown",
   "id": "94b4075f-5f62-4216-82cb-e8c52e5c4ee4",
   "metadata": {},
   "source": [
    "4.What are the two most important tasks that are supervised?\n",
    "\n",
    "-->\n",
    "    Two most common supervised tasks are classification and regression."
   ]
  },
  {
   "cell_type": "markdown",
   "id": "1af323fc-64bc-420a-9c12-8ca0891ab820",
   "metadata": {},
   "source": [
    "5.Can you think of four examples of unsupervised tasks?\n",
    "\n",
    "-->\n",
    "    Four common unsupervised tasks inclused clustering, visualization, dimensionality reduction , and association rule learning."
   ]
  },
  {
   "cell_type": "markdown",
   "id": "7756c214-3b73-4d36-89d1-c0e917b1d8a5",
   "metadata": {},
   "source": [
    "6.State the machine learning model that would be best to make a robot walk through various\n",
    "unfamiliar terrains?\n",
    "\n",
    "-->\n",
    "   The best Machine Learning algorithm to allow a robot to walk in unknown terrain is Reinforced Learning, \n",
    "   where the robot can learn from response of the terrain to optimize itself. "
   ]
  },
  {
   "cell_type": "markdown",
   "id": "0425cd99-2e50-468e-8100-b7d7a4479d35",
   "metadata": {},
   "source": [
    "7.Which algorithm will you use to divide your customers into different groups?\n",
    "\n",
    "-->\n",
    "    The Best Algorithm to Segment Customers into different groups is either Supervised Learning (if the groups have known labels) or \n",
    "    Unsupervised Learning (if there are no group labels)."
   ]
  },
  {
   "cell_type": "markdown",
   "id": "a9dcff7f-505e-4b7b-8211-99f181f28747",
   "metadata": {},
   "source": [
    "8.Will you consider the problem of spam detection to be a supervised or unsupervised learning\n",
    "problem?\n",
    "\n",
    "-->\n",
    "    Spam detection is a Supervised Machine Learning problem because the labels are known (spam or no spam)."
   ]
  },
  {
   "cell_type": "markdown",
   "id": "8b993c19-03f2-48c4-9617-8326345cd845",
   "metadata": {},
   "source": [
    "9.What is the concept of an online learning system?\n",
    "\n",
    "-->\n",
    "    Online learning system is a learning system in which the machine learns continously, as data is given in small streams continuously."
   ]
  },
  {
   "cell_type": "markdown",
   "id": "56a7d0d8-dede-4cbe-b344-9572bde2ea7c",
   "metadata": {},
   "source": [
    "10.What is out-of-core learning, and how does it differ from core learning?\n",
    "\n",
    "-->\n",
    "    Out-of-core learning system is a system that can handle data that cannot fit into your computer memory. It uses online learning system to feed data in small \n",
    "    bits."
   ]
  },
  {
   "cell_type": "markdown",
   "id": "bf2663b6-8f4a-41de-8de5-d529a1fc4f87",
   "metadata": {},
   "source": [
    "11.What kind of learning algorithm makes predictions using a similarity measure?\n",
    "\n",
    "-->\n",
    "    Learning algorithm that relies on a similarity measure to make predictions is Instance Based Algorithm."
   ]
  },
  {
   "cell_type": "markdown",
   "id": "108eeb0f-9022-40e2-887e-701bd210c953",
   "metadata": {},
   "source": [
    "12.What's the difference between a model parameter and a hyperparameter in a learning\n",
    "algorithm?\n",
    "\n",
    "-->\n",
    "    Model parameter determines how a model will predict given a new instance. \n",
    "    Model usually has more than one parameter (i.e. slope of a linear model). \n",
    "    Hyperparameter is a parameter for the learning algorithm, not of a model."
   ]
  },
  {
   "cell_type": "markdown",
   "id": "ea3ab845-d2e9-4ab9-b3f8-476a6a36e192",
   "metadata": {},
   "source": [
    "13.What are the criteria that model-based learning algorithms look for? What is the most popular\n",
    "method they use to achieve success? What method do they use to make predictions?\n",
    "\n",
    "-->\n",
    "    Model based learning algorithm search for the optimal value of parameters in a model that will give the best results for the new instances. We often use a \n",
    "    cost function or similar to determine what the parameter value has to be in order to minimize the function. The model makes prediction by using the value of \n",
    "    the new instance and the parameters in its function."
   ]
  },
  {
   "cell_type": "markdown",
   "id": "ff9be319-7dbe-4d61-b275-7c5a1424c9ba",
   "metadata": {},
   "source": [
    "14.Can you name four of the most important Machine Learning challenges?\n",
    "\n",
    "-->\n",
    "    Four main challenges in Machine Learning include the following:\n",
    "    Overfitting the Data (using a model too complicated)\n",
    "    Underfitting the data (using a simple model)\n",
    "    Lacking in Data\n",
    "    Non Representative Data."
   ]
  },
  {
   "cell_type": "markdown",
   "id": "ff64a697-a8bc-4131-a772-90f0b289e4e1",
   "metadata": {},
   "source": [
    "15.What happens if the model performs well on the training data but fails to generalize the results\n",
    "to new situations? Can you think of three different options?\n",
    "\n",
    "-->\n",
    "     If the model performs poorly to new instances, then it has overfitted on the training data. To solve this, we can do any of the following three:\n",
    "    Get more data\n",
    "    Implement a simpler model\n",
    "    Eliminate outliers or noise from the existing data set."
   ]
  },
  {
   "cell_type": "markdown",
   "id": "ad8ee1c8-b26d-4693-ae11-5d780cdfd555",
   "metadata": {},
   "source": [
    "16.What exactly is a test set, and why would you need one?\n",
    "\n",
    "-->\n",
    "    Test set is a set to test your model (fit using training data) to see how it performs.\n",
    "    Test set is necessary to determine how good (or bad) a model performs."
   ]
  },
  {
   "cell_type": "markdown",
   "id": "406beb42-cd7a-4988-9d86-40f9429dcac2",
   "metadata": {},
   "source": [
    "17.What is a validation set's purpose?\n",
    "\n",
    "-->\n",
    "    Validation set is a set used to compare between different training models."
   ]
  },
  {
   "cell_type": "markdown",
   "id": "82dcddff-74f0-4daa-beaa-6897be49244b",
   "metadata": {},
   "source": [
    "18.What precisely is the train-dev kit, when will you need it, how do you put it to use?\n",
    "\n",
    "-->\n",
    "    Cross-validation is a tool to compare models without needing a separate validation set. \n",
    "    It is preferred over validation set because we can save from breaking of part of the training set to create a validation set, \n",
    "    as having more data is valuable regardless."
   ]
  },
  {
   "cell_type": "markdown",
   "id": "e409b812-80de-4c16-b301-e23160a1b30a",
   "metadata": {},
   "source": [
    "19.What could go wrong if you use the test set to tune hyperparameters?\n",
    "\n",
    "-->\n",
    "     If you tune hyperparameters using the test sets, then it may not perform well on the out-of-sample data because\n",
    "     the model is tuned just for that specific set."
   ]
  }
 ],
 "metadata": {
  "kernelspec": {
   "display_name": "Python 3 (ipykernel)",
   "language": "python",
   "name": "python3"
  },
  "language_info": {
   "codemirror_mode": {
    "name": "ipython",
    "version": 3
   },
   "file_extension": ".py",
   "mimetype": "text/x-python",
   "name": "python",
   "nbconvert_exporter": "python",
   "pygments_lexer": "ipython3",
   "version": "3.10.6"
  }
 },
 "nbformat": 4,
 "nbformat_minor": 5
}
