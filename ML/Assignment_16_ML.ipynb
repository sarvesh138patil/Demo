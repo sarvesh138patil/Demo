{
 "cells": [
  {
   "cell_type": "markdown",
   "id": "041ed8db-eb55-4df1-926d-7920e3a1cbe6",
   "metadata": {},
   "source": [
    "1.In a linear equation, what is the difference between a dependent variable and an independent variable ?\n",
    "\n",
    "-->\n",
    "    Algebraically, a linear equation typically takes the form y = mx + b, where m and b are constants, x is the independent variable, y is the dependent variable. The slope tells us how the dependent variable (y) changes for every one unit increase in the independent (x) variable, on average.\n",
    "\n",
    "The variables in a study of a cause-and-effect relationship are called the independent and dependent variables. The independent variable is the cause. Its value is independent of other variables in your study. The dependent variable is the effect"
   ]
  },
  {
   "cell_type": "markdown",
   "id": "fa2d7a6c-d8a0-4596-9bf6-c9cf930ab046",
   "metadata": {},
   "source": [
    "2.What is the concept of simple linear regression? Give a specific example?\n",
    "\n",
    "-->\n",
    "    Simple linear regression is a regression model that estimates the relationship between one independent variable and one dependent variable using a straight line. Both variables should be quantitative. Linear regression most often uses mean-square error (MSE) to calculate the error of the model.\n",
    "\n",
    "For example, suppose that height was the only determinant of body weight.In this example, if an individual was 70 inches tall, we would predict his weight to be: Weight = 80 + 2 x (70) = 220 lbs. In this simple linear regression, we are examining the impact of one independent variable on the outcome."
   ]
  },
  {
   "cell_type": "markdown",
   "id": "f119b2a9-06b5-4012-8607-170d2a613617",
   "metadata": {},
   "source": [
    "3.In a linear regression, define the slope ?\n",
    "\n",
    "-->\n",
    "    The slope of a regression line (b) represents the rate of change in y as x changes. Because y is dependent on x, the slope describes the predicted values of y given x. The slope must be calculated before the y-intercept when using a linear regression, as the intercept is calculated using the slope."
   ]
  },
  {
   "cell_type": "markdown",
   "id": "3c08ef46-8412-4c48-a7c7-cb2c714aac01",
   "metadata": {},
   "source": [
    "4.Determine the graph's slope, where the lower point on the line is represented as (3, 2) and the higher point is represented as (2, 2) ?\n",
    "\n",
    "-->\n",
    "    The graph's slope, where the lower point on the line is represented as (3, 2) and the higher point is represented as (2, 2) is 0"
   ]
  },
  {
   "cell_type": "markdown",
   "id": "fe5ca641-bc38-4ec2-8c38-67a60a752b27",
   "metadata": {},
   "source": [
    "5.In linear regression, what are the conditions for a positive slope ?\n",
    "\n",
    "-->\n",
    "    If the slope is positive, y increases as x increases, and the function runs \"uphill\" (going left to right). If the slope is zero, y does not change, thus is constant—a horizontal line."
   ]
  },
  {
   "cell_type": "markdown",
   "id": "16a11331-dcc0-4fe4-abbe-826b8ead3407",
   "metadata": {},
   "source": [
    "6.In linear regression, what are the conditions for a negative slope ?\n",
    "\n",
    "-->\n",
    "    If the slope is negative, y decreases as x increases and the function runs downhill."
   ]
  },
  {
   "cell_type": "markdown",
   "id": "a6568ab0-05a4-4547-9f4c-b87d49a6ef58",
   "metadata": {},
   "source": [
    "7.What is multiple linear regression and how does it work ?\n",
    "\n",
    "-->\n",
    "    Multiple linear regression refers to a statistical technique that uses two or more independent variables to predict the outcome of a dependent variable. The technique enables analysts to determine the variation of the model and the relative contribution of each independent variable in the total variance."
   ]
  },
  {
   "cell_type": "markdown",
   "id": "d6c1c6da-94d8-48d6-82fd-3e48383e90f2",
   "metadata": {},
   "source": [
    "8.In multiple linear regression, define the number of squares due to error?\n",
    "\n",
    "-->\n",
    "    The mean squared error (MSE) tells you how close a regression line is to a set of points. It does this by taking the distances from the points to the regression line (these distances are the “errors”) and squaring them. It's called the mean squared error as you're finding the average of a set of errors."
   ]
  },
  {
   "cell_type": "markdown",
   "id": "6f0d7cba-3c0f-40be-b466-a93ba3948b42",
   "metadata": {},
   "source": [
    "9.In multiple linear regression, define the number of squares due to regression ?\n",
    "\n",
    "-->\n",
    "    Sum of squares is a statistical technique used in regression analysis to determine the dispersion of data points. In a regression analysis, the goal is to determine how well a data series can be fitted to a function that might help to explain how the data series was generated."
   ]
  },
  {
   "cell_type": "markdown",
   "id": "3075dbfa-a3e8-426e-909e-a9b5b7033586",
   "metadata": {},
   "source": [
    "10.In a regression equation, what is multicollinearity ?\n",
    "\n",
    "-->\n",
    "    Multicollinearity occurs when two or more independent variables are highly correlated with one another in a regression model. This means that an independent variable can be predicted from another independent variable in a regression model."
   ]
  },
  {
   "cell_type": "markdown",
   "id": "e6dcbb10-6870-4315-a071-8f4d30b04b8d",
   "metadata": {},
   "source": [
    "11.What is heteroskedasticity, and what does it mean ?\n",
    "\n",
    "-->\n",
    "    Heteroskedasticity (also spelled heteroscedasticity) refers to the error variance, or dependence of scattering, within a minimum of one independent variable within a particular sample.A common cause of variances outside the minimum requirement is often attributed to issues of data quality."
   ]
  },
  {
   "cell_type": "markdown",
   "id": "d4eb34ad-f97a-4d2f-8837-58ee0cbbdf32",
   "metadata": {},
   "source": [
    "12.Describe the concept of ridge regression ?\n",
    "\n",
    "-->\n",
    "    Ridge Regression is a technique for analyzing multiple regression data that suffer from multicollinearity.By adding a degree of bias to the regression estimates, ridge regression reduces the standard errors. It is hoped that the net effect will be to give estimates that are more reliable."
   ]
  },
  {
   "cell_type": "markdown",
   "id": "27ef1e7e-ae9a-4be0-8fa7-7cfefe34bf21",
   "metadata": {},
   "source": [
    "13.Describe the concept of lasso regression ?\n",
    "\n",
    "-->\n",
    "    In statistics and machine learning, lasso (least absolute shrinkage and selection operator; also Lasso or LASSO) is a regression analysis method that performs both variable selection and regularization in order to enhance the prediction accuracy and interpretability of the resulting statistical model."
   ]
  },
  {
   "cell_type": "markdown",
   "id": "223cf05f-b3f2-48e5-b39c-efb9af033129",
   "metadata": {},
   "source": [
    "14.What is polynomial regression and how does it work ?\n",
    "\n",
    "-->\n",
    "    Polynomial Regression is a form of Linear regression known as a special case of Multiple linear regression which estimates the relationship as an nth degree polynomial. Polynomial Regression is sensitive to outliers so the presence of one or two outliers can also badly affect the performance."
   ]
  },
  {
   "cell_type": "markdown",
   "id": "f010fad2-3457-463b-b2a3-3dcdcd147e30",
   "metadata": {},
   "source": [
    "15.Describe the basis function ?\n",
    "\n",
    "-->\n",
    "    This is a generalization of linear regression that essentially replaces each input with a function of the input. (A linear basis function model that uses the identity function is just linear regression.)"
   ]
  },
  {
   "cell_type": "markdown",
   "id": "0630b4bf-a1f3-460c-bc28-1c6ddaf5a6cf",
   "metadata": {},
   "source": [
    "16.Describe how logistic regression works ?\n",
    "\n",
    "-->\n",
    "    Logistic regression uses an equation as the representation, very much like linear regression. Input values (x) are combined linearly using weights or coefficient values (referred to as the Greek capital letter Beta) to predict an output value (y)."
   ]
  }
 ],
 "metadata": {
  "kernelspec": {
   "display_name": "Python 3 (ipykernel)",
   "language": "python",
   "name": "python3"
  },
  "language_info": {
   "codemirror_mode": {
    "name": "ipython",
    "version": 3
   },
   "file_extension": ".py",
   "mimetype": "text/x-python",
   "name": "python",
   "nbconvert_exporter": "python",
   "pygments_lexer": "ipython3",
   "version": "3.10.6"
  }
 },
 "nbformat": 4,
 "nbformat_minor": 5
}
