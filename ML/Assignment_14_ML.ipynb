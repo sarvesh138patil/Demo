{
 "cells": [
  {
   "cell_type": "markdown",
   "id": "242e0940-9a18-468f-b315-0991ad8ae4db",
   "metadata": {},
   "source": [
    "1.What is the concept of supervised learning? What is the significance of the name ?\n",
    "\n",
    "-->\n",
    "    Supervised learning, also known as supervised machine learning, is a subcategory of machine learning and artificial intelligence. It is defined by its use of labeled datasets to train algorithms that to classify data or predict outcomes accurately."
   ]
  },
  {
   "cell_type": "markdown",
   "id": "21e0dc0b-243f-4aa2-859e-fa767e6f6cf7",
   "metadata": {},
   "source": [
    "2.In the hospital sector, offer an example of supervised learning ?\n",
    "\n",
    "-->\n",
    "    Supervised learning uses a training set to teach models to yield the desired output. This training dataset includes inputs and correct outputs, which allow the model to learn over time. The algorithm measures its accuracy through the loss function, adjusting until the error has been sufficiently minimized."
   ]
  },
  {
   "cell_type": "markdown",
   "id": "31b4400c-a38f-4d78-b2f3-668c57685e19",
   "metadata": {},
   "source": [
    "3.Give three supervised learning examples ?\n",
    "\n",
    "-->\n",
    "    Example of Supervised Learning Algorithms are:\n",
    "\n",
    "Linear Regression.\n",
    "Nearest Neighbor.\n",
    "Gaussian Naive Bayes.\n",
    "Decision Trees.\n",
    "Support Vector Machine (SVM)\n",
    "Random Forest."
   ]
  },
  {
   "cell_type": "markdown",
   "id": "50084b6e-17dd-4982-a1a2-2b655f9e7567",
   "metadata": {},
   "source": [
    "4.In supervised learning, what are classification and regression ?\n",
    "\n",
    "-->\n",
    "    Fundamentally, classification is about predicting a label and regression is about predicting a quantity. That classification is the problem of predicting a discrete class label output for an example. That regression is the problem of predicting a continuous quantity output for an example."
   ]
  },
  {
   "cell_type": "markdown",
   "id": "4247a152-802e-48b1-a7d8-c21df4762055",
   "metadata": {},
   "source": [
    "5.Give some popular classification algorithms as examples ?\n",
    "\n",
    "-->\n",
    "    Popular algorithms that can be used for multi-class classification include:\n",
    "\n",
    "k-Nearest Neighbors\n",
    "Decision Trees.\n",
    "Naive Bayes"
   ]
  },
  {
   "cell_type": "markdown",
   "id": "19998b51-08b3-44cb-82ea-ce2fbd1ae358",
   "metadata": {},
   "source": [
    "6.Briefly describe the SVM model ?\n",
    "\n",
    "-->\n",
    "    A support vector machine (SVM) is a supervised machine learning model that uses classification algorithms for two-group classification problems. After giving an SVM model sets of labeled training data for each category, they're able to categorize new text."
   ]
  },
  {
   "cell_type": "markdown",
   "id": "bfa6ef3f-09dd-424e-b57c-03a44ff76101",
   "metadata": {},
   "source": [
    "7.In SVM, what is the cost of misclassification ?\n",
    "\n",
    "-->\n",
    "    In cost-sensitive learning instead of each instance being either correctly or incorrectly classified, each class (or instance) is given a misclassification cost. Thus, instead of trying to optimize the accuracy, the problem is then to minimize the total misclassification cost."
   ]
  },
  {
   "cell_type": "markdown",
   "id": "e58cb5ce-c436-40bd-bc25-839a5af5a996",
   "metadata": {},
   "source": [
    "8.In the SVM model, define Support Vectors ?\n",
    "\n",
    "-->\n",
    "    Support vectors are data points that are closer to the hyperplane and influence the position and orientation of the hyperplane. Using these support vectors, we maximize the margin of the classifier. Deleting the support vectors will change the position of the hyperplane. These are the points that help us build our SVM."
   ]
  },
  {
   "cell_type": "markdown",
   "id": "e32abb9c-30cf-4586-93f6-e74b20a65963",
   "metadata": {},
   "source": [
    "9.In the SVM model, define the kernel ?\n",
    "\n",
    "-->\n",
    "    SVM algorithms use a set of mathematical functions that are defined as the kernel. The function of kernel is to take data as input and transform it into the required form. These functions can be different types. For example linear, nonlinear, polynomial, radial basis function (RBF), and sigmoid."
   ]
  },
  {
   "cell_type": "markdown",
   "id": "177e4c49-ee72-4959-b60b-44fed9d0b28a",
   "metadata": {},
   "source": [
    "10.What are the factors that influence SVM's effectiveness ?\n",
    "\n",
    "-->\n",
    "    SVM or Support Vector Machine is a linear model for classification and regression problems. It can solve linear and non-linear problems and work well for many practical problems. The idea of SVM is simple: The algorithm creates a line or a hyperplane which separates the data into classes."
   ]
  },
  {
   "cell_type": "markdown",
   "id": "074a2e8c-332f-42a7-89f8-3c4cb5dedaa5",
   "metadata": {},
   "source": [
    "11.What are the benefits of using the SVM model ?\n",
    "\n",
    "-->\n",
    "    SVM works relatively well when there is a clear margin of separation between classes. SVM is more effective in high dimensional spaces. SVM is effective in cases where the number of dimensions is greater than the number of samples.SVM is relatively memory efficient."
   ]
  },
  {
   "cell_type": "markdown",
   "id": "62c1d513-0251-492a-b477-323eb7680492",
   "metadata": {},
   "source": [
    "12.What are the drawbacks of using the SVM model ?\n",
    "\n",
    "-->\n",
    "    SVM algorithm is not suitable for large data sets. SVM does not perform very well when the data set has more noise i.e. target classes are overlapping. In cases where the number of features for each data point exceeds the number of training data samples, the SVM will underperform."
   ]
  },
  {
   "cell_type": "markdown",
   "id": "9229db97-1a30-48ea-923a-62ee15d1b899",
   "metadata": {},
   "source": [
    "13.Notes should be written on\n",
    "The kNN algorithm has a validation flaw.\n",
    "In the kNN algorithm, the k value is chosen.\n",
    "A decision tree with inductive bias\n",
    "\n",
    "-->\n",
    "    The Short notes on below topics is:\n",
    "\n",
    "The kNN algorithm has a validation flaw.\n",
    "The relatively low accuracy of kNN is caused by several factors. One of them is that every characteristic of the method has the same result on calculating distance. The solution of this problem is to give weight to each data characteristic.\n",
    "\n",
    "In the kNN algorithm, the k value is chosen.\n",
    "The optimal K value usually found is the square root of N, where N is the total number of samples. Use an error plot or accuracy plot to find the most favorable K value. KNN performs well with multi-label classes, but you must be aware of the outliers.\n",
    "\n",
    "A decision tree with inductive bias\n",
    "Shorter trees are preferred over longer ones. Trees that place high information gain attributes close to the root are preferred over those that do not."
   ]
  },
  {
   "cell_type": "markdown",
   "id": "23ce8fcb-2012-40c1-a1e1-d9539b2f3357",
   "metadata": {},
   "source": [
    "14.What are some of the benefits of the kNN algorithm ?\n",
    "\n",
    "-->\n",
    "    Some Advantages of KNN are:\n",
    "\n",
    "Quick calculation time.\n",
    "Simple algorithm – to interpret.\n",
    "Versatile – useful for regression and classification.\n",
    "High accuracy – you do not need to compare with better-supervised learning models."
   ]
  },
  {
   "cell_type": "markdown",
   "id": "5f30c4f5-0ddb-4e6b-b661-c9fec0712bbd",
   "metadata": {},
   "source": [
    "15.What are some of the kNN algorithm's drawbacks ?\n",
    "\n",
    "-->\n",
    "    Some Disadvantages of KNN are:\n",
    "\n",
    "Accuracy depends on the quality of the data.\n",
    "With large data, the prediction stage might be slow.\n",
    "Sensitive to the scale of the data and irrelevant features.\n",
    "Require high memory – need to store all of the training data.\n",
    "Given that it stores all of the training, it can be computationally expensive."
   ]
  },
  {
   "cell_type": "markdown",
   "id": "3ccc18f9-9e8b-4572-ae95-e458f495dd95",
   "metadata": {},
   "source": [
    "16.Explain the decision tree algorithm in a few words ?\n",
    "\n",
    "-->\n",
    "    A decision tree is a graphical representation of all the possible solutions to a decision based on certain conditions. Tree models where the target variable can take a finite set of values are called classification trees and target variable can take continuous values (numbers) are called regression trees."
   ]
  },
  {
   "cell_type": "markdown",
   "id": "28e1480d-4559-4098-bb31-9c9aa2be2daa",
   "metadata": {},
   "source": [
    "17.What is the difference between a node and a leaf in a decision tree ?\n",
    "\n",
    "-->\n",
    "    A decision tree is a flowchart-like structure in which each internal node represents a \"test\" on an attribute (e.g. whether a coin flip comes up heads or tails), each branch represents the outcome of the test, and each leaf node represents a class label (decision taken after computing all attributes)."
   ]
  },
  {
   "cell_type": "markdown",
   "id": "687d4c2c-1bf1-4530-9488-7418c503c2e2",
   "metadata": {},
   "source": [
    "18.What is a decision tree's entropy ?\n",
    "\n",
    "-->\n",
    "    Entropy helps us to build an appropriate decision tree for selecting the best splitter. Entropy can be defined as a measure of the purity of the sub split. Entropy always lies between 0 to 1. The entropy of any split can be calculate by this formula."
   ]
  },
  {
   "cell_type": "markdown",
   "id": "2f884055-68dc-4901-bd18-2f55e3c9e849",
   "metadata": {},
   "source": [
    "19.In a decision tree, define knowledge gain ?\n",
    "\n",
    "-->\n",
    "    Information gain is the reduction in entropy or surprise by transforming a dataset and is often used in training decision trees.Information gain is calculated by comparing the entropy of the dataset before and after a transformation."
   ]
  },
  {
   "cell_type": "markdown",
   "id": "4ab4c367-da7e-48a0-a044-2675251b1fe5",
   "metadata": {},
   "source": [
    "20.Choose three advantages of the decision tree approach and write them down ?\n",
    "\n",
    "-->\n",
    "    Advantages of Decision Trees :\n",
    "\n",
    "Easy to read and interpret. One of the advantages of decision trees is that their outputs are easy to read and interpret without requiring statistical knowledge.\n",
    "Easy to prepare.\n",
    "Less data cleaning required."
   ]
  },
  {
   "cell_type": "markdown",
   "id": "247dc497-d00a-4299-94d9-85c2fe8d77e9",
   "metadata": {},
   "source": [
    "21.Make a list of three flaws in the decision tree process ?\n",
    "\n",
    "-->\n",
    "    Issues in Decision Tree Learning :\n",
    "\n",
    "Overfitting the data.\n",
    "Guarding against bad attribute choices.\n",
    "Handling continuous valued attributes.\n",
    "Handling missing attribute values.\n",
    "Handling attributes with differing costs."
   ]
  },
  {
   "cell_type": "markdown",
   "id": "eaf89852-6d7d-419c-98c8-d03213208a23",
   "metadata": {},
   "source": [
    "22.Briefly describe the random forest model ?\n",
    "\n",
    "-->\n",
    "    The random forest is a classification algorithm consisting of many \n",
    "decisions trees. It uses bagging and feature randomness when building each individual tree to try to create an uncorrelated forest of trees whose prediction by committee is more accurate than that of any individual tree."
   ]
  }
 ],
 "metadata": {
  "kernelspec": {
   "display_name": "Python 3 (ipykernel)",
   "language": "python",
   "name": "python3"
  },
  "language_info": {
   "codemirror_mode": {
    "name": "ipython",
    "version": 3
   },
   "file_extension": ".py",
   "mimetype": "text/x-python",
   "name": "python",
   "nbconvert_exporter": "python",
   "pygments_lexer": "ipython3",
   "version": "3.10.6"
  }
 },
 "nbformat": 4,
 "nbformat_minor": 5
}
