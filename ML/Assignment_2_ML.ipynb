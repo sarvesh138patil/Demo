{
 "cells": [
  {
   "cell_type": "markdown",
   "id": "fc808c88-522f-4cc2-b8a9-045513d84d12",
   "metadata": {},
   "source": [
    "1.What is the concept of human learning? Please give two examples ?\n",
    "\n",
    "-->\n",
    "    Human learning is the form of learning which requires higher order mental processes like thinking, reasoning, \n",
    "    intelligence, etc.We learn different concepts from childhood. \n",
    "    For example:\n",
    "    Learning through Association - Classical Conditioning.\n",
    "    Learning through consequences – Operant Conditioning.\n",
    "    Learning through observation – Modeling/Observational Learning."
   ]
  },
  {
   "cell_type": "markdown",
   "id": "854c92e7-e013-4b07-beb7-c31e4323d0a4",
   "metadata": {},
   "source": [
    "2.What different forms of human learning are there? Are there any machine learning equivalents ?\n",
    "\n",
    "-->\n",
    "    Different Forms of ML are as follows :\n",
    "    Artificial Intelligence Learning Theories, Machine Learning, Reinforcement Learning, Supervised Learning, Unsupervised Learning.\n",
    "    ML equivalents like Linear regression, decision trees, random forest and support vector machines are some \n",
    "    commonly used techniques that are actually examples of supervised learning."
   ]
  },
  {
   "cell_type": "markdown",
   "id": "11f409e9-3353-41b8-bf72-762b8f4f3448",
   "metadata": {},
   "source": [
    "3.What is machine learning, and how does it work? What are the key responsibilities of machine learning ?\n",
    "\n",
    "-->\n",
    "    Machine learning is a branch of Artificial intelligence (AI) that teaches computers on how to think in a similar \n",
    "    way to how humans do, like by Learning and improving upon past experiences.\n",
    "    It works by exploring data and identifying patterns, and involves minimal human intervention.\n",
    "    Roles and responsibilities of a machine learning engineer are:\n",
    "    Designing ML systems.\n",
    "    Researching and implementing ML algorithms and tools. Selecting appropriate data sets.\n",
    "    Picking appropriate data representation methods. Identifying differences in data distribution that affects model \n",
    "    performance. Verifying data quality."
   ]
  },
  {
   "cell_type": "markdown",
   "id": "d52a3cd4-a893-4990-ad76-ff197763c8b4",
   "metadata": {},
   "source": [
    "4.Define the term \"penalty\" and \"reward\" in the context of reinforcement learning ?\n",
    "\n",
    "--> \n",
    "    A reinforcement learning algorithm, which may also be referred to as an agent, learns by interacting with the environment. The agent receives receives reward by performing correctly and penalties for performing incorrectly. The agent learns without intervention from a human by maximizing its reward and minimizing its penalty. "
   ]
  },
  {
   "cell_type": "markdown",
   "id": "d81e2684-0d49-45f7-9b8b-033096bb8ba4",
   "metadata": {},
   "source": [
    "5.Explain the term \"learning as a search\"?\n",
    "\n",
    "-->\n",
    "    Learning can be viewed as a search through the space of all sentences in a concept description language for a sentence that best describes the data. Alternatively, it can be viewed as a search through all hypothesis in a hypothesis space."
   ]
  },
  {
   "cell_type": "markdown",
   "id": "3db1d580-8699-4a7f-a88e-8251d7ef6071",
   "metadata": {},
   "source": [
    "6.What are the various goals of machine learning ?\n",
    "\n",
    "-->\n",
    "    The goal of machine learning, closely coupled with the goal of AI, is to achieve the thorough understanding about the nature of learning process (both\n",
    "    human learning and other forms of learning), about the computational aspects of learning behaviour, and to implant the learning capability in computer \n",
    "    systems.\n",
    "    Humans have the ability to learn, however with the progress in AI, ML has become a resource which can augment or even replace human learning. Learning \n",
    "    does not happen all at once, but it builds upon and is shaped by previous knowledge."
   ]
  },
  {
   "cell_type": "markdown",
   "id": "4037bbdb-80b2-495e-9caa-8b178ff44dd2",
   "metadata": {},
   "source": [
    "7.Illustrate the various elements of machine learning using a real-life illustration ?\n",
    "\n",
    "-->\n",
    "    The various elements of the Machine learning are :\n",
    "    1. Data \n",
    "    2.Task \n",
    "    3.Model\n",
    "    4.Loss function\n",
    "    5.Learning Algorithm\n",
    "    6.Evaluation"
   ]
  },
  {
   "cell_type": "markdown",
   "id": "d23ea594-7665-42b1-ab98-64097101cc98",
   "metadata": {},
   "source": [
    "8.Provide an example of the abstraction method ?\n",
    "\n",
    "-->\n",
    "    In Machine Learning, Abstraction is supported primarily at the level of modules. This can be justified in two ways: first, Data Abstraction is mostly a question of program interfaces and therefore it arises naturally at the point where we have to consider program composition and modules."
   ]
  },
  {
   "cell_type": "markdown",
   "id": "2387cd44-fb64-47f8-9792-3849562efff3",
   "metadata": {},
   "source": [
    "9.What is the concept of generalization ? What function does it play in the machine learning process ?\n",
    "\n",
    "-->\n",
    "    Generalization refers to your model's ability to adapt properly to new, previously unseen data, drawn from the same distribution as the one used to create the model.\n",
    "    In Machine learning, generalization is a defination to demonstrate how well is a trained model to classify or forecast unseen data. This issue can result to classify an actual dog image as a cat from the unseen data. Therefore, data diversity is very important factor in order to make a good prediction. "
   ]
  },
  {
   "cell_type": "markdown",
   "id": "cf042ff9-a89f-4217-8085-a6dc1ae633f5",
   "metadata": {},
   "source": [
    "10.What is classification, exactly ?  what are the main distinctions between classification and regression ?\n",
    "\n",
    "-->\n",
    "    In Machine learning, Classification refers to a predictive modeling problem where a class label is predicted for a given example of input data. Classification is the task of predicting a discrete class label. Whereas Regression is the task of predicting a continuous quantity. "
   ]
  },
  {
   "cell_type": "markdown",
   "id": "3ad9eb41-7927-4b63-a1e7-57a12f4125c1",
   "metadata": {},
   "source": [
    "11.What is regression, and how does it work ? Give an example of a real-world problem that was solved using regression ?\n",
    "\n",
    "-->\n",
    "    Regression is Supervised Machine Learning technique which is used to predict continuous values. The ultimate goal of a regression algorithm is to plot a best-fit line or a curve between the data.\n",
    "    The three main matrics that are used for evaluating the trained regression model are Variance, Bias and Error.\n",
    "    A Simple linear regression real life example could mean you finding a relationship between the revenue and temperature, with a sample size for revenue as the dependent variable. In the case of multiple variable regression, you can find the relationship between temperature pricing and number of workers to the revenue.\n",
    "    "
   ]
  },
  {
   "cell_type": "markdown",
   "id": "1da781de-4a5c-459b-a643-c202ba2e2b4f",
   "metadata": {},
   "source": [
    "12.Describe the clustering mechanism in detail ?\n",
    "\n",
    "-->\n",
    "    Clustering is the task of dividing the population or data points into a number of groups such that data points in the same groups are more similar to other data points in the same group than those in other groups. In simple words, the aim is to segregate groups with similar traits and assign them into clusters."
   ]
  },
  {
   "cell_type": "markdown",
   "id": "96d63c64-6966-4718-bfe4-08ae8284d691",
   "metadata": {},
   "source": [
    "13.Make brief observations on two of the following topics ?\n",
    "    1.Machine learning algorithms are used\n",
    "    2.Studying under supervision \n",
    "    3.Studying without supervision \n",
    "    4.Reinforcement learning is a form of learning based on positive reinforcement\n",
    "    \n",
    "-->\n",
    "    The brief observations on the following two topics is : \n",
    "    Machine Learning algorithm are used : At its Most basic, Machine learning uses programmed algorithms that receive and analyse input data to predict output values within an acceptable range. As new data is fed to these algorithms, they learn and optimise their operations to improve performance, developing intelligence over time.\n",
    "    Studying under supervision : In Machine Learning, there are two important categories - Supervised and Unsupervised learning. Supervised learning, an algorithm learns from a training dataset. We know the correct answers or desired output, the algorithm makes predictions using the given dataset and is corrected by the \"supervisor\"."
   ]
  }
 ],
 "metadata": {
  "kernelspec": {
   "display_name": "Python 3 (ipykernel)",
   "language": "python",
   "name": "python3"
  },
  "language_info": {
   "codemirror_mode": {
    "name": "ipython",
    "version": 3
   },
   "file_extension": ".py",
   "mimetype": "text/x-python",
   "name": "python",
   "nbconvert_exporter": "python",
   "pygments_lexer": "ipython3",
   "version": "3.10.6"
  }
 },
 "nbformat": 4,
 "nbformat_minor": 5
}
