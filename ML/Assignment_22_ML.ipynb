{
 "cells": [
  {
   "cell_type": "markdown",
   "id": "1621b2a2-b61b-49a6-99db-a0ac95c85a21",
   "metadata": {},
   "source": [
    "1.Is there any way to combine five different models that have all been trained on the same training data and have all achieved 95 percent precision? If so, how can you go about doing it? If not, what is the reason?\n",
    "\n",
    "-->\n",
    "    Hybrid Model: A technique that combines two or more different machine learning models in some way. But we can't get 95 percent precision as all other models give different precision rate accuracy is differed."
   ]
  },
  {
   "cell_type": "markdown",
   "id": "57c5b2e0-e9be-49bf-b639-26ddce172f9b",
   "metadata": {},
   "source": [
    "2.What's the difference between hard voting classifiers and soft voting classifiers ?\n",
    "\n",
    "-->\n",
    "    In hard voting (also known as majority voting), every individual classifier votes for a class, and the majority wins. In statistical terms, the predicted target label of the ensemble is the mode of the distribution of individually predicted labels.\n",
    "\n",
    "In soft voting, every individual classifier provides a probability value that a specific data point belongs to a particular target class. The predictions are weighted by the classifier's importance and summed up. Then the target label with the greatest sum of weighted probabilities wins the vote."
   ]
  },
  {
   "cell_type": "markdown",
   "id": "15c2ce16-f7c9-427b-ac2e-14202fdcb3ab",
   "metadata": {},
   "source": [
    "3.Is it possible to distribute a bagging ensemble's training through several servers to speed up the process? Pasting ensembles, boosting ensembles, Random Forests, and stacking ensembles are all options ?\n",
    "\n",
    "-->\n",
    "    When sampling is performed without replacement, it is called pasting. In other words, both approaches are similar.In both cases you are sampling the training data to build multiple instances of a classifier.\n",
    "\n",
    "Boosting is a general ensemble method that creates a strong classifier from a number of weak classifiers. This is done by building a model from the training data, then creating a second model that attempts to correct the errors from the first model. It is the best starting point for understanding boosting."
   ]
  },
  {
   "cell_type": "markdown",
   "id": "ef2e945c-dbc8-4984-8d23-df3cdd57cd5f",
   "metadata": {},
   "source": [
    "4.What is the advantage of evaluating out of the bag ?\n",
    "\n",
    "-->\n",
    "    The advantage of the OOB method is that it requires less computation and allows one to test the model as it is being trained."
   ]
  },
  {
   "cell_type": "markdown",
   "id": "2c9698bf-50b8-4d3f-bc3f-33b7592227f4",
   "metadata": {},
   "source": [
    "5.What distinguishes Extra-Trees from ordinary Random Forests? What good would this extra randomness do? Is it true that Extra-Tree Random Forests are slower or faster than normal Random Forests ?\n",
    "\n",
    "-->\n",
    "    Random forest uses bootstrap replicas, that is to say, it subsamples the input data with replacement, whereas Extra Trees use the whole original sample. This may increase variance because bootstrapping makes it more diversified.\n",
    "\n",
    "Random forest adds additional randomness to the model, while growing the trees. Instead of searching for the most important feature while splitting a node, it searches for the best feature among a random subset of features. This results in a wide diversity that generally results in a better model. Extra Trees is much faster.\n",
    "\n",
    "This is because instead of looking for the optimal split at each node it does it randomly."
   ]
  },
  {
   "cell_type": "markdown",
   "id": "57c60e0d-b30c-4996-b906-2a0f5abc272c",
   "metadata": {},
   "source": [
    "6.Which hyperparameters and how do you tweak if your AdaBoost ensemble underfits the training data ?\n",
    "\n",
    "-->\n",
    "    If your AdaBoost ensemble underfits the training data, you can try increasing the number of estimators or reducing the regularization hyperparameters of the base estimator. You may also try slightly increasing the learning rate."
   ]
  },
  {
   "cell_type": "markdown",
   "id": "999930b0-ef2c-48b6-9816-9c9474e776fc",
   "metadata": {},
   "source": [
    "7.Should you raise or decrease the learning rate if your Gradient Boosting ensemble overfits the training set ?\n",
    "\n",
    "-->\n",
    "    If your Gradient Boosting ensemble overfits the training set, you should try decreasing the learning rate. You could also use early stopping to find the right number of predictors (you probably have too many)"
   ]
  }
 ],
 "metadata": {
  "kernelspec": {
   "display_name": "Python 3 (ipykernel)",
   "language": "python",
   "name": "python3"
  },
  "language_info": {
   "codemirror_mode": {
    "name": "ipython",
    "version": 3
   },
   "file_extension": ".py",
   "mimetype": "text/x-python",
   "name": "python",
   "nbconvert_exporter": "python",
   "pygments_lexer": "ipython3",
   "version": "3.10.6"
  }
 },
 "nbformat": 4,
 "nbformat_minor": 5
}
