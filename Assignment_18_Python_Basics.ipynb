{
 "cells": [
  {
   "cell_type": "raw",
   "id": "95686b59-4d06-4caa-976e-dcb8dde33727",
   "metadata": {},
   "source": [
    "1. Create a zoo.py file first. Define the hours() function, which prints the string 'Open 9-5 daily'.\n",
    "Then, use the interactive interpreter to import the zoo module and call its hours() function."
   ]
  },
  {
   "cell_type": "code",
   "execution_count": 2,
   "id": "888c517b-c177-4d07-aa70-d76841793d60",
   "metadata": {},
   "outputs": [
    {
     "name": "stdout",
     "output_type": "stream",
     "text": [
      "Open 9-5 daily\n"
     ]
    }
   ],
   "source": [
    "import zoo\n",
    "zoo.hours()"
   ]
  },
  {
   "cell_type": "raw",
   "id": "07f0ff7c-94cc-4aea-993a-d135fad9d06a",
   "metadata": {},
   "source": [
    "2. In the interactive interpreter, import the zoo module as menagerie and call its hours() function."
   ]
  },
  {
   "cell_type": "code",
   "execution_count": 4,
   "id": "246e521b-28a6-41bb-9739-c887170311fd",
   "metadata": {},
   "outputs": [
    {
     "name": "stdout",
     "output_type": "stream",
     "text": [
      "Open 9-5 daily\n"
     ]
    }
   ],
   "source": [
    "import zoo as menagerie\n",
    "menagerie.hours()"
   ]
  },
  {
   "cell_type": "raw",
   "id": "f009e203-e4fe-4d1b-b47b-9015fd505589",
   "metadata": {},
   "source": [
    "3. Using the interpreter, explicitly import and call the hours() function from zoo."
   ]
  },
  {
   "cell_type": "code",
   "execution_count": 5,
   "id": "8bc8ebbe-f96b-4652-96de-f68c38f53465",
   "metadata": {},
   "outputs": [
    {
     "name": "stdout",
     "output_type": "stream",
     "text": [
      "Open 9-5 daily\n"
     ]
    }
   ],
   "source": [
    "from zoo import hours\n",
    "hours()"
   ]
  },
  {
   "cell_type": "raw",
   "id": "74fbd4d3-1976-4340-9a19-2109bbfff10a",
   "metadata": {},
   "source": [
    "4. Import the hours() function as info and call it."
   ]
  },
  {
   "cell_type": "code",
   "execution_count": 6,
   "id": "e677864a-5125-484f-aa06-132922faebe8",
   "metadata": {},
   "outputs": [
    {
     "name": "stdout",
     "output_type": "stream",
     "text": [
      "Open 9-5 daily\n"
     ]
    }
   ],
   "source": [
    "from zoo import hours as info\n",
    "info()"
   ]
  },
  {
   "cell_type": "raw",
   "id": "f779c7bc-a3f6-4c59-8c66-6c87701809f8",
   "metadata": {},
   "source": [
    "5. Create a plain dictionary with the key-value pairs &#39;a&#39;: 1, &#39;b&#39;: 2, and &#39;c&#39;: 3, and print it out."
   ]
  },
  {
   "cell_type": "code",
   "execution_count": 7,
   "id": "7f2b0ea6-bb2b-47ff-8170-b378c01dc75a",
   "metadata": {},
   "outputs": [
    {
     "name": "stdout",
     "output_type": "stream",
     "text": [
      "{'a': 1, 'b': 2, 'c': 3}\n"
     ]
    }
   ],
   "source": [
    "plain_dict = {'a':1,'b':2,'c':3}\n",
    "print(plain_dict)"
   ]
  },
  {
   "cell_type": "raw",
   "id": "f14b8e93-c580-488a-beb5-a40107e50b01",
   "metadata": {},
   "source": [
    "6.Make an OrderedDict called fancy from the same pairs listed in 5 and print it. Did it print in the\n",
    "same order as plain?\n"
   ]
  },
  {
   "cell_type": "code",
   "execution_count": 8,
   "id": "352c62ee-3724-4983-8cc6-ff575efffc8e",
   "metadata": {},
   "outputs": [
    {
     "name": "stdout",
     "output_type": "stream",
     "text": [
      "plain_dict -> {'a': 1, 'b': 2, 'c': 3}\n",
      "fancy -> OrderedDict([('a', 1), ('b', 2), ('c', 3)])\n"
     ]
    }
   ],
   "source": [
    "from collections import OrderedDict\n",
    "fancy = OrderedDict(plain_dict)\n",
    "print(f'plain_dict -> {plain_dict}')\n",
    "print(f'fancy -> {fancy}')"
   ]
  },
  {
   "cell_type": "raw",
   "id": "4601184d-476e-4639-a737-f57a1ef3d7f7",
   "metadata": {},
   "source": [
    "7. Make a default dictionary called dict_of_lists and pass it the argument list. Make the list\n",
    "dict_of_lists[&#39;a&#39;] and append the value &#39;something for a&#39; to it in one assignment. Print\n",
    "dict_of_lists[&#39;a&#39;]."
   ]
  },
  {
   "cell_type": "code",
   "execution_count": 9,
   "id": "ed147f63-fb95-4ac8-967a-5c5c5c41ff22",
   "metadata": {},
   "outputs": [
    {
     "name": "stdout",
     "output_type": "stream",
     "text": [
      "['something for a']\n"
     ]
    }
   ],
   "source": [
    "from collections import defaultdict\n",
    "dict_of_lists = defaultdict(list)\n",
    "dict_of_lists['a'].append('something for a')\n",
    "print(dict_of_lists['a'])"
   ]
  }
 ],
 "metadata": {
  "kernelspec": {
   "display_name": "Python 3 (ipykernel)",
   "language": "python",
   "name": "python3"
  },
  "language_info": {
   "codemirror_mode": {
    "name": "ipython",
    "version": 3
   },
   "file_extension": ".py",
   "mimetype": "text/x-python",
   "name": "python",
   "nbconvert_exporter": "python",
   "pygments_lexer": "ipython3",
   "version": "3.10.6"
  }
 },
 "nbformat": 4,
 "nbformat_minor": 5
}
