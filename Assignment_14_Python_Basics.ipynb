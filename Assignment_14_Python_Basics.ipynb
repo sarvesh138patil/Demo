{
 "cells": [
  {
   "cell_type": "code",
   "execution_count": null,
   "id": "90b1b2eb-5178-4278-9329-17d8fa2646e0",
   "metadata": {},
   "outputs": [],
   "source": [
    "1. What does RGBA stand for?\n",
    "\n",
    "-->\n",
    "    red\n",
    "    green\n",
    "    blue\n",
    "    alpha transparency"
   ]
  },
  {
   "cell_type": "code",
   "execution_count": null,
   "id": "045537de-75d2-4430-837c-0109178588c9",
   "metadata": {},
   "outputs": [],
   "source": [
    "2. From the Pillow module, how do you get the RGBA value of any images?\n",
    "\n",
    "-->\n",
    "    ImageColor.getcolor() \n",
    "    "
   ]
  },
  {
   "cell_type": "code",
   "execution_count": null,
   "id": "39edd8bd-4269-44b1-905a-76946083eb76",
   "metadata": {},
   "outputs": [],
   "source": [
    "3. What is a box tuple, and how does it work?\n",
    "\n",
    "-->\n",
    "    A box tuple is a tuple value of four integers: \n",
    "    the left-edge x-coordinate, the top-edge y-coordinate,the width, and the height, respectively."
   ]
  },
  {
   "cell_type": "code",
   "execution_count": null,
   "id": "40619d8d-5ee3-402e-8005-463399af099e",
   "metadata": {},
   "outputs": [],
   "source": [
    "4. Use your image and load in notebook then, How can you find out the width and height of an\n",
    "Image object?\n",
    "\n",
    "-->\n",
    "    i.  download image\n",
    "    ii. save it in current working directory\n",
    "    iii. \n",
    "        from PIL import Image\n",
    "        Img = Image.open('filename.png')\n",
    "        \n",
    "    iv. If the image file isn’t in the current working directory, \n",
    "        change the working directory to the folder that contains the image file by calling the os.chdir() function.\n",
    "    \n",
    "         import os\n",
    "         os.chdir('C:\\\\folder_with_image_file')\n",
    "        \n",
    "    v. To find width and height of the image:\n",
    "        Img.size"
   ]
  },
  {
   "cell_type": "code",
   "execution_count": null,
   "id": "59af2470-7b06-4cc0-924b-06a9c7cbbaa0",
   "metadata": {},
   "outputs": [],
   "source": [
    "5. What method would you call to get Image object for a 100×100 image, excluding the lower-left\n",
    "quarter of it?\n",
    "\n",
    "-->\n",
    "    from PIL import Image\n",
    "    img = Image.open('Pic.jpg')\n",
    "    new_img = img.crop((0,50,50,50))"
   ]
  },
  {
   "cell_type": "code",
   "execution_count": null,
   "id": "7e34f0fc-1f54-4a1e-a8a0-dc5bbcf8f13b",
   "metadata": {},
   "outputs": [],
   "source": [
    "6. After making changes to an Image object, how could you save it as an image file?\n",
    "\n",
    "-->\n",
    "    calling the save() method\n",
    "    \n",
    "    from PIL import Image\n",
    "    pic = Image.open('pic.jpg')\n",
    "    pic.save('pic2.jpg')"
   ]
  },
  {
   "cell_type": "code",
   "execution_count": null,
   "id": "f0b565c7-f6b3-42e4-a1e8-a89997fd4c5b",
   "metadata": {},
   "outputs": [],
   "source": [
    "7. What module contains Pillow’s shape-drawing code?\n",
    "\n",
    "-->\n",
    "    Pillows ImageDraw module contains Shape drawing methods"
   ]
  },
  {
   "cell_type": "code",
   "execution_count": null,
   "id": "8640358e-90d7-4996-94d9-57980a612cfe",
   "metadata": {},
   "outputs": [],
   "source": [
    "8. Image objects do not have drawing methods. What kind of object does? How do you get this kind\n",
    "of object?\n",
    "\n",
    "-->\n",
    "    ImageDraw objects have shape-drawing methods such as point(), line(), or rectangle().\n",
    "    They are returned by passing the Image object to the ImageDraw.Draw() function"
   ]
  }
 ],
 "metadata": {
  "kernelspec": {
   "display_name": "Python 3 (ipykernel)",
   "language": "python",
   "name": "python3"
  },
  "language_info": {
   "codemirror_mode": {
    "name": "ipython",
    "version": 3
   },
   "file_extension": ".py",
   "mimetype": "text/x-python",
   "name": "python",
   "nbconvert_exporter": "python",
   "pygments_lexer": "ipython3",
   "version": "3.10.6"
  }
 },
 "nbformat": 4,
 "nbformat_minor": 5
}
