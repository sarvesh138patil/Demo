{
 "cells": [
  {
   "cell_type": "markdown",
   "id": "cae8cb8c-f35f-4f38-8838-dee3de1b676e",
   "metadata": {},
   "source": [
    "1.What is the concept of an abstract superclass?\n",
    "\n",
    "-->\n",
    "    abstract class that defines a set of methods or properties that its subclasses must implement.\n",
    "\n",
    "An abstract super class is typically used to define a common interface or behavior for a group of related classes, without specifying the implementation details. This allows for greater flexibility and modularity in the design of the program.\n",
    "\n",
    "In Python, abstract super classes are created using the abc (Abstract Base Classes) module. This module provides the ABC (Abstract Base Class) class, which is a built-in class that can be used as a base class for defining abstract super classes.\n",
    "\n",
    "To define an abstract super class in Python, you need to subclass the ABC class and define one or more abstract methods using the @abstractmethod decorator. These abstract methods must be implemented by any subclass that inherits from the abstract super class.\n",
    "\n",
    "Here's an example of how to define an abstract super class in Python using the abc module:\n",
    "\n",
    "In the below example, we define an abstract super class called Shape that has two abstract methods, area() and perimeter(). Any subclass that inherits from Shape must implement these methods."
   ]
  },
  {
   "cell_type": "code",
   "execution_count": 1,
   "id": "7749c198-66ff-4638-9cb1-9e651ce725e6",
   "metadata": {},
   "outputs": [],
   "source": [
    "from abc import ABC, abstractmethod\n",
    "\n",
    "class Shape(ABC):\n",
    "    @abstractmethod\n",
    "    def area(self):\n",
    "        pass\n",
    "\n",
    "    @abstractmethod\n",
    "    def perimeter(self):\n",
    "        pass\n"
   ]
  },
  {
   "cell_type": "markdown",
   "id": "1f4d1d6b-87ee-4c64-b563-04edcb79243e",
   "metadata": {},
   "source": [
    "2.What happens when a class statement's top level contains a basic assignment statement?\n",
    "\n",
    "-->\n",
    "    In Python, when a class statement's top level contains a basic assignment statement, the assigned value becomes a class variable. Class variables are shared among all instances of the class, and can be accessed and modified by all methods and instances of the class.\n",
    "    Here's an example to illustrate this:\n",
    "    \n",
    "In this example, x is a class-level variable that is shared among all instances of the MyClass class. y is an instance-level variable that is unique to each instance of the class.\n",
    "\n",
    "When we create obj1 and obj2 instances, they both have the same x attribute value of 10. When we modify obj1's x attribute to 50, it only affects obj1, and obj2 still has the original x attribute value of 10.\n",
    "\n",
    "We can also access the x attribute through the MyClass class itself, using MyClass.x. This will return the same value as obj1.x and obj2.x."
   ]
  },
  {
   "cell_type": "code",
   "execution_count": 2,
   "id": "11b6a1e1-ea53-421a-96fd-d09c6baa5d5e",
   "metadata": {},
   "outputs": [
    {
     "name": "stdout",
     "output_type": "stream",
     "text": [
      "10\n",
      "10\n",
      "50\n",
      "10\n",
      "10\n"
     ]
    }
   ],
   "source": [
    "class MyClass:\n",
    "    x = 10  # class-level variable\n",
    "\n",
    "    def __init__(self, y):\n",
    "        self.y = y  # instance-level variable\n",
    "\n",
    "obj1 = MyClass(20)\n",
    "obj2 = MyClass(30)\n",
    "\n",
    "print(obj1.x)  # prints 10\n",
    "print(obj2.x)  # prints 10\n",
    "\n",
    "obj1.x = 50   # modifying obj1's x attribute\n",
    "\n",
    "print(obj1.x)  # prints 50\n",
    "print(obj2.x)  # prints 10 (obj2's x attribute is still 10)\n",
    "\n",
    "print(MyClass.x)  # prints 10 (accessing x through the class)\n"
   ]
  },
  {
   "cell_type": "markdown",
   "id": "5c21147b-823d-484e-a84a-330e57d1edeb",
   "metadata": {},
   "source": [
    "3.Why does a class need to manually call a superclass's init method?\n",
    "\n",
    "-->\n",
    "    A class needs to manually call a superclass's __init__() method if it wants to inherit the behavior of the superclass's constructor.\n",
    "\n",
    "In Python, when a subclass is created, it does not automatically inherit the constructor of its superclass. If the subclass defines its own constructor, it will override the constructor of the superclass. This means that any initialization code in the superclass's constructor will not be executed when the subclass is instantiated.\n",
    "\n",
    "To avoid this, the subclass can call the constructor of the superclass explicitly using the super() function. This will invoke the constructor of the superclass and initialize any attributes or properties defined in the superclass.\n",
    "\n",
    "In this example, we define an Animal class with a constructor that initializes an Animal instance with a name attribute. We then define a Dog class that inherits from Animal. Dog defines its own constructor that takes a name and breed parameter.\n",
    "\n",
    "To invoke the Animal constructor from the Dog constructor, we call super().__init__(name). This initializes the name attribute of the Animal superclass. We then initialize the breed attribute of the Dog subclass and print out some information about the dog.\n",
    "\n",
    "Without calling super().__init__(name), the name attribute of the Animal superclass would not be initialized, and we would lose the behavior defined in the Animal constructor."
   ]
  },
  {
   "cell_type": "code",
   "execution_count": 3,
   "id": "8d3de2ce-f6bc-4fc0-8fd3-f00be2074f88",
   "metadata": {},
   "outputs": [
    {
     "name": "stdout",
     "output_type": "stream",
     "text": [
      "Buddy is an animal\n",
      "Buddy is a Labrador dog\n"
     ]
    }
   ],
   "source": [
    "class Animal:\n",
    "    def __init__(self, name):\n",
    "        self.name = name\n",
    "        print(f\"{self.name} is an animal\")\n",
    "\n",
    "class Dog(Animal):\n",
    "    def __init__(self, name, breed):\n",
    "        super().__init__(name)\n",
    "        self.breed = breed\n",
    "        print(f\"{self.name} is a {self.breed} dog\")\n",
    "\n",
    "my_dog = Dog(\"Buddy\", \"Labrador\")\n"
   ]
  },
  {
   "cell_type": "markdown",
   "id": "290b0fab-05a4-4ed5-acd9-db3e6fcf6294",
   "metadata": {},
   "source": [
    "4.How can you augment, instead of completely replacing, an inherited method?\n",
    "\n",
    "-->\n",
    "    In Python, you can augment an inherited method instead of completely replacing it by using the super() function to call the superclass's implementation of the method, and then adding additional functionality in the subclass.\n",
    "\n",
    "Here's an example to illustrate this:\n",
    "\n",
    "In this example, we define an Animal class with a make_sound() method. We then define a Dog class that inherits from Animal and overrides the make_sound() method.\n",
    "\n",
    "To augment the make_sound() method instead of completely replacing it, we call super().make_sound() to invoke the make_sound() method of the superclass, and then add the additional functionality of the Dog subclass by printing \"The dog barks\".\n",
    "\n",
    "When we create an instance of Dog and call make_sound(), the output is \"The animal makes a sound\" followed by \"The dog barks\". This indicates that the make_sound() method of the superclass was called first, and then the make_sound() method of the subclass was called."
   ]
  },
  {
   "cell_type": "code",
   "execution_count": 4,
   "id": "6b38e0c7-0ddf-442a-bc7c-271f5b83c0ec",
   "metadata": {},
   "outputs": [
    {
     "name": "stdout",
     "output_type": "stream",
     "text": [
      "The animal makes a sound\n",
      "The dog barks\n"
     ]
    }
   ],
   "source": [
    "class Animal:\n",
    "    def make_sound(self):\n",
    "        print(\"The animal makes a sound\")\n",
    "\n",
    "class Dog(Animal):\n",
    "    def make_sound(self):\n",
    "        super().make_sound()  # call superclass's implementation\n",
    "        print(\"The dog barks\")\n",
    "\n",
    "my_dog = Dog()\n",
    "my_dog.make_sound()  # prints \"The animal makes a sound\" followed by \"The dog barks\""
   ]
  },
  {
   "cell_type": "markdown",
   "id": "a69f0998-92c2-4139-8488-7232f5379b1d",
   "metadata": {},
   "source": [
    "5.How is the local scope of a class different from that of a function?\n",
    "\n",
    "-->\n",
    "    The local scope of a class and the local scope of a function are different in several ways:\n",
    "\n",
    "Variables defined in a class are accessible by all methods of the class. In contrast, variables defined within a function are only accessible within that function.\n",
    "\n",
    "Variables defined in a class can be accessed outside the class by using the dot notation to specify the class and the variable name. In contrast, variables defined within a function are only accessible within the function or by passing the variable as an argument to another function.\n",
    "\n",
    "The methods of a class are bound to the instance of the class, which means that they can access and modify instance variables. In contrast, functions do not have access to instance variables unless they are passed as arguments.\n",
    "\n",
    "Class variables are shared among all instances of a class, while local variables within a function are created and destroyed with each function call.\n",
    "\n",
    "Here's an example to illustrate these differences:\n",
    "\n",
    "In this example, we define a MyClass class with a class variable class_var, an instance variable instance_var, and a method my_method() that takes an argument arg.\n",
    "\n",
    "When we create an instance of MyClass and call the my_method() method with an argument of 2\n",
    "\n",
    "This indicates that my_method() was able to access both the instance variable instance_var and the class variable class_var. Additionally, the local_var variable was created within the method and was only accessible within the method."
   ]
  },
  {
   "cell_type": "code",
   "execution_count": 5,
   "id": "091a2bc8-a50d-401d-b013-1a9c856d882c",
   "metadata": {},
   "outputs": [
    {
     "name": "stdout",
     "output_type": "stream",
     "text": [
      "local_var = 7\n",
      "class_var = 10\n"
     ]
    }
   ],
   "source": [
    "class MyClass:\n",
    "    class_var = 10\n",
    "\n",
    "    def __init__(self, instance_var):\n",
    "        self.instance_var = instance_var\n",
    "\n",
    "    def my_method(self, arg):\n",
    "        local_var = arg + self.instance_var\n",
    "        print(f\"local_var = {local_var}\")\n",
    "        print(f\"class_var = {MyClass.class_var}\")\n",
    "\n",
    "my_obj = MyClass(5)\n",
    "my_obj.my_method(2)\n"
   ]
  },
  {
   "cell_type": "code",
   "execution_count": null,
   "id": "8058bf4b-538f-48b7-94d4-581409b07ede",
   "metadata": {},
   "outputs": [],
   "source": []
  }
 ],
 "metadata": {
  "kernelspec": {
   "display_name": "Python 3 (ipykernel)",
   "language": "python",
   "name": "python3"
  },
  "language_info": {
   "codemirror_mode": {
    "name": "ipython",
    "version": 3
   },
   "file_extension": ".py",
   "mimetype": "text/x-python",
   "name": "python",
   "nbconvert_exporter": "python",
   "pygments_lexer": "ipython3",
   "version": "3.10.6"
  }
 },
 "nbformat": 4,
 "nbformat_minor": 5
}
