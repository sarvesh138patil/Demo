{
 "cells": [
  {
   "cell_type": "markdown",
   "id": "73ed15f1-e00c-449c-9389-8a4b91b00e9d",
   "metadata": {},
   "source": [
    "Q1. Define the relationship between a class and its instances. Is it a one-to-one or a one-to-many partnership, for example?\n",
    "\n",
    "-->\n",
    "    Relationship between a class and its instances is a one to many partnership."
   ]
  },
  {
   "cell_type": "markdown",
   "id": "bb8ea110-4c5d-4e1d-8932-44d39b29fa42",
   "metadata": {},
   "source": [
    "Q2. What kind of data is held only in an instance?\n",
    "\n",
    "-->\n",
    "    Instance objects contains the Instance variables which are specific to that specific Instance object."
   ]
  },
  {
   "cell_type": "markdown",
   "id": "08b3d960-7b35-4ea8-a49f-46cd4494124b",
   "metadata": {},
   "source": [
    "Q3. What kind of knowledge is stored in a class?\n",
    "\n",
    "-->\n",
    "    Class creates a user-defined data structure, which holds its own data members and member functions, which can be accessed and used by creating an instance of that class. A class is like a blueprint for an object."
   ]
  },
  {
   "cell_type": "markdown",
   "id": "a5deee2d-8cb9-4994-8bdf-473907e39be5",
   "metadata": {},
   "source": [
    "Q4. What exactly is a method, and how is it different from a regular function?\n",
    "\n",
    "-->\n",
    "    The methods with a class can be used to access the insatnce variables of its instance. So,the object's state can be modified by its method. Function can't access the attributes of an instance of a class or can't modify the state of the object."
   ]
  },
  {
   "cell_type": "markdown",
   "id": "af15f1ce-eb14-4959-bb2a-a1d43d1e106e",
   "metadata": {},
   "source": [
    "Q5. Is inheritance supported in Python, and if so, what is the syntax?\n",
    "\n",
    "-->\n",
    "    Yes,Python supports inheritance. The Types of Inheritence Supported by Python are:\n",
    "\n",
    "Simple Inheritence\n",
    "Multiple Inheritence\n",
    "Multilevel lInheritence\n",
    "Hybrid Inheritence\n",
    "Hierracial Inheritence"
   ]
  },
  {
   "cell_type": "code",
   "execution_count": 1,
   "id": "b5e0ac96-96c6-46d9-bf12-c67a9667af53",
   "metadata": {},
   "outputs": [],
   "source": [
    "class Person:\n",
    "    def __init__(self, fname, lname):\n",
    "        self.first_name = fname\n",
    "        self.last_name = lname\n",
    "class Student(Person):\n",
    "    pass"
   ]
  },
  {
   "cell_type": "markdown",
   "id": "93753a45-d102-4222-913c-2842f46c8dc4",
   "metadata": {},
   "source": [
    "Q6. How much encapsulation (making instance or class variables private) does Python support?\n",
    "\n",
    "-->\n",
    "    Encapsulation describes the idea of wrapping data and the methods that work on data within one unit. This puts restrictions on accessing variables and methods directly and can prevent the accidental modification of data. To prevent accidental change, an objects variable can only be changed by an objects method."
   ]
  },
  {
   "cell_type": "markdown",
   "id": "c01f607c-5c14-4585-8c26-9905c7e6d3ec",
   "metadata": {},
   "source": [
    "Q7. How do you distinguish between a class variable and an instance variable?\n",
    "\n",
    "-->\n",
    "    The Class Attribute is available to all the instance objects of that class. whereas Instance Attributes are accessible only to the object or Instance of that class.\n",
    "\n",
    "A single copy of Class attributes is maintained by pvm at the class level. Whereas difference copies of instance attributes are maintained by pvm at objects/instance level."
   ]
  },
  {
   "cell_type": "markdown",
   "id": "99128f14-d195-446d-bd02-8f3a300445e8",
   "metadata": {},
   "source": [
    "Q8. When, if ever, can self be included in a class's method definitions?\n",
    "\n",
    "-->\n",
    "    Yes, self can included in class method definations to access the instance variables inside class methods."
   ]
  },
  {
   "cell_type": "markdown",
   "id": "a21aabe6-8e9d-412d-a813-263d24ba9db6",
   "metadata": {},
   "source": [
    "Q9. What is the difference between the __add__ and the __radd__ methods ?\n",
    "\n",
    "-->\n",
    "    Entering __radd__ Python will first try __add__(), and if that returns Not Implemented Python will check if the right-hand operand implements __radd__, and if it does, it will call __radd__() rather than raising a TypeError"
   ]
  },
  {
   "cell_type": "markdown",
   "id": "2f1809b1-1f4b-448c-ba1b-f6ea92d98bbe",
   "metadata": {},
   "source": [
    "Q10. When is it necessary to use a reflection method? When do you not need it, even though you support the operation in question?\n",
    "\n",
    "-->\n",
    "    Reflection method we often encounter the requirement that a method in the executing object, or a variable in the calling object, or a field of the object should be assigned, while the method name or field name can not be determined when encoding the code, and need to be input in the form of passing strings through parameters."
   ]
  },
  {
   "cell_type": "markdown",
   "id": "972a9192-a368-458d-8735-8134f718a14a",
   "metadata": {},
   "source": [
    "Q11. What is the __iadd__ method called?\n",
    "\n",
    "-->\n",
    "    __iadd__ method is called when we use implementation like a+=b which is a.__iadd__(b)"
   ]
  },
  {
   "cell_type": "markdown",
   "id": "cf16e75b-24a7-4564-873b-e30c5f6aa920",
   "metadata": {},
   "source": [
    "Q12. Is the _ _init_ _ method inherited by subclasses? What do you do if you need to customize its behavior within a subclass ?\n",
    "\n",
    "-->\n",
    "    Yes, __init__ method will be inherited by subclasses. if we want to customize its behaviour within a subclass we can use super() method."
   ]
  }
 ],
 "metadata": {
  "kernelspec": {
   "display_name": "Python 3 (ipykernel)",
   "language": "python",
   "name": "python3"
  },
  "language_info": {
   "codemirror_mode": {
    "name": "ipython",
    "version": 3
   },
   "file_extension": ".py",
   "mimetype": "text/x-python",
   "name": "python",
   "nbconvert_exporter": "python",
   "pygments_lexer": "ipython3",
   "version": "3.10.6"
  }
 },
 "nbformat": 4,
 "nbformat_minor": 5
}
