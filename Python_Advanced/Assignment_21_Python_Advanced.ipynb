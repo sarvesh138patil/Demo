{
 "cells": [
  {
   "cell_type": "markdown",
   "id": "ad74d639-00d7-48a8-93fa-eadae577008d",
   "metadata": {},
   "source": [
    "Q1. What is a probability distribution, exactly? If the values are meant to be random, how can you predict them at all ?\n",
    "\n",
    "-->\n",
    "    A probability distribution describes how a random variable is distributed.\n",
    "\n",
    "It tells us which values a random variable is most likely to take on and which values are less likely. Based on the previous data and the occurences of the random event, we can predict the outcome in terms of probabilities."
   ]
  },
  {
   "cell_type": "markdown",
   "id": "94e9edd6-11ad-41d4-9dbe-8922c087e7a9",
   "metadata": {},
   "source": [
    "Q2. Is there a distinction between true random numbers and pseudo-random numbers, if there is one? Why are the latter considered “good enough”?\n",
    "\n",
    "-->\n",
    "    True Random Numbers are true physical values while pseudo-random numbers are generated internally by a  \n",
    "    program. Latter is considered good enough as they have sort of uniform distribution."
   ]
  },
  {
   "cell_type": "markdown",
   "id": "616ea535-8f78-4edf-8ccc-e646a06b5195",
   "metadata": {},
   "source": [
    "Q3. What are the two main factors that influence the behaviour of a \"normal\" probability distribution ?\n",
    "\n",
    "-->\n",
    "    Normal Probability Distribution are influenced by two factors mean and the variance."
   ]
  },
  {
   "cell_type": "markdown",
   "id": "2860905f-a86a-4284-8bb6-7dd493188718",
   "metadata": {},
   "source": [
    "Q4. Provide a real-life example of a normal distribution ?\n",
    "\n",
    "-->\n",
    "    A Real-life example of a normal distribution are heights or blood pressure measurements"
   ]
  },
  {
   "cell_type": "markdown",
   "id": "19849901-823b-458a-b04a-10055e8f6c57",
   "metadata": {},
   "source": [
    "Q5. In the short term, how can you expect a probability distribution to behave? What do you think will happen as the number of trials grows ?\n",
    "\n",
    "-->\n",
    "    Variance will decrease with number of trials"
   ]
  },
  {
   "cell_type": "markdown",
   "id": "b7c4dd9f-fec8-46ea-947f-3448175e674a",
   "metadata": {},
   "source": [
    "Q6. What kind of object can be shuffled by using random.shuffle ?\n",
    "\n",
    "-->\n",
    "    lists (list), strings (str) and tuples (tuple) objects can be shuffled by using random.shuffle.\n"
   ]
  },
  {
   "cell_type": "markdown",
   "id": "e1de68cc-0daa-4b29-b500-11b570c1e597",
   "metadata": {},
   "source": [
    "Q7. Describe the math package's general categories of functions ?\n",
    "\n",
    "-->\n",
    "    The Math package's general categories of functions are:\n",
    "\n",
    "Trigonometric functions\n",
    "Quadratic functions\n",
    "Exponential functions\n",
    "Hyperbolic functions\n",
    "Periodic functions\n",
    "Arithmetic functions\n",
    "Logarithimic functions\n",
    "Conversions to Integer"
   ]
  },
  {
   "cell_type": "markdown",
   "id": "5f4901e0-71c4-4156-988f-825021d4c6ff",
   "metadata": {},
   "source": [
    "Q8. What is the relationship between exponentiation and logarithms ?\n",
    "\n",
    "-->\n",
    "    Exponentiation and logarithms are inverse of each other."
   ]
  },
  {
   "cell_type": "markdown",
   "id": "392e05ab-d7e1-4ed8-b5d5-617b0a2b87a9",
   "metadata": {},
   "source": [
    "Q9. What are the three logarithmic functions that Python supports ?\n",
    "\n",
    "-->\n",
    "    The Three Logarithmic Functions that Python supports are:\n",
    "\n",
    "log2(x) - logarithmic value of x to base 2\n",
    "log10(x) - logarithmic value of x to base 10\n",
    "log1p(a) - This function is used to compute logarithm(1+a) ."
   ]
  }
 ],
 "metadata": {
  "kernelspec": {
   "display_name": "Python 3 (ipykernel)",
   "language": "python",
   "name": "python3"
  },
  "language_info": {
   "codemirror_mode": {
    "name": "ipython",
    "version": 3
   },
   "file_extension": ".py",
   "mimetype": "text/x-python",
   "name": "python",
   "nbconvert_exporter": "python",
   "pygments_lexer": "ipython3",
   "version": "3.10.6"
  }
 },
 "nbformat": 4,
 "nbformat_minor": 5
}
