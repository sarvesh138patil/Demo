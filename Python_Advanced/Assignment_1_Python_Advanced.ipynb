{
 "cells": [
  {
   "cell_type": "markdown",
   "id": "8989dd66-c7fc-46d1-81e1-14b16e0568d8",
   "metadata": {},
   "source": [
    "Q1. What is the purpose of Python's OOP?\n",
    "\n",
    "-->\n",
    "    OOP is about code reuse — you factor code to minimize redundancy and program \n",
    "    by customizing what already exists instead of changing code in place or starting from scratch."
   ]
  },
  {
   "cell_type": "markdown",
   "id": "1863bd6b-78e5-4ef3-ad40-dfe2df5b2596",
   "metadata": {},
   "source": [
    "Q2. Where does an inheritance search look for an attribute?\n",
    "\n",
    "-->\n",
    "    An inheritance search looks for an attribute first in the instance object, \n",
    "    then in the class the instance was created from, \n",
    "    then in all higher superclasses, progressing from left to right (by default). \n",
    "    The search stops at the first place the attribute is found."
   ]
  },
  {
   "cell_type": "markdown",
   "id": "24af05f8-6342-40f2-a929-71be2ab06396",
   "metadata": {},
   "source": [
    "Q3. How do you distinguish between a class object and an instance object?\n",
    "\n",
    "-->\n",
    "    Classes are a kind of factory for creating multiple instances. \n",
    "    Classes also support operator overloading methods, which instances inherit, \n",
    "    and treat any functions nested in the class as methods for processing instances."
   ]
  },
  {
   "cell_type": "markdown",
   "id": "6db54b56-87d1-42c5-be37-cba726f576ee",
   "metadata": {},
   "source": [
    "Q4. What makes the first argument in a class’s method function special?\n",
    "\n",
    "-->\n",
    "    The calling process is automatic while the receiving process is not (its explicit). \n",
    "    This is the reason the first parameter of a function in class must be the object itself. \n",
    "    Writing this parameter as self is merely a convention."
   ]
  },
  {
   "cell_type": "markdown",
   "id": "90d2f6f2-3545-4609-b918-1feb3837d5cf",
   "metadata": {},
   "source": [
    "Q5. What is the purpose of the __init__ method?\n",
    "\n",
    "-->\n",
    "    The __init__ method is called automatically every time the class is being used to create a new object\n",
    "    The __init__ method lets the class initialize the object's attributes and serves no other purpose. \n",
    "    It is only used within classes."
   ]
  },
  {
   "cell_type": "markdown",
   "id": "f49fe66b-3828-43b9-95c2-79305264c16d",
   "metadata": {},
   "source": [
    "Q6. What is the process for creating a class instance?\n",
    "\n",
    "-->\n",
    "    To create instances of a class, you call the class using class name and \n",
    "    pass in whatever arguments its __init__ method accepts."
   ]
  },
  {
   "cell_type": "markdown",
   "id": "91ba4b32-3d30-4b20-96a0-cae9b57e7a60",
   "metadata": {},
   "source": [
    "Q7. What is the process for creating a class?\n",
    "\n",
    "-->\n",
    "    class ClassName():\n",
    "         #some code here"
   ]
  },
  {
   "cell_type": "markdown",
   "id": "ca1428a7-c592-4296-9a7e-f52d52cf5685",
   "metadata": {},
   "source": [
    "Q8. How would you define the superclasses of a class?\n",
    "\n",
    "-->\n",
    "    A superclass is the class from which many subclasses can be created. \n",
    "    The subclasses inherit the characteristics of a superclass. \n",
    "    The superclass is also known as the parent class or base class\n",
    "    class Son(Father, Mother):\n",
    "    In this case Father and Mother are superclasses for Son subclass."
   ]
  }
 ],
 "metadata": {
  "kernelspec": {
   "display_name": "Python 3 (ipykernel)",
   "language": "python",
   "name": "python3"
  },
  "language_info": {
   "codemirror_mode": {
    "name": "ipython",
    "version": 3
   },
   "file_extension": ".py",
   "mimetype": "text/x-python",
   "name": "python",
   "nbconvert_exporter": "python",
   "pygments_lexer": "ipython3",
   "version": "3.10.6"
  }
 },
 "nbformat": 4,
 "nbformat_minor": 5
}
