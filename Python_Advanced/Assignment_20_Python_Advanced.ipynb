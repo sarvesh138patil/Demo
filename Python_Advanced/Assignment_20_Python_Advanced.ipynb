{
 "cells": [
  {
   "cell_type": "markdown",
   "id": "2ab89f00-1b8b-4ebe-ad31-fc45a44b3466",
   "metadata": {},
   "source": [
    "1.Compare and contrast the float and Decimal classes' benefits and drawbacks ?\n",
    "\n",
    "-->\n",
    "    Both the float and decimal types store numerical values in Python.\n",
    "\n",
    "Use floats when convenience and speed matter. A float gives you an approximation of the number you declare.\n",
    "\n",
    "Use decimals when precision matters. Decimals can suffer from their own precision issues, but generally, decimals are more precise than floats. The performance difference between float and decimal, with Python 3, is not outlandish, and in my experience, the precision benefits of a decimal outweigh the performance benefits of a float."
   ]
  },
  {
   "cell_type": "markdown",
   "id": "9bf987bd-6d6d-4d4e-8169-348ccf401c67",
   "metadata": {},
   "source": [
    "2.Decimal('1.200') and Decimal('1.2') are two objects to consider. In what sense are these the same object? Are these just two ways of representing the exact same value, or do they correspond to different internal states ?\n",
    "\n",
    "-->\n",
    "    Both values are same but internal representation at storage Is different. Precsion differs, Decimal('1.200') gives internally 1.200 and Decimal('1.2') gives 1.2."
   ]
  },
  {
   "cell_type": "markdown",
   "id": "122213dc-3e6e-4609-b0a4-104c9aad1360",
   "metadata": {},
   "source": [
    "3.What happens if the equality of Decimal('1.200') and Decimal('1.2') is checked ?\n",
    "\n",
    "-->\n",
    "    Both values are checked to be equal , they only differ in precision."
   ]
  },
  {
   "cell_type": "markdown",
   "id": "48df0b89-6951-4d16-815e-eb88afdd5a80",
   "metadata": {},
   "source": [
    "4.Why is it preferable to start a Decimal object with a string rather than a floating-point value ?\n",
    "\n",
    "-->\n",
    "    Floating-point value is converted to Decimal format. Decimal can store float value with absolute precision. But when float value is given as Decimal object,it first has to be converted from floating point value which might already have rounding error.\n",
    "\n",
    "Hence it is preferable to start a Decimal object with a string."
   ]
  },
  {
   "cell_type": "markdown",
   "id": "0af2731b-7ab7-48fa-8d80-5e4b996e864b",
   "metadata": {},
   "source": [
    "5.In an arithmetic phrase, how simple is it to combine Decimal objects with integers ?\n",
    "\n",
    "-->\n",
    "    We can do it with use of Decimal()."
   ]
  },
  {
   "cell_type": "markdown",
   "id": "e5ca3285-7138-4860-b56f-70c135301078",
   "metadata": {},
   "source": [
    "6.Can Decimal objects and floating-point values be combined easily ?\n",
    "\n",
    "-->\n",
    "    Arithmetic operfations like Adding,subtracting or multiplying a Decimal object by a floating-point value is generates an error.\n",
    "\n",
    "To do these operations, the floating point has to be converted to a Decimal."
   ]
  },
  {
   "cell_type": "markdown",
   "id": "bb9a05f1-863d-4a48-8da5-8390b7b41c07",
   "metadata": {},
   "source": [
    "7.Using the Fraction class but not the Decimal class, give an example of a quantity that can be expressed with absolute precision ?\n",
    "\n",
    "-->\n",
    "    Value of 0.5 will be represented as ½."
   ]
  },
  {
   "cell_type": "markdown",
   "id": "8150e117-0d90-442d-a2c3-1c33260052f4",
   "metadata": {},
   "source": [
    "8.Consider the following two fraction objects: Fraction(1, 2) and Fraction(1, 2). (5, 10). Is the internal state of these two objects the same? Why do you think that is ?\n",
    "\n",
    "-->\n",
    "    Both will be reduced to 1/2"
   ]
  },
  {
   "cell_type": "markdown",
   "id": "7128ead6-0736-4793-b85b-f56a95269f9d",
   "metadata": {},
   "source": [
    "9.How do the Fraction class and the integer type (int) relate to each other? Containment or inheritance ?\n",
    "\n",
    "-->\n",
    "    Fraction class and integer type(int) are related in form of a container.It contains two ints, one the numerator and the other the denominator"
   ]
  }
 ],
 "metadata": {
  "kernelspec": {
   "display_name": "Python 3 (ipykernel)",
   "language": "python",
   "name": "python3"
  },
  "language_info": {
   "codemirror_mode": {
    "name": "ipython",
    "version": 3
   },
   "file_extension": ".py",
   "mimetype": "text/x-python",
   "name": "python",
   "nbconvert_exporter": "python",
   "pygments_lexer": "ipython3",
   "version": "3.10.6"
  }
 },
 "nbformat": 4,
 "nbformat_minor": 5
}
