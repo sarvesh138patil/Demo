{
 "cells": [
  {
   "cell_type": "markdown",
   "id": "f03ba23a-14d4-45d5-b89d-cf21f5dca2be",
   "metadata": {},
   "source": [
    "Q1. What is the relationship between classes and modules?\n",
    "\n",
    "-->\n",
    "    So a module in python is simply a way to organize the code, and it contains either python  \n",
    "    classes or just functions. If you need those classes or functions in your project, you just \n",
    "    import them. For instance, the math module in python contains just a bunch of functions, and \n",
    "    you just call those needed (math.sin).\n",
    "    On the other hand a python class is something similar to a java class, it's only structured in \n",
    "    a slightly different way."
   ]
  },
  {
   "cell_type": "markdown",
   "id": "65896f89-9388-4395-a8fb-7da3984596c3",
   "metadata": {},
   "source": [
    "Q2. How do you make instances and classes?\n",
    "\n",
    "-->\n",
    "    Creating Classes -:\n",
    "    The class statement creates a new class definition. \n",
    "    The name of the class immediately follows the keyword class followed by a colon as follows −\n",
    "    eg. \n",
    "    class Employee:\n",
    "    \n",
    "   Creating Instance Objects -:\n",
    "    To create instances of a class, you call the class using class name and pass in whatever \n",
    "    arguments its __init__ method accepts.\n",
    "\n",
    "   \"This would create first object of Employee class\"\n",
    "    emp1 = Employee(\"Zara\", 2000)\n",
    "    \"This would create second object of Employee class\"\n",
    "    emp2 = Employee(\"Manni\", 5000)"
   ]
  },
  {
   "cell_type": "markdown",
   "id": "05bb6048-29a4-4a34-afe6-2c828233c80a",
   "metadata": {},
   "source": [
    "Q3. Where and how should be class attributes created?\n",
    "\n",
    "-->\n",
    "    Class attributes or Class level Attributes belong to the class itself. these attributes will   \n",
    "    be shared by all the instances of the class. Hence these attributes are usually \n",
    "    created/defined in the top of class definiation outside all methods.\n",
    "\n",
    "   Example: In the below code we are defining a class attribute called no_of_wheels which will be \n",
    "   shared by all the instances of the class Car\n",
    "\n",
    "   class Car: no_of_wheels = 4; # this is a class attribute def __init__(self,color,price,engine): \n",
    "   self.color = color # All this are instance attributes self.price = price self.engine = engine"
   ]
  },
  {
   "cell_type": "markdown",
   "id": "936d57d5-20d6-4824-8e34-87f9ff1efce1",
   "metadata": {},
   "source": [
    "Q4. Where and how are instance attributes created?\n",
    "\n",
    "-->\n",
    "    Instances attributes are passed to the class when an object of the class is created. Unlike  \n",
    "    class attributes, instance attributes are not shared by all objects of the classs. instead \n",
    "    each object maintains its own copy of instance attributes at object level. whereas incase of \n",
    "    class attributes all instances of class refer to a single copy. Usually instance attributes \n",
    "    are defined within the __init__ method of class\n",
    "\n",
    "   Example: In the below sample code we are creating a class Car with instance varaibles color,   \n",
    "   price, engine, which will be provided when an instance of class Car is created.\n",
    "\n",
    "   class Employee: \n",
    "       def __init__(self,name,age,gender): \n",
    "       # All this are instance attributes\n",
    "       self.name = name \n",
    "       self.age = age \n",
    "       self.gender = gender\n",
    "\n",
    "   emp1 = Employee('he', 21, 'male')\n",
    "   emp2 = Employee('she',19, 'female')\n",
    "\n",
    "   nexon_ev, safari are both the instances of class Car with different instance variables."
   ]
  },
  {
   "cell_type": "markdown",
   "id": "1db36a2a-f9d7-478f-bdbf-27d095c141aa",
   "metadata": {},
   "source": [
    "Q5. What does the term \"self\" in a Python class mean?\n",
    "\n",
    "-->\n",
    "    self represents the instance of the class (it represents the object itself). \n",
    "    By using the “self” keyword we can access the attributes and methods of the class with in the     class in python. \n",
    "    It binds the attributes with the given arguments."
   ]
  },
  {
   "cell_type": "code",
   "execution_count": 9,
   "id": "8f325d29-047c-4029-85ee-c48977b2b553",
   "metadata": {},
   "outputs": [
    {
     "name": "stdout",
     "output_type": "stream",
     "text": [
      "{'name': 'he', 'age': 21, 'gender': 'male'}\n",
      "{'name': 'she', 'age': 19, 'gender': 'female'}\n"
     ]
    }
   ],
   "source": [
    "class Employee:\n",
    "    def __init__(self, name, age, gender):\n",
    "        self.name = name\n",
    "        self.age = age\n",
    "        self.gender = gender\n",
    "        \n",
    "emp1 = Employee('he', 21, 'male')\n",
    "emp2 = Employee('she',19, 'female')\n",
    "\n",
    "print(emp1.__dict__)\n",
    "print(emp2.__dict__)"
   ]
  },
  {
   "cell_type": "markdown",
   "id": "dde0816b-c6f3-41bb-b041-e96986036e3a",
   "metadata": {},
   "source": [
    "Q6. How does a Python class handle operator overloading?\n",
    "\n",
    "-->\n",
    "    Python Classes handle operator overloading by using special methods called Magic methods.  \n",
    "    these special methods usually begin and end with __ (double underscore)\n",
    "    Example: Magic methods for basic arithmetic operators are:\n",
    "    + -> __add__()\n",
    "    - -> __sub__()\n",
    "    * -> __mul__()\n",
    "    / -> __div__()"
   ]
  },
  {
   "cell_type": "code",
   "execution_count": 13,
   "id": "6eab5748-f4d0-49fc-b61d-21af555d5589",
   "metadata": {},
   "outputs": [
    {
     "name": "stdout",
     "output_type": "stream",
     "text": [
      "The total distance travelled by both the vehicles is 30\n"
     ]
    }
   ],
   "source": [
    "class Travel:\n",
    "    def __init__(self,distance):\n",
    "        self.distance = distance\n",
    "    def __add__(self,other):\n",
    "        return self.distance + other.distance\n",
    "v1 = Travel(10)\n",
    "v2 = Travel(20)\n",
    "print(f'The total distance travelled by both the vehicles is {v1+v2}')"
   ]
  },
  {
   "cell_type": "markdown",
   "id": "da6e8e81-f3ce-498c-b6f3-67af9047417d",
   "metadata": {},
   "source": [
    "Q7. When do you consider allowing operator overloading of your classes?\n",
    "\n",
    "-->\n",
    "    Operator overloading can be useful in situations where it would make the code more concise, readable, and intuitive. It can also make code easier to maintain and reduce the likelihood of errors caused by misunderstanding or misuse of class methods.\n",
    "\n",
    "However, it should be used with caution and only in cases where it makes sense. Overloading operators can sometimes lead to ambiguity and confusion if not used appropriately. Additionally, overusing operator overloading can lead to code that is difficult to understand or debug.\n",
    "\n",
    "In general, it is important to follow good coding practices and consider the readability and maintainability of the code when deciding whether to allow operator overloading in your classes."
   ]
  },
  {
   "cell_type": "raw",
   "id": "99cea213-d2f1-4276-8a2d-d6173677fe56",
   "metadata": {},
   "source": [
    "Q8. What is the most popular form of operator overloading?\n",
    "\n",
    "-->\n",
    "    The most popular form of operator overloading is probably the arithmetic operators such as +,     -, *, /, and %.This is because these operators are commonly used in mathematical operations       and overloading them can make the code more concise and readable."
   ]
  },
  {
   "cell_type": "markdown",
   "id": "d5880ef5-5e0d-4d2e-93da-0fb8403a2f1a",
   "metadata": {},
   "source": [
    "Q9. What are the two most important concepts to grasp in order to comprehend Python OOP code?\n",
    "\n",
    "-->\n",
    "    The two most important concepts to grasp in order to comprehend Python OOP (Object-Oriented Programming) code are:\n",
    "\n",
    "Class: A class is a blueprint or template for creating objects. It defines the attributes (data) and methods (functions) that an object of that class can have. It is the basic building block of object-oriented programming in Python.\n",
    "\n",
    "Object: An object is an instance of a class. It is created from the class blueprint and has its own unique set of attributes and methods. Objects are the entities that actually perform the actions in an object-oriented program.\n",
    "\n",
    "In order to comprehend Python OOP code, it is essential to understand how these two concepts work together. A class defines the structure and behavior of an object, while an object is an instance of that class with its own unique state and behavior. Understanding how to define and instantiate classes, as well as how to work with objects and their attributes and methods, is crucial for comprehending Python OOP code."
   ]
  }
 ],
 "metadata": {
  "kernelspec": {
   "display_name": "Python 3 (ipykernel)",
   "language": "python",
   "name": "python3"
  },
  "language_info": {
   "codemirror_mode": {
    "name": "ipython",
    "version": 3
   },
   "file_extension": ".py",
   "mimetype": "text/x-python",
   "name": "python",
   "nbconvert_exporter": "python",
   "pygments_lexer": "ipython3",
   "version": "3.10.6"
  }
 },
 "nbformat": 4,
 "nbformat_minor": 5
}
