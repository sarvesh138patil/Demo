{
 "cells": [
  {
   "cell_type": "markdown",
   "id": "ed344f48-280c-45c3-9084-6ae20296bb2b",
   "metadata": {},
   "source": [
    "Q1. Which two operator overloading methods can you use in your classes to support iteration?\n",
    "\n",
    "-->\n",
    "    In Python, to support iteration, you can use the __iter__() and __next__() methods for operator overloading.\n",
    "\n",
    "The __iter__() method should return an iterator object, which is an object that defines the __next__() method. The __next__() method should return the next item in the iteration, or raise the StopIteration exception if there are no more items.\n",
    "\n",
    "Here's an example to illustrate these methods in action:\n",
    "\n",
    "In this example, we define a MyIterator class that implements the iterator protocol by defining the __iter__() and __next__() methods. We also define a MyList class that implements the iterable protocol by defining the __iter__() method to return an instance of MyIterator.\n",
    "\n",
    "When we create an instance of MyList with a list [1, 2, 3], and then iterate over the list using a for loop, the output is:\n",
    "\n",
    "This indicates that our MyList class is iterable and supports iteration using the __iter__() and __next__() methods we defined."
   ]
  },
  {
   "cell_type": "code",
   "execution_count": 1,
   "id": "26dced2c-3d46-4eda-95c5-c524cc713295",
   "metadata": {},
   "outputs": [
    {
     "name": "stdout",
     "output_type": "stream",
     "text": [
      "1\n",
      "2\n",
      "3\n"
     ]
    }
   ],
   "source": [
    "class MyIterator:\n",
    "    def __init__(self, my_list):\n",
    "        self.my_list = my_list\n",
    "        self.index = 0\n",
    "\n",
    "    def __iter__(self):\n",
    "        return self\n",
    "\n",
    "    def __next__(self):\n",
    "        if self.index < len(self.my_list):\n",
    "            result = self.my_list[self.index]\n",
    "            self.index += 1\n",
    "            return result\n",
    "        else:\n",
    "            raise StopIteration\n",
    "\n",
    "class MyList:\n",
    "    def __init__(self, my_list):\n",
    "        self.my_list = my_list\n",
    "\n",
    "    def __iter__(self):\n",
    "        return MyIterator(self.my_list)\n",
    "\n",
    "my_list = MyList([1, 2, 3])\n",
    "for item in my_list:\n",
    "    print(item)\n"
   ]
  },
  {
   "cell_type": "markdown",
   "id": "ad272902-55bd-494f-975a-b04d3e7952c8",
   "metadata": {},
   "source": [
    "Q2. In what contexts do the two operator overloading methods manage printing?\n",
    "\n",
    "-->\n",
    "    In Python, the two operator overloading methods that manage printing are __str__() and __repr__().\n",
    "\n",
    "The __str__() method should return a string that represents the object in a human-readable format. This method is called by the str() function and by the print() function when you pass an object to it.\n",
    "Here's an example:\n",
    "\n",
    "In this example, we define a MyClass class with a constructor that takes an argument my_var, and a __str__() method that returns a string representation of the object. When we create an instance of MyClass with my_obj = MyClass(10), and then print the object using print(my_obj), the output is:\n",
    "MyClass with my_var = 10\n",
    "This indicates that our __str__() method was called and returned the string representation of the object."
   ]
  },
  {
   "cell_type": "code",
   "execution_count": 2,
   "id": "9231360f-7963-41a3-b232-034b33413ed1",
   "metadata": {},
   "outputs": [
    {
     "name": "stdout",
     "output_type": "stream",
     "text": [
      "MyClass with my_var = 10\n"
     ]
    }
   ],
   "source": [
    "class MyClass:\n",
    "    def __init__(self, my_var):\n",
    "        self.my_var = my_var\n",
    "\n",
    "    def __str__(self):\n",
    "        return f\"MyClass with my_var = {self.my_var}\"\n",
    "\n",
    "my_obj = MyClass(10)\n",
    "print(my_obj)\n"
   ]
  },
  {
   "cell_type": "markdown",
   "id": "2e7fc14d-30d7-4664-8e20-50da09386c18",
   "metadata": {},
   "source": [
    "The __repr__() method should return a string that represents the object in a machine-readable format. This method is called by the repr() function and by the Python interpreter when you enter an object name in interactive mode.\n",
    "\n",
    "Here's an example:"
   ]
  },
  {
   "cell_type": "code",
   "execution_count": 3,
   "id": "a0401917-49ca-4c77-a750-41d3f673dce3",
   "metadata": {},
   "outputs": [
    {
     "name": "stdout",
     "output_type": "stream",
     "text": [
      "MyClass(10)\n"
     ]
    }
   ],
   "source": [
    "class MyClass:\n",
    "    def __init__(self, my_var):\n",
    "        self.my_var = my_var\n",
    "\n",
    "    def __repr__(self):\n",
    "        return f\"MyClass({self.my_var})\"\n",
    "\n",
    "my_obj = MyClass(10)\n",
    "print(repr(my_obj))\n"
   ]
  },
  {
   "cell_type": "markdown",
   "id": "62b34042-716e-413a-a8a2-a8ca8f1ed4a3",
   "metadata": {},
   "source": [
    "In this example, we define a MyClass class with a constructor that takes an argument my_var, and a __repr__() method that returns a string representation of the object. When we create an instance of MyClass with my_obj = MyClass(10), and then print the object using repr(my_obj), the output is:In this example, we define a MyClass class with a constructor that takes an argument my_var, and a __repr__() method that returns a string representation of the object. When we create an instance of MyClass with my_obj = MyClass(10), and then print the object using repr(my_obj), the output is:\n",
    "    MyClass(10)\n",
    "    This indicates that our __repr__() method was called and returned the string representation of the object."
   ]
  },
  {
   "cell_type": "markdown",
   "id": "3384b170-2a5c-47e5-b8f9-cd4b55a2f613",
   "metadata": {},
   "source": [
    "Q3. In a class, how do you intercept slice operations?\n",
    "\n",
    "-->\n",
    "    In Python, you can intercept slice operations in a class by defining the __getitem__() method with a slice object as the argument. The __getitem__() method is called when the object is accessed using the square bracket notation with a slice object as the index.\n",
    "\n",
    "Here's an example: \n",
    "\n",
    "In this example, we define a MyList class with a constructor that takes a list data, and a __getitem__() method that intercepts slice operations. Inside the __getitem__() method, we check if the index is a slice object using the isinstance() function. If it is, we extract the start, stop, and step attributes of the slice object, and use them to create a new MyList object that contains the sliced data. Otherwise, we return the item at the specified index.\n",
    "\n",
    "When we create an instance of MyList with a list [1, 2, 3, 4, 5], and then access a slice of the list using my_list[1:4], the output is: [2, 3, 4]\n",
    "\n",
    "\n",
    "This indicates that our __getitem__() method was called and intercepted the slice operation, and returned a new MyList object that contains the sliced data."
   ]
  },
  {
   "cell_type": "code",
   "execution_count": 11,
   "id": "2887fb67-22fb-48cf-b853-e930aa3707fe",
   "metadata": {},
   "outputs": [
    {
     "name": "stdout",
     "output_type": "stream",
     "text": [
      "[2, 3, 4]\n"
     ]
    }
   ],
   "source": [
    "class MyList:\n",
    "    def __init__(self, data):\n",
    "        self.data = data\n",
    "\n",
    "    def __getitem__(self, index):\n",
    "        if isinstance(index, slice):\n",
    "            start = index.start or 0\n",
    "            stop = index.stop or len(self.data)\n",
    "            step = index.step or 1\n",
    "            return MyList(self.data[start:stop:step])\n",
    "        else:\n",
    "            return self.data[index]\n",
    "\n",
    "    def __str__(self):\n",
    "        return str(self.data)\n",
    "    \n",
    "my_list = MyList([1, 2, 3, 4, 5])\n",
    "\n",
    "print(my_list[1:4])\n"
   ]
  },
  {
   "cell_type": "markdown",
   "id": "e0ae84fe-2491-473f-bea9-f736ec059ddd",
   "metadata": {},
   "source": [
    "Q4. In a class, how do you capture in-place addition?\n",
    "\n",
    "-->\n",
    "    a+b is normal addition. Whereas a+=b is inplace addition operation. In this in-place addition a itself will store the value of addition. In a class __iadd__ method is used for this in-place operation"
   ]
  },
  {
   "cell_type": "code",
   "execution_count": 15,
   "id": "fddd7a93-65ab-4c1f-8fe9-1f33cbf2d985",
   "metadata": {},
   "outputs": [
    {
     "name": "stdout",
     "output_type": "stream",
     "text": [
      "300\n"
     ]
    }
   ],
   "source": [
    "class Book:\n",
    "    def __init__(self,pages):\n",
    "        self.pages = pages\n",
    "    def __iadd__(self,other):\n",
    "        self.pages += other.pages\n",
    "        return self.pages\n",
    "        \n",
    "b1 = Book(100)\n",
    "b2 = Book(200)\n",
    "b1+=b2\n",
    "print(b1)"
   ]
  },
  {
   "cell_type": "markdown",
   "id": "048a13e9-a6f5-466e-9f38-14f74272cea0",
   "metadata": {},
   "source": [
    "Q5. When is it appropriate to use operator overloading?\n",
    "\n",
    "-->\n",
    "    Operator overloading is used when we want to use an operator \n",
    "    other than its normal operation to have different meaning according to the context required in user defined function."
   ]
  },
  {
   "cell_type": "code",
   "execution_count": 14,
   "id": "3539f505-a46b-43a9-836c-c1d731b5dcd4",
   "metadata": {},
   "outputs": [
    {
     "name": "stdout",
     "output_type": "stream",
     "text": [
      "Total Number of Pages -> 300\n"
     ]
    }
   ],
   "source": [
    "class Book:\n",
    "    def __init__(self,pages):\n",
    "        self.pages = pages\n",
    "    def __add__(self,other):\n",
    "        return self.pages+other.pages\n",
    "b1 = Book(100)\n",
    "b2 = Book(200)\n",
    "print(f'Total Number of Pages -> {b1+b2}')"
   ]
  },
  {
   "cell_type": "code",
   "execution_count": null,
   "id": "eb7cb0c8-1ab3-48dd-bce4-38db73c961fe",
   "metadata": {},
   "outputs": [],
   "source": []
  }
 ],
 "metadata": {
  "kernelspec": {
   "display_name": "Python 3 (ipykernel)",
   "language": "python",
   "name": "python3"
  },
  "language_info": {
   "codemirror_mode": {
    "name": "ipython",
    "version": 3
   },
   "file_extension": ".py",
   "mimetype": "text/x-python",
   "name": "python",
   "nbconvert_exporter": "python",
   "pygments_lexer": "ipython3",
   "version": "3.10.6"
  }
 },
 "nbformat": 4,
 "nbformat_minor": 5
}
