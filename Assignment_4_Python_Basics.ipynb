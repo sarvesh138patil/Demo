{
 "cells": [
  {
   "cell_type": "code",
   "execution_count": null,
   "id": "873563a2-8668-4f06-b134-f19dd7728b27",
   "metadata": {},
   "outputs": [],
   "source": [
    "1. What exactly is []?\n",
    "\n",
    "-->\n",
    "    The empty list value, which is a list value that contains no items. \n",
    "    This is similar to how '' is the empty string value."
   ]
  },
  {
   "cell_type": "raw",
   "id": "f977aaa2-c01d-4cde-99d9-7083198ed1d3",
   "metadata": {},
   "source": [
    "2. In a list of values stored in a variable called spam, how would you assign the value 'hello' as the\n",
    "third value? (Assume [2, 4, 6, 8, 10] are in spam.)\n",
    "Let's pretend the spam includes the list ['a','b', 'c', 'd'] for the next three queries.\n",
    "\n",
    "-->\n",
    "    spam[2] = 'hello' "
   ]
  },
  {
   "cell_type": "code",
   "execution_count": null,
   "id": "ba5a53df-d707-4e4e-8550-2baa336a53ab",
   "metadata": {},
   "outputs": [],
   "source": [
    "3. What is the value of spam[int(int('3'* 2) / 11)]?\n",
    "\n",
    "-->\n",
    "    'd' (Note that '3' * 2 is the string '33', which is passed to int() before being divided by 11. \n",
    "         This eventually evaluates to 3. \n",
    "         Expressions can be used wherever values are used.)"
   ]
  },
  {
   "cell_type": "code",
   "execution_count": null,
   "id": "8a31974f-95ba-44e8-ae50-d9f57bc455d7",
   "metadata": {},
   "outputs": [],
   "source": [
    "4. What is the value of spam[-1]?\n",
    "\n",
    "-->\n",
    "    'd' (Negative indexes count from the end.)"
   ]
  },
  {
   "cell_type": "code",
   "execution_count": null,
   "id": "84131703-0845-4b03-b5d5-3291c5cad10f",
   "metadata": {},
   "outputs": [],
   "source": [
    "5. What is the value of spam[:2]?\n",
    "Lets pretend bacon has the list [3.14, 'cat', 11, 'cat', True] for the next three questions.\n",
    "\n",
    "-->\n",
    "    ['a', 'b']"
   ]
  },
  {
   "cell_type": "code",
   "execution_count": null,
   "id": "d935c26f-a0d8-4fac-b4f8-227c4299a50c",
   "metadata": {},
   "outputs": [],
   "source": [
    "6. What is the value of bacon.index('cat')?\n",
    "\n",
    "-->\n",
    "    1"
   ]
  },
  {
   "cell_type": "code",
   "execution_count": null,
   "id": "a9d70f7c-a127-483b-8f2b-edaa37f7f49a",
   "metadata": {},
   "outputs": [],
   "source": [
    "7. How does bacon.append(99) change the look of the list value in bacon?\n",
    "\n",
    "-->\n",
    "    [3.14, 'cat', 11, 'cat', True, 99]"
   ]
  },
  {
   "cell_type": "code",
   "execution_count": null,
   "id": "8e92c7b1-a2ea-4b2b-9284-4514c52c3ae3",
   "metadata": {},
   "outputs": [],
   "source": [
    "8. How does bacon.remove('cat') change the look of the list in bacon?\n",
    "\n",
    "-->\n",
    "    [3.14, 11, 'cat', True]"
   ]
  },
  {
   "cell_type": "code",
   "execution_count": null,
   "id": "1dfabe89-edff-4ac7-83b4-440feecd1364",
   "metadata": {},
   "outputs": [],
   "source": [
    "9. What are the list concatenation and list replication operators?\n",
    "\n",
    "-->\n",
    "    The operator for list concatenation is +, \n",
    "    while the operator for replication is *. "
   ]
  },
  {
   "cell_type": "code",
   "execution_count": null,
   "id": "33d0f5f3-fded-4534-bbd4-288c22300df0",
   "metadata": {},
   "outputs": [],
   "source": [
    "10. What is difference between the list methods append() and insert()?\n",
    "\n",
    "-->\n",
    "    While append() will add values only to the end of a list, insert() can add them anywhere in the list."
   ]
  },
  {
   "cell_type": "code",
   "execution_count": null,
   "id": "eae3ac4d-dbd9-490a-bce2-911e9116c5f1",
   "metadata": {},
   "outputs": [],
   "source": [
    "11. What are the two methods for removing items from a list?\n",
    "\n",
    "-->\n",
    "    The del statement and the remove() list method are two ways to remove values from a list."
   ]
  },
  {
   "cell_type": "code",
   "execution_count": null,
   "id": "4641824d-8ec7-4e9a-a01d-8ffce1603764",
   "metadata": {},
   "outputs": [],
   "source": [
    "12. Describe how list values and string values are identical.\n",
    "\n",
    "-->\n",
    "    Both lists and strings can be passed to len(), have indexes and slices, be used in for loops, \n",
    "    be concatenated or replicated, and be used with the in and not in operators."
   ]
  },
  {
   "cell_type": "code",
   "execution_count": null,
   "id": "7d52e3a7-8c15-4aab-aeba-30bd9491c1f3",
   "metadata": {},
   "outputs": [],
   "source": [
    "13. What is the difference between tuples and lists?\n",
    "\n",
    "-->\n",
    "    Lists are mutable; they can have values added, removed, or changed. \n",
    "    Tuples are immutable; they cannot be changed at all. \n",
    "    Also, tuples are written using parentheses, ( and ), \n",
    "    while lists use the square brackets, [ and ]."
   ]
  },
  {
   "cell_type": "code",
   "execution_count": null,
   "id": "f7947619-8314-40bc-bf72-a3d66376263c",
   "metadata": {},
   "outputs": [],
   "source": [
    "14. How do you type a tuple value that only contains the integer 42?\n",
    "\n",
    "-->\n",
    "    (42,)"
   ]
  },
  {
   "cell_type": "code",
   "execution_count": null,
   "id": "9c5b54f9-c626-4b26-b194-96541287e284",
   "metadata": {},
   "outputs": [],
   "source": [
    "15. How do you get a list values tuple form? How do you get a tuple values list form?\n",
    "\n",
    "-->\n",
    "    The tuple() and list() functions, respectively"
   ]
  },
  {
   "cell_type": "code",
   "execution_count": null,
   "id": "ab3ecc3a-560d-46ed-829a-47c1910a2212",
   "metadata": {},
   "outputs": [],
   "source": [
    "16. Variables that &quot;contain&quot; list values are not necessarily lists themselves. Instead, what do they\n",
    "contain?\n",
    "\n",
    "-->\n",
    "    They contain references to list values."
   ]
  },
  {
   "cell_type": "code",
   "execution_count": null,
   "id": "8c6ea8ad-49f5-460a-bb38-b54bf185ae81",
   "metadata": {},
   "outputs": [],
   "source": [
    "17. How do you distinguish between copy.copy() and copy.deepcopy()?\n",
    "\n",
    "-->\n",
    "    The copy.copy() function will do a shallow copy of a list, \n",
    "    while the copy.deepcopy() function will do a deep copy of a list. \n",
    "    That is, only copy.deepcopy() will duplicate any lists inside the list."
   ]
  }
 ],
 "metadata": {
  "kernelspec": {
   "display_name": "Python 3 (ipykernel)",
   "language": "python",
   "name": "python3"
  },
  "language_info": {
   "codemirror_mode": {
    "name": "ipython",
    "version": 3
   },
   "file_extension": ".py",
   "mimetype": "text/x-python",
   "name": "python",
   "nbconvert_exporter": "python",
   "pygments_lexer": "ipython3",
   "version": "3.10.6"
  }
 },
 "nbformat": 4,
 "nbformat_minor": 5
}
