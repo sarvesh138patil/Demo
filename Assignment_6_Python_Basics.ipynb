{
 "cells": [
  {
   "cell_type": "code",
   "execution_count": null,
   "id": "cb81847d-3cf7-49ab-b669-bb2c09d3bd3a",
   "metadata": {},
   "outputs": [],
   "source": [
    "1. What are escape characters, and how do you use them?\n",
    "\n",
    "-->\n",
    "    Escape characters represent characters in string values \n",
    "    that would otherwise be difficult or impossible to type into code."
   ]
  },
  {
   "cell_type": "code",
   "execution_count": null,
   "id": "721a0c4b-926a-44ec-83ea-8b3289375068",
   "metadata": {},
   "outputs": [],
   "source": [
    "2. What do the escape characters n and t stand for?\n",
    "\n",
    "-->\n",
    "    \\n is a newline; \\t is a tab."
   ]
  },
  {
   "cell_type": "code",
   "execution_count": null,
   "id": "44319e3c-5ae9-4a20-8334-9932da5ba00b",
   "metadata": {},
   "outputs": [],
   "source": [
    "3. What is the way to include backslash characters in a string?\n",
    "\n",
    "-->\n",
    "    The \\\\ escape character will represent a backslash character."
   ]
  },
  {
   "cell_type": "raw",
   "id": "16e02ed9-0a97-45ec-a804-93696c2d27a2",
   "metadata": {},
   "source": [
    "4. The string \"Howl's Moving Castle\" is a correct value. Why isnt the single quote character in the\n",
    "word Howl's not escaped a problem?\n",
    "\n",
    "-->\n",
    "    The single quote in Howl's is fine because you've used double quotes to mark the beginning and end of the string."
   ]
  },
  {
   "cell_type": "code",
   "execution_count": null,
   "id": "0b4b5535-e594-4037-a678-b58fc4dcd964",
   "metadata": {},
   "outputs": [],
   "source": [
    "5. How do you write a string of newlines if you dont want to use the n character?\n",
    "\n",
    "-->\n",
    "    Multiline strings allow you to use newlines in strings without the \\n escape character."
   ]
  },
  {
   "cell_type": "code",
   "execution_count": null,
   "id": "53bd2dd2-62f8-4092-8811-9a7b88b1bb21",
   "metadata": {},
   "outputs": [],
   "source": [
    "6. What are the values of the given expressions?\n",
    "'Hello, world!'[1]\n",
    "'Hello, world!'[0:5]\n",
    "'Hello, world!'[:5]\n",
    "'Hello, world!'[3:]\n",
    "\n",
    "-->\n",
    "    'e'\n",
    "    'Hello'\n",
    "    'Hello'\n",
    "    'lo world!"
   ]
  },
  {
   "cell_type": "code",
   "execution_count": null,
   "id": "b85b37b4-06e9-4f18-9692-4eeea6d9722e",
   "metadata": {},
   "outputs": [],
   "source": [
    "7. What are the values of the following expressions?\n",
    "'Hello'.upper()\n",
    "'Hello'.upper().isupper()\n",
    "'Hello'.upper().lower()\n",
    "\n",
    "-->\n",
    "    'HELLO'\n",
    "     True\n",
    "    'hello'"
   ]
  },
  {
   "cell_type": "code",
   "execution_count": null,
   "id": "b981a120-9e60-48aa-a5d8-5d303b68cd3f",
   "metadata": {},
   "outputs": [],
   "source": [
    "8. What are the values of the following expressions?\n",
    "'Remember, remember, the fifth of July.'.split()\n",
    "'-'.join('There can only one.'.split())\n",
    "\n",
    "-->\n",
    "    ['Remember,', 'remember,', 'the', 'fifth', 'of', 'November.']\n",
    "    'There-can-be-only-one.'"
   ]
  },
  {
   "cell_type": "code",
   "execution_count": null,
   "id": "2873cbcf-c94b-44ba-83bb-ab82cb20e3a5",
   "metadata": {},
   "outputs": [],
   "source": [
    "9. What are the methods for right-justifying, left-justifying, and centering a string?\n",
    "\n",
    "-->\n",
    "    The rjust(), ljust(), and center() string methods, respectively"
   ]
  },
  {
   "cell_type": "code",
   "execution_count": null,
   "id": "61dace13-8eb1-451d-8a21-0cd78361fe87",
   "metadata": {},
   "outputs": [],
   "source": [
    "10. What is the best way to remove whitespace characters from the start or end?\n",
    "\n",
    "-->\n",
    "    The lstrip() and rstrip() methods remove whitespace from the left and right ends of a string, respectively."
   ]
  }
 ],
 "metadata": {
  "kernelspec": {
   "display_name": "Python 3 (ipykernel)",
   "language": "python",
   "name": "python3"
  },
  "language_info": {
   "codemirror_mode": {
    "name": "ipython",
    "version": 3
   },
   "file_extension": ".py",
   "mimetype": "text/x-python",
   "name": "python",
   "nbconvert_exporter": "python",
   "pygments_lexer": "ipython3",
   "version": "3.10.6"
  }
 },
 "nbformat": 4,
 "nbformat_minor": 5
}
